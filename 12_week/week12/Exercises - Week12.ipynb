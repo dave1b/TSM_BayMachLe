{
 "cells": [
  {
   "cell_type": "markdown",
   "id": "f2a808a9",
   "metadata": {},
   "source": [
    "# Exercises Week 12: Bayesian Network and Causal Inference "
   ]
  },
  {
   "cell_type": "markdown",
   "id": "0f272ee1-c638-4cdd-90ab-21f2fdb8efa8",
   "metadata": {},
   "source": [
    "### Learning Goals:\n",
    "\n",
    "After completing this lab exercise, you should be able to:\n",
    "\n",
    "- verify Backdoor criterion to a Causal Bayesian Network\n",
    "- analyze a Bayesian Network that exhibits Simpson's Paradox. \n",
    "\n",
    "**Note:** Tasks 1 and 2 can be solved with `pgmpy`.\n",
    "\n",
    "This assignment consists of 2 tasks."
   ]
  },
  {
   "cell_type": "markdown",
   "id": "df5dbb00-8eaf-470a-8c79-165cdb5f1c64",
   "metadata": {},
   "source": [
    "## Task 1 - Backdoor Criterion - Causal Games"
   ]
  },
  {
   "cell_type": "markdown",
   "id": "d61ad4fa-5b28-4a95-8d8b-44e2975b8c67",
   "metadata": {},
   "source": [
    "Please go through all 5 games of the notebook `Backdoor Criterion - Causal Gamees.ipynb`, decide for each game whether the Backdoor criterion is fullfilled. Explain in detail the reasons. Verify your answer with the result of the pgmpy code."
   ]
  },
  {
   "cell_type": "markdown",
   "id": "eb72ccd0",
   "metadata": {},
   "source": [
    "## Task 2 - Simpson's paradox"
   ]
  },
  {
   "cell_type": "code",
   "execution_count": 2,
   "id": "97133256",
   "metadata": {
    "tags": []
   },
   "outputs": [],
   "source": [
    "from pgmpy.models import BayesianNetwork\n",
    "from pgmpy.inference import VariableElimination\n",
    "from pgmpy.factors.discrete import TabularCPD\n",
    "from pgmpy.inference import CausalInference"
   ]
  },
  {
   "cell_type": "markdown",
   "id": "ae5e7e98",
   "metadata": {},
   "source": [
    "### Model Definition\n",
    "\n",
    "In this exercise, you will analyze a Bayesian Network that exhibits Simpson's Paradox. The paradox occurs when a trend present in several groups reverses when the data is aggregated.\n",
    "\n",
    "The provided Bayesian Network models three variables:\n",
    "- \\( S \\): Gender (`m` or `f`)\n",
    "- \\( T \\): Treatment (`0` or `1`)\n",
    "- \\( C \\): Recovery (`0` or `1`)\n",
    "\n",
    "The relationships are defined as:\n",
    "- $ S \\rightarrow T \\rightarrow C$\n",
    "- $ S \\rightarrow C $"
   ]
  },
  {
   "cell_type": "markdown",
   "id": "0627ff29-3f6a-4ca4-b34d-1040c0dd127e",
   "metadata": {},
   "source": [
    "### Given Code\n",
    "\n",
    "Below is the code to construct and analyze the Bayesian Network:\n"
   ]
  },
  {
   "cell_type": "code",
   "execution_count": 3,
   "id": "20fbce7e",
   "metadata": {
    "tags": []
   },
   "outputs": [
    {
     "name": "stdout",
     "output_type": "stream",
     "text": [
      "Requirement already satisfied: daft in /opt/conda/lib/python3.10/site-packages (0.1.2)\n",
      "Requirement already satisfied: matplotlib in /opt/conda/lib/python3.10/site-packages (from daft) (3.9.1.post1)\n",
      "Requirement already satisfied: numpy in /opt/conda/lib/python3.10/site-packages (from daft) (1.26.4)\n",
      "Requirement already satisfied: setuptools in /opt/conda/lib/python3.10/site-packages (from daft) (67.7.2)\n",
      "Requirement already satisfied: contourpy>=1.0.1 in /opt/conda/lib/python3.10/site-packages (from matplotlib->daft) (1.2.1)\n",
      "Requirement already satisfied: cycler>=0.10 in /opt/conda/lib/python3.10/site-packages (from matplotlib->daft) (0.12.1)\n",
      "Requirement already satisfied: fonttools>=4.22.0 in /opt/conda/lib/python3.10/site-packages (from matplotlib->daft) (4.54.1)\n",
      "Requirement already satisfied: kiwisolver>=1.3.1 in /opt/conda/lib/python3.10/site-packages (from matplotlib->daft) (1.4.7)\n",
      "Requirement already satisfied: packaging>=20.0 in /opt/conda/lib/python3.10/site-packages (from matplotlib->daft) (23.1)\n",
      "Requirement already satisfied: pillow>=8 in /opt/conda/lib/python3.10/site-packages (from matplotlib->daft) (8.3.2)\n",
      "Requirement already satisfied: pyparsing>=2.3.1 in /opt/conda/lib/python3.10/site-packages (from matplotlib->daft) (3.2.0)\n",
      "Requirement already satisfied: python-dateutil>=2.7 in /opt/conda/lib/python3.10/site-packages (from matplotlib->daft) (2.8.2)\n",
      "Requirement already satisfied: six>=1.5 in /opt/conda/lib/python3.10/site-packages (from python-dateutil>=2.7->matplotlib->daft) (1.16.0)\n"
     ]
    },
    {
     "name": "stderr",
     "output_type": "stream",
     "text": [
      "WARNING:matplotlib.font_manager:Matplotlib is building the font cache; this may take a moment.\n",
      "INFO:matplotlib.font_manager:generated new fontManager\n"
     ]
    },
    {
     "data": {
      "text/plain": [
       "<Axes: >"
      ]
     },
     "execution_count": 3,
     "metadata": {},
     "output_type": "execute_result"
    },
    {
     "data": {
      "image/png": "[encoded data removed]",
      "text/plain": [
       "<Figure size 212.598x133.858 with 1 Axes>"
      ]
     },
     "metadata": {},
     "output_type": "display_data"
    }
   ],
   "source": [
    "!pip install daft\n",
    "simp_model = BayesianNetwork([(\"S\", \"T\"), (\"T\", \"C\"), (\"S\", \"C\")])\n",
    "simp_model.to_daft(node_pos={\"T\": (0, 0), \"C\": (2, 0), \"S\": (1, 1)}).render()"
   ]
  },
  {
   "cell_type": "code",
   "execution_count": 4,
   "id": "0f3d089a",
   "metadata": {
    "tags": []
   },
   "outputs": [],
   "source": [
    "cpd_s = TabularCPD(\n",
    "    variable=\"S\", variable_card=2, values=[[0.5], [0.5]], state_names={\"S\": [\"m\", \"f\"]}\n",
    ")\n",
    "cpd_t = TabularCPD(\n",
    "    variable=\"T\",\n",
    "    variable_card=2,\n",
    "    values=[[0.25, 0.75], [0.75, 0.25]],\n",
    "    evidence=[\"S\"],\n",
    "    evidence_card=[2],\n",
    "    state_names={\"S\": [\"m\", \"f\"], \"T\": [0, 1]},\n",
    ")\n",
    "cpd_c = TabularCPD(\n",
    "    variable=\"C\",\n",
    "    variable_card=2,\n",
    "    values=[[0.3, 0.4, 0.7, 0.8], [0.7, 0.6, 0.3, 0.2]],\n",
    "    evidence=[\"S\", \"T\"],\n",
    "    evidence_card=[2, 2],\n",
    "    state_names={\"S\": [\"m\", \"f\"], \"T\": [0, 1], \"C\": [0, 1]},\n",
    ")\n",
    "\n",
    "simp_model.add_cpds(cpd_s, cpd_t, cpd_c)"
   ]
  },
  {
   "cell_type": "markdown",
   "id": "84d92614",
   "metadata": {},
   "source": [
    "### Inference conditioning on T"
   ]
  },
  {
   "cell_type": "code",
   "execution_count": 5,
   "id": "fc163a22",
   "metadata": {
    "tags": []
   },
   "outputs": [
    {
     "name": "stdout",
     "output_type": "stream",
     "text": [
      "+------+----------+\n",
      "| C    |   phi(C) |\n",
      "+======+==========+\n",
      "| C(0) |   0.5000 |\n",
      "+------+----------+\n",
      "| C(1) |   0.5000 |\n",
      "+------+----------+\n",
      "+------+----------+\n",
      "| C    |   phi(C) |\n",
      "+======+==========+\n",
      "| C(0) |   0.6000 |\n",
      "+------+----------+\n",
      "| C(1) |   0.4000 |\n",
      "+------+----------+\n"
     ]
    }
   ],
   "source": [
    "# Non adjusted inference\n",
    "infer_non_adjust = VariableElimination(simp_model)\n",
    "print(infer_non_adjust.query(variables=[\"C\"], evidence={\"T\": 1}))\n",
    "print(infer_non_adjust.query(variables=[\"C\"], evidence={\"T\": 0}))"
   ]
  },
  {
   "cell_type": "markdown",
   "id": "af285fcc",
   "metadata": {},
   "source": [
    "### Inference with do-operation on T"
   ]
  },
  {
   "cell_type": "code",
   "execution_count": 6,
   "id": "9b2d4fa7",
   "metadata": {
    "tags": []
   },
   "outputs": [
    {
     "data": {
      "application/vnd.jupyter.widget-view+json": {
       "model_id": "4c17ac2fdeab4e20b779891276b7fbf0",
       "version_major": 2,
       "version_minor": 0
      },
      "text/plain": [
       "  0%|          | 0/2 [00:00<?, ?it/s]"
      ]
     },
     "metadata": {},
     "output_type": "display_data"
    },
    {
     "name": "stdout",
     "output_type": "stream",
     "text": [
      "+------+----------+\n",
      "| C    |   phi(C) |\n",
      "+======+==========+\n",
      "| C(0) |   0.6000 |\n",
      "+------+----------+\n",
      "| C(1) |   0.4000 |\n",
      "+------+----------+\n"
     ]
    },
    {
     "data": {
      "application/vnd.jupyter.widget-view+json": {
       "model_id": "39ca6f42e4614b348a194d8f517c9729",
       "version_major": 2,
       "version_minor": 0
      },
      "text/plain": [
       "  0%|          | 0/2 [00:00<?, ?it/s]"
      ]
     },
     "metadata": {},
     "output_type": "display_data"
    },
    {
     "name": "stdout",
     "output_type": "stream",
     "text": [
      "+------+----------+\n",
      "| C    |   phi(C) |\n",
      "+======+==========+\n",
      "| C(0) |   0.5000 |\n",
      "+------+----------+\n",
      "| C(1) |   0.5000 |\n",
      "+------+----------+\n"
     ]
    }
   ],
   "source": [
    "infer_adjusted = CausalInference(simp_model)\n",
    "print(infer_adjusted.query(variables=[\"C\"], do={\"T\": 1}))\n",
    "print(infer_adjusted.query(variables=[\"C\"], do={\"T\": 0}))"
   ]
  },
  {
   "cell_type": "markdown",
   "id": "e40cb0a2-8537-49bc-aa1d-d022cbb8486d",
   "metadata": {},
   "source": [
    "\n",
    "\n",
    "**Task 1. Causal Graph**\n",
    "(a) Draw the causal graph represented by the code.  \n",
    "(b) Explain the relationships between variables \\( S \\), \\( T \\), and \\( C \\) in the context of the model.\n",
    "\n",
    "**Task 2. Unadjusted Probability:**\n",
    "Run the code provided to compute \\( P(C | T = 1) \\). What does this probability represent? How does it account for the influence of \\( S \\)?\n",
    "\n",
    "**Task 3. Interventional Probability:**\n",
    "Using the \"do\" operator, compute \\( P(C | do(T = 1)) \\). Explain how this result differs from the unadjusted probability and why it avoids Simpson's Paradox.\n",
    "\n",
    "**Task 4. Interpretation:**\n",
    "(a) Compare and interpret the results of \\( P(C | T = 1) \\) and \\( P(C | do(T = 1)) \\).  \n",
    "(b) Discuss the importance of causal inference techniques in resolving paradoxes like Simpson's."
   ]
  },
  {
   "cell_type": "markdown",
   "id": "64b87d7b",
   "metadata": {},
   "source": [
    "## Specifying adjustment sets"
   ]
  },
  {
   "cell_type": "code",
   "execution_count": 7,
   "id": "8b924b5d",
   "metadata": {
    "tags": []
   },
   "outputs": [
    {
     "data": {
      "text/plain": [
       "<Axes: >"
      ]
     },
     "execution_count": 7,
     "metadata": {},
     "output_type": "execute_result"
    },
    {
     "data": {
      "image/png": "[encoded data removed]",
      "text/plain": [
       "<Figure size 212.598x212.598 with 1 Axes>"
      ]
     },
     "metadata": {},
     "output_type": "display_data"
    }
   ],
   "source": [
    "model = BayesianNetwork([(\"X\", \"Y\"), (\"Z\", \"X\"), (\"Z\", \"W\"), (\"W\", \"Y\")])\n",
    "cpd_z = TabularCPD(variable=\"Z\", variable_card=2, values=[[0.2], [0.8]])\n",
    "\n",
    "cpd_x = TabularCPD(\n",
    "    variable=\"X\",\n",
    "    variable_card=2,\n",
    "    values=[[0.1, 0.3], [0.9, 0.7]],\n",
    "    evidence=[\"Z\"],\n",
    "    evidence_card=[2],\n",
    ")\n",
    "\n",
    "cpd_w = TabularCPD(\n",
    "    variable=\"W\",\n",
    "    variable_card=2,\n",
    "    values=[[0.2, 0.9], [0.8, 0.1]],\n",
    "    evidence=[\"Z\"],\n",
    "    evidence_card=[2],\n",
    ")\n",
    "\n",
    "cpd_y = TabularCPD(\n",
    "    variable=\"Y\",\n",
    "    variable_card=2,\n",
    "    values=[[0.3, 0.4, 0.7, 0.8], [0.7, 0.6, 0.3, 0.2]],\n",
    "    evidence=[\"X\", \"W\"],\n",
    "    evidence_card=[2, 2],\n",
    ")\n",
    "\n",
    "model.add_cpds(cpd_z, cpd_x, cpd_w, cpd_y)\n",
    "\n",
    "model.to_daft(node_pos={\"X\": (0, 0), \"Y\": (2, 0), \"Z\": (0, 2), \"W\": (2, 2)}).render()"
   ]
  },
  {
   "cell_type": "code",
   "execution_count": 8,
   "id": "c0b2e092",
   "metadata": {
    "tags": []
   },
   "outputs": [
    {
     "data": {
      "application/vnd.jupyter.widget-view+json": {
       "model_id": "381a4845fcb84f81be3ae925c5c74a48",
       "version_major": 2,
       "version_minor": 0
      },
      "text/plain": [
       "  0%|          | 0/2 [00:00<?, ?it/s]"
      ]
     },
     "metadata": {},
     "output_type": "display_data"
    },
    {
     "name": "stdout",
     "output_type": "stream",
     "text": [
      "+------+----------+\n",
      "| Y    |   phi(Y) |\n",
      "+======+==========+\n",
      "| Y(0) |   0.7240 |\n",
      "+------+----------+\n",
      "| Y(1) |   0.2760 |\n",
      "+------+----------+\n"
     ]
    },
    {
     "data": {
      "application/vnd.jupyter.widget-view+json": {
       "model_id": "c80fdde4361e4dcea823a7845800fcc7",
       "version_major": 2,
       "version_minor": 0
      },
      "text/plain": [
       "  0%|          | 0/2 [00:00<?, ?it/s]"
      ]
     },
     "metadata": {},
     "output_type": "display_data"
    },
    {
     "name": "stdout",
     "output_type": "stream",
     "text": [
      "+------+----------+\n",
      "| Y    |   phi(Y) |\n",
      "+======+==========+\n",
      "| Y(0) |   0.7240 |\n",
      "+------+----------+\n",
      "| Y(1) |   0.2760 |\n",
      "+------+----------+\n"
     ]
    },
    {
     "data": {
      "application/vnd.jupyter.widget-view+json": {
       "model_id": "924ebfd7963e40d4a33d8b79f9449734",
       "version_major": 2,
       "version_minor": 0
      },
      "text/plain": [
       "  0%|          | 0/4 [00:00<?, ?it/s]"
      ]
     },
     "metadata": {},
     "output_type": "display_data"
    },
    {
     "name": "stdout",
     "output_type": "stream",
     "text": [
      "+------+----------+\n",
      "| Y    |   phi(Y) |\n",
      "+======+==========+\n",
      "| Y(0) |   0.7240 |\n",
      "+------+----------+\n",
      "| Y(1) |   0.2760 |\n",
      "+------+----------+\n"
     ]
    },
    {
     "data": {
      "application/vnd.jupyter.widget-view+json": {
       "model_id": "24967523caa846579910b909341492f3",
       "version_major": 2,
       "version_minor": 0
      },
      "text/plain": [
       "  0%|          | 0/2 [00:00<?, ?it/s]"
      ]
     },
     "metadata": {},
     "output_type": "display_data"
    },
    {
     "name": "stdout",
     "output_type": "stream",
     "text": [
      "+------+----------+\n",
      "| C    |   phi(C) |\n",
      "+======+==========+\n",
      "| C(0) |   0.6000 |\n",
      "+------+----------+\n",
      "| C(1) |   0.4000 |\n",
      "+------+----------+\n"
     ]
    }
   ],
   "source": [
    "# Do operation with a specified adjustment set.\n",
    "infer = CausalInference(model)\n",
    "do_X_W = infer.query([\"Y\"], do={\"X\": 1}, adjustment_set=[\"W\"])\n",
    "print(do_X_W)\n",
    "\n",
    "do_X_Z = infer.query([\"Y\"], do={\"X\": 1}, adjustment_set=[\"Z\"])\n",
    "print(do_X_Z)\n",
    "\n",
    "do_X_WZ = infer.query([\"Y\"], do={\"X\": 1}, adjustment_set=[\"W\", \"Z\"])\n",
    "print(do_X_WZ)\n",
    "\n",
    "infer_simp = CausalInference(simp_model)\n",
    "do_simpson = infer_simp.query([\"C\"], do={\"T\": 1}, adjustment_set=[\"S\"])\n",
    "print(do_simpson)"
   ]
  },
  {
   "cell_type": "code",
   "execution_count": 9,
   "id": "98ea8930",
   "metadata": {
    "tags": []
   },
   "outputs": [
    {
     "name": "stdout",
     "output_type": "stream",
     "text": [
      "+------+----------+\n",
      "| Y    |   phi(Y) |\n",
      "+======+==========+\n",
      "| Y(0) |   0.6200 |\n",
      "+------+----------+\n",
      "| Y(1) |   0.3800 |\n",
      "+------+----------+\n",
      "+------+----------+\n",
      "| Y    |   phi(Y) |\n",
      "+======+==========+\n",
      "| Y(0) |   0.6200 |\n",
      "+------+----------+\n",
      "| Y(1) |   0.3800 |\n",
      "+------+----------+\n",
      "+------+----------+\n",
      "| Y    |   phi(Y) |\n",
      "+======+==========+\n",
      "| Y(0) |   0.6200 |\n",
      "+------+----------+\n",
      "| Y(1) |   0.3800 |\n",
      "+------+----------+\n",
      "+------+----------+\n",
      "| C    |   phi(C) |\n",
      "+======+==========+\n",
      "| C(0) |   0.5500 |\n",
      "+------+----------+\n",
      "| C(1) |   0.4500 |\n",
      "+------+----------+\n"
     ]
    }
   ],
   "source": [
    "# Adjustment without do operation.\n",
    "infer = CausalInference(model)\n",
    "adj_W = infer.query([\"Y\"], adjustment_set=[\"W\"])\n",
    "print(adj_W)\n",
    "\n",
    "adj_Z = infer.query([\"Y\"], adjustment_set=[\"Z\"])\n",
    "print(adj_Z)\n",
    "\n",
    "adj_WZ = infer.query([\"Y\"], adjustment_set=[\"W\", \"Z\"])\n",
    "print(adj_WZ)\n",
    "\n",
    "infer_simp = CausalInference(simp_model)\n",
    "adj_simpson = infer_simp.query([\"C\"], adjustment_set=[\"S\"])\n",
    "print(adj_simpson)"
   ]
  }
 ],
 "metadata": {
  "kernelspec": {
   "display_name": "Python 3 (ipykernel)",
   "language": "python",
   "name": "python3"
  },
  "language_info": {
   "codemirror_mode": {
    "name": "ipython",
    "version": 3
   },
   "file_extension": ".py",
   "mimetype": "text/x-python",
   "name": "python",
   "nbconvert_exporter": "python",
   "pygments_lexer": "ipython3",
   "version": "3.10.11"
  }
 },
 "nbformat": 4,
 "nbformat_minor": 5
}
