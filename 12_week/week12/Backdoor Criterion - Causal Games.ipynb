{
 "cells": [
  {
   "cell_type": "markdown",
   "metadata": {
    "colab_type": "text",
    "id": "view-in-github"
   },
   "source": [
    "<a href=\"https://colab.research.google.com/github/mrklees/pgmpy/blob/feature%2Fcausalmodel/examples/Causal_Games.ipynb\" target=\"_parent\"><img src=\"https://colab.research.google.com/assets/colab-badge.svg\" alt=\"Open In Colab\"/></a>"
   ]
  },
  {
   "cell_type": "markdown",
   "metadata": {
    "colab_type": "text",
    "id": "qR-vG2CF4jaz"
   },
   "source": [
    "# Backdoor Paths - Causal Games\n",
    "\n",
    "\n",
    "This particular notebook walks through the 5 games that used as examples for building intuition about backdoor paths in *The Book of Why* by Judea Peal. They should help to develop some useful intuitions about backdoor paths. \n",
    "\n",
    "## Objective of the Games\n",
    "\n",
    "For each game we get a causal graph, and our goal is to identify the set of deconfounders (often denoted $Z$) which will close all backdoor paths from nodes $X$ to $Y$. "
   ]
  },
  {
   "cell_type": "code",
   "execution_count": 16,
   "metadata": {
    "cellView": "both",
    "colab": {
     "base_uri": "https://localhost:8080/",
     "height": 51
    },
    "colab_type": "code",
    "id": "EkFVGD3Tv7ma",
    "outputId": "a3fd160d-dcdf-4495-e8ea-e5b3aedadaf5",
    "tags": []
   },
   "outputs": [],
   "source": [
    "import sys\n",
    "\n",
    "!pip3 install -q daft\n",
    "import matplotlib.pyplot as plt\n",
    "\n",
    "%matplotlib inline\n",
    "import daft\n",
    "from daft import PGM\n",
    "\n",
    "# We can now import the development version of pgmpy\n",
    "from pgmpy.models.BayesianModel import BayesianNetwork\n",
    "from pgmpy.inference.CausalInference import CausalInference\n",
    "\n",
    "\n",
    "def convert_pgm_to_pgmpy(pgm):\n",
    "    \"\"\"Takes a Daft PGM object and converts it to a pgmpy BayesianNetwork\"\"\"\n",
    "    edges = [(edge.node1.name, edge.node2.name) for edge in pgm._edges]\n",
    "    model = BayesianNetwork(edges)\n",
    "    return model"
   ]
  },
  {
   "cell_type": "code",
   "execution_count": 17,
   "metadata": {
    "cellView": "form",
    "colab": {
     "base_uri": "https://localhost:8080/",
     "height": 201
    },
    "colab_type": "code",
    "id": "P90trQAQ7Clc",
    "outputId": "2e62d5b8-de0e-4e28-b14d-5c03bcd1ab61",
    "tags": []
   },
   "outputs": [
    {
     "data": {
      "image/png": "[encoded data removed]",
      "text/plain": [
       "<Figure size 314.961x236.22 with 1 Axes>"
      ]
     },
     "metadata": {},
     "output_type": "display_data"
    }
   ],
   "source": [
    "# @title # Game 1\n",
    "# @markdown While this is a \"trivial\" example, many statisticians would consider including either or both A and B in their models \"just for good measure\".  Notice though how controlling for A would close off the path of causal information from X to Y, actually *impeding* your effort to measure that effect.\n",
    "pgm = PGM(shape=[4, 3])\n",
    "\n",
    "pgm.add_node(daft.Node(\"X\", r\"X\", 1, 2))\n",
    "pgm.add_node(daft.Node(\"Y\", r\"Y\", 3, 2))\n",
    "pgm.add_node(daft.Node(\"A\", r\"A\", 2, 2))\n",
    "pgm.add_node(daft.Node(\"B\", r\"B\", 2, 1))\n",
    "\n",
    "\n",
    "pgm.add_edge(\"X\", \"A\")\n",
    "pgm.add_edge(\"A\", \"Y\")\n",
    "pgm.add_edge(\"A\", \"B\")\n",
    "\n",
    "pgm.render()\n",
    "plt.show()"
   ]
  },
  {
   "cell_type": "code",
   "execution_count": 18,
   "metadata": {
    "cellView": "both",
    "colab": {
     "base_uri": "https://localhost:8080/",
     "height": 51
    },
    "colab_type": "code",
    "id": "yQyYJEC83ODX",
    "outputId": "07597081-bbec-4209-db8f-b731de34ae3a",
    "tags": []
   },
   "outputs": [
    {
     "name": "stdout",
     "output_type": "stream",
     "text": [
      "Are there are active backdoor paths? False\n",
      "If so, what's the possible backdoor adjustment sets? frozenset()\n"
     ]
    }
   ],
   "source": [
    "# @markdown Notice how there are no nodes with arrows pointing into X.  Said another way, X has no parents.  Therefore, there can't be any backdoor paths confounding X and Y.  pgmpy will confirm this in the following way:\n",
    "game1 = convert_pgm_to_pgmpy(pgm)\n",
    "inference1 = CausalInference(game1)\n",
    "print(\n",
    "    f\"Are there are active backdoor paths? {not inference1.is_valid_backdoor_adjustment_set('X', 'Y')}\"\n",
    ")\n",
    "adj_sets = inference1.get_all_backdoor_adjustment_sets(\"X\", \"Y\")\n",
    "print(f\"If so, what's the possible backdoor adjustment sets? {adj_sets}\")"
   ]
  },
  {
   "cell_type": "code",
   "execution_count": 4,
   "metadata": {
    "cellView": "form",
    "colab": {
     "base_uri": "https://localhost:8080/",
     "height": 258
    },
    "colab_type": "code",
    "id": "b5RJ0UsH_kQ4",
    "outputId": "3e4f9430-fca7-40d4-f8b3-ffd241c6a8f8",
    "tags": []
   },
   "outputs": [
    {
     "data": {
      "image/png": "[encoded data removed]",
      "text/plain": [
       "<Figure size 314.961x314.961 with 1 Axes>"
      ]
     },
     "metadata": {},
     "output_type": "display_data"
    }
   ],
   "source": [
    "# @title # Game 2\n",
    "# @markdown This graph looks harder, but actualy is also trivial to solve.  The key is noticing the one backdoor path, which goes from X <- A -> B <- D -> E -> Y, has a collider at B (or a 'V structure'), and therefore the backdoor path is closed.\n",
    "pgm = PGM(shape=[4, 4])\n",
    "\n",
    "pgm.add_node(daft.Node(\"X\", r\"X\", 1, 1))\n",
    "pgm.add_node(daft.Node(\"Y\", r\"Y\", 3, 1))\n",
    "pgm.add_node(daft.Node(\"A\", r\"A\", 1, 3))\n",
    "pgm.add_node(daft.Node(\"B\", r\"B\", 2, 3))\n",
    "pgm.add_node(daft.Node(\"C\", r\"C\", 3, 3))\n",
    "pgm.add_node(daft.Node(\"D\", r\"D\", 2, 2))\n",
    "pgm.add_node(daft.Node(\"E\", r\"E\", 2, 1))\n",
    "\n",
    "\n",
    "pgm.add_edge(\"X\", \"E\")\n",
    "pgm.add_edge(\"A\", \"X\")\n",
    "pgm.add_edge(\"A\", \"B\")\n",
    "pgm.add_edge(\"B\", \"C\")\n",
    "pgm.add_edge(\"D\", \"B\")\n",
    "pgm.add_edge(\"D\", \"E\")\n",
    "pgm.add_edge(\"E\", \"Y\")\n",
    "\n",
    "pgm.render()\n",
    "plt.show()"
   ]
  },
  {
   "cell_type": "code",
   "execution_count": 5,
   "metadata": {
    "colab": {
     "base_uri": "https://localhost:8080/",
     "height": 51
    },
    "colab_type": "code",
    "id": "2d6Ezs6PDDON",
    "outputId": "c597c0df-3271-4e8e-9a68-3200c7f105a5",
    "tags": []
   },
   "outputs": [
    {
     "name": "stdout",
     "output_type": "stream",
     "text": [
      "Are there are active backdoor paths? False\n",
      "If so, what's the possible backdoor adjustment sets? frozenset()\n"
     ]
    }
   ],
   "source": [
    "graph = convert_pgm_to_pgmpy(pgm)\n",
    "inference = CausalInference(graph)\n",
    "print(\n",
    "    f\"Are there are active backdoor paths? {not inference.is_valid_backdoor_adjustment_set('X', 'Y')}\"\n",
    ")\n",
    "adj_sets = inference.get_all_backdoor_adjustment_sets(\"X\", \"Y\")\n",
    "print(f\"If so, what's the possible backdoor adjustment sets? {adj_sets}\")"
   ]
  },
  {
   "cell_type": "code",
   "execution_count": 6,
   "metadata": {
    "cellView": "form",
    "colab": {
     "base_uri": "https://localhost:8080/",
     "height": 258
    },
    "colab_type": "code",
    "id": "Pg6T2WA3DZ8n",
    "outputId": "5d79efd3-b8f7-46a8-dcf0-da2b7997be3c",
    "tags": []
   },
   "outputs": [
    {
     "data": {
      "image/png": "[encoded data removed]",
      "text/plain": [
       "<Figure size 314.961x314.961 with 1 Axes>"
      ]
     },
     "metadata": {},
     "output_type": "display_data"
    }
   ],
   "source": [
    "# @title # Game 3\n",
    "# @markdown This game actually requires some action.  Notice the backdoor path X <- B -> Y.  This is a confounding pattern, is one of the clearest signs that we'll need to control for something, in this case B.\n",
    "pgm = PGM(shape=[4, 4])\n",
    "\n",
    "pgm.add_node(daft.Node(\"X\", r\"X\", 1, 1))\n",
    "pgm.add_node(daft.Node(\"Y\", r\"Y\", 3, 1))\n",
    "pgm.add_node(daft.Node(\"A\", r\"A\", 2, 1.75))\n",
    "pgm.add_node(daft.Node(\"B\", r\"B\", 2, 3))\n",
    "\n",
    "\n",
    "pgm.add_edge(\"X\", \"Y\")\n",
    "pgm.add_edge(\"X\", \"A\")\n",
    "pgm.add_edge(\"B\", \"A\")\n",
    "pgm.add_edge(\"B\", \"X\")\n",
    "pgm.add_edge(\"B\", \"Y\")\n",
    "\n",
    "pgm.render()\n",
    "plt.show()"
   ]
  },
  {
   "cell_type": "code",
   "execution_count": 7,
   "metadata": {
    "colab": {
     "base_uri": "https://localhost:8080/",
     "height": 51
    },
    "colab_type": "code",
    "id": "l0GI2mM3WQeI",
    "outputId": "7ca879e8-e678-42d9-9d03-404ffb67c51c",
    "tags": []
   },
   "outputs": [
    {
     "name": "stdout",
     "output_type": "stream",
     "text": [
      "Are there are active backdoor paths? True\n",
      "If so, what's the possible backdoor adjustment sets? frozenset({frozenset({'B'})})\n"
     ]
    }
   ],
   "source": [
    "graph = convert_pgm_to_pgmpy(pgm)\n",
    "inference = CausalInference(graph)\n",
    "print(\n",
    "    f\"Are there are active backdoor paths? {not inference.is_valid_backdoor_adjustment_set('X', 'Y')}\"\n",
    ")\n",
    "adj_sets = inference.get_all_backdoor_adjustment_sets(\"X\", \"Y\")\n",
    "print(f\"If so, what's the possible backdoor adjustment sets? {adj_sets}\")"
   ]
  },
  {
   "cell_type": "code",
   "execution_count": 8,
   "metadata": {
    "cellView": "form",
    "colab": {
     "base_uri": "https://localhost:8080/",
     "height": 258
    },
    "colab_type": "code",
    "id": "XP2ORZw8EtyZ",
    "outputId": "9f267191-b408-483b-87d9-754c949a7d72",
    "tags": []
   },
   "outputs": [
    {
     "data": {
      "image/png": "[encoded data removed]",
      "text/plain": [
       "<Figure size 314.961x314.961 with 1 Axes>"
      ]
     },
     "metadata": {},
     "output_type": "display_data"
    }
   ],
   "source": [
    "# @title # Game 4\n",
    "# @markdown Pearl named this particular configuration \"M Bias\", not only because of it's shape, but also because of the common practice of statisticians to want to control for B in many situations.  However, notice how in this configuration X and Y start out as *not confounded* and how by controlling for B we would actually introduce confounding by opening the path at the collider, B.\n",
    "pgm = PGM(shape=[4, 4])\n",
    "\n",
    "pgm.add_node(daft.Node(\"X\", r\"X\", 1, 1))\n",
    "pgm.add_node(daft.Node(\"Y\", r\"Y\", 3, 1))\n",
    "pgm.add_node(daft.Node(\"A\", r\"A\", 1, 3))\n",
    "pgm.add_node(daft.Node(\"B\", r\"B\", 2, 2))\n",
    "pgm.add_node(daft.Node(\"C\", r\"C\", 3, 3))\n",
    "\n",
    "\n",
    "pgm.add_edge(\"A\", \"X\")\n",
    "pgm.add_edge(\"A\", \"B\")\n",
    "pgm.add_edge(\"C\", \"B\")\n",
    "pgm.add_edge(\"C\", \"Y\")\n",
    "\n",
    "pgm.render()\n",
    "plt.show()"
   ]
  },
  {
   "cell_type": "code",
   "execution_count": 9,
   "metadata": {
    "colab": {
     "base_uri": "https://localhost:8080/",
     "height": 51
    },
    "colab_type": "code",
    "id": "CBaGzLKSFmnQ",
    "outputId": "95c1c6a5-dbe3-4768-8f37-94d9547e9db6",
    "tags": []
   },
   "outputs": [
    {
     "name": "stdout",
     "output_type": "stream",
     "text": [
      "Are there are active backdoor paths? False\n",
      "If so, what's the possible backdoor adjustment sets? frozenset()\n"
     ]
    }
   ],
   "source": [
    "graph = convert_pgm_to_pgmpy(pgm)\n",
    "inference = CausalInference(graph)\n",
    "print(\n",
    "    f\"Are there are active backdoor paths? {not inference.is_valid_backdoor_adjustment_set('X', 'Y')}\"\n",
    ")\n",
    "adj_sets = inference.get_all_backdoor_adjustment_sets(\"X\", \"Y\")\n",
    "print(f\"If so, what's the possible backdoor adjustment sets? {adj_sets}\")"
   ]
  },
  {
   "cell_type": "code",
   "execution_count": 10,
   "metadata": {
    "cellView": "form",
    "colab": {
     "base_uri": "https://localhost:8080/",
     "height": 258
    },
    "colab_type": "code",
    "id": "ZAbSVPvZFxZH",
    "outputId": "88a7fff6-0744-4dda-b5e9-8d93dcea84d7",
    "tags": []
   },
   "outputs": [
    {
     "data": {
      "image/png": "[encoded data removed]",
      "text/plain": [
       "<Figure size 314.961x314.961 with 1 Axes>"
      ]
     },
     "metadata": {},
     "output_type": "display_data"
    }
   ],
   "source": [
    "# @title # Game 5\n",
    "# @markdown This is the last game in The Book of Why is the most complex.  In this case we have two backdoor paths, one going through A and the other through B, and it's important to notice that if we only control for B that the path: X <- A -> B <- C -> Y (which starts out as closed because B is a collider) actually is opened.  Therefore we have to either close both A and B or, as astute observers will notice, we can also just close C and completely close both backdoor paths.  pgmpy will nicely confirm these results for us.\n",
    "pgm = PGM(shape=[4, 4])\n",
    "\n",
    "pgm.add_node(daft.Node(\"X\", r\"X\", 1, 1))\n",
    "pgm.add_node(daft.Node(\"Y\", r\"Y\", 3, 1))\n",
    "pgm.add_node(daft.Node(\"A\", r\"A\", 1, 3))\n",
    "pgm.add_node(daft.Node(\"B\", r\"B\", 2, 2))\n",
    "pgm.add_node(daft.Node(\"C\", r\"C\", 3, 3))\n",
    "\n",
    "\n",
    "pgm.add_edge(\"A\", \"X\")\n",
    "pgm.add_edge(\"A\", \"B\")\n",
    "pgm.add_edge(\"C\", \"B\")\n",
    "pgm.add_edge(\"C\", \"Y\")\n",
    "pgm.add_edge(\"X\", \"Y\")\n",
    "pgm.add_edge(\"B\", \"X\")\n",
    "\n",
    "pgm.render()\n",
    "plt.show()"
   ]
  },
  {
   "cell_type": "code",
   "execution_count": 11,
   "metadata": {
    "colab": {
     "base_uri": "https://localhost:8080/",
     "height": 51
    },
    "colab_type": "code",
    "id": "IF1jYMq_eNHd",
    "outputId": "68bcc15d-c1aa-40c4-fb61-b400e7c31abe",
    "tags": []
   },
   "outputs": [
    {
     "name": "stdout",
     "output_type": "stream",
     "text": [
      "Are there are active backdoor paths? True\n",
      "If so, what's the possible backdoor adjustment sets? frozenset({frozenset({'C'}), frozenset({'A', 'B'})})\n"
     ]
    }
   ],
   "source": [
    "graph = convert_pgm_to_pgmpy(pgm)\n",
    "inference = CausalInference(graph)\n",
    "print(\n",
    "    f\"Are there are active backdoor paths? {not inference.is_valid_backdoor_adjustment_set('X', 'Y')}\"\n",
    ")\n",
    "adj_sets = inference.get_all_backdoor_adjustment_sets(\"X\", \"Y\")\n",
    "print(f\"If so, what's the possible backdoor adjustment sets? {adj_sets}\")"
   ]
  },
  {
   "cell_type": "code",
   "execution_count": 12,
   "metadata": {
    "cellView": "form",
    "colab": {
     "base_uri": "https://localhost:8080/",
     "height": 258
    },
    "colab_type": "code",
    "id": "dSjZqd5fHF06",
    "outputId": "05857131-230d-4dd9-88d0-25d4b800eb68",
    "tags": []
   },
   "outputs": [
    {
     "data": {
      "image/png": "[encoded data removed]",
      "text/plain": [
       "<Figure size 314.961x314.961 with 1 Axes>"
      ]
     },
     "metadata": {},
     "output_type": "display_data"
    }
   ],
   "source": [
    "# @title # Game 6\n",
    "# @markdown So these are no longer drawn from The Book of Why, but were either drawn from another source (which I will reference) or a developed to try to induce a specific bug.\n",
    "# @markdown This example is drawn from Causality by Pearl on p. 80. This example is kind of interesting because there are many possible combinations of nodes which will close the two backdoor paths which exist in this graph.  In turns out that D plus any other node in {A, B, C, E} will deconfound X and Y.\n",
    "\n",
    "pgm = PGM(shape=[4, 4])\n",
    "\n",
    "pgm.add_node(daft.Node(\"X\", r\"X\", 1, 1))\n",
    "pgm.add_node(daft.Node(\"Y\", r\"Y\", 3, 1))\n",
    "pgm.add_node(daft.Node(\"A\", r\"A\", 1, 3))\n",
    "pgm.add_node(daft.Node(\"B\", r\"B\", 3, 3))\n",
    "pgm.add_node(daft.Node(\"C\", r\"C\", 1, 2))\n",
    "pgm.add_node(daft.Node(\"D\", r\"D\", 2, 2))\n",
    "pgm.add_node(daft.Node(\"E\", r\"E\", 3, 2))\n",
    "pgm.add_node(daft.Node(\"F\", r\"F\", 2, 1))\n",
    "\n",
    "\n",
    "pgm.add_edge(\"X\", \"F\")\n",
    "pgm.add_edge(\"F\", \"Y\")\n",
    "pgm.add_edge(\"C\", \"X\")\n",
    "pgm.add_edge(\"A\", \"C\")\n",
    "pgm.add_edge(\"A\", \"D\")\n",
    "pgm.add_edge(\"D\", \"X\")\n",
    "pgm.add_edge(\"D\", \"Y\")\n",
    "pgm.add_edge(\"B\", \"D\")\n",
    "pgm.add_edge(\"B\", \"E\")\n",
    "pgm.add_edge(\"E\", \"Y\")\n",
    "\n",
    "pgm.render()\n",
    "plt.show()"
   ]
  },
  {
   "cell_type": "code",
   "execution_count": 13,
   "metadata": {
    "colab": {
     "base_uri": "https://localhost:8080/",
     "height": 68
    },
    "colab_type": "code",
    "id": "30OIiRt7raN2",
    "outputId": "4c285443-724c-4988-b9a6-2ad2fcf2654e",
    "tags": []
   },
   "outputs": [
    {
     "name": "stdout",
     "output_type": "stream",
     "text": [
      "Are there are active backdoor paths? True\n",
      "If so, what's the possible backdoor adjustment sets? frozenset({frozenset({'B', 'D'}), frozenset({'C', 'D'}), frozenset({'A', 'D'}), frozenset({'D', 'E'})})\n",
      "Ehat's the possible front adjustment sets? frozenset({frozenset({'F'})})\n"
     ]
    }
   ],
   "source": [
    "graph = convert_pgm_to_pgmpy(pgm)\n",
    "inference = CausalInference(graph)\n",
    "print(\n",
    "    f\"Are there are active backdoor paths? {not inference.is_valid_backdoor_adjustment_set('X', 'Y')}\"\n",
    ")\n",
    "bd_adj_sets = inference.get_all_backdoor_adjustment_sets(\"X\", \"Y\")\n",
    "print(f\"If so, what's the possible backdoor adjustment sets? {bd_adj_sets}\")\n",
    "fd_adj_sets = inference.get_all_frontdoor_adjustment_sets(\"X\", \"Y\")\n",
    "print(f\"Ehat's the possible front adjustment sets? {fd_adj_sets}\")"
   ]
  },
  {
   "cell_type": "code",
   "execution_count": 14,
   "metadata": {
    "cellView": "form",
    "colab": {
     "base_uri": "https://localhost:8080/",
     "height": 201
    },
    "colab_type": "code",
    "id": "Z4pkuyOwM9xq",
    "outputId": "82e581df-b378-423c-95bd-d16b901c5296",
    "tags": []
   },
   "outputs": [
    {
     "data": {
      "image/png": "[encoded data removed]",
      "text/plain": [
       "<Figure size 314.961x236.22 with 1 Axes>"
      ]
     },
     "metadata": {},
     "output_type": "display_data"
    }
   ],
   "source": [
    "# @title # Game 7\n",
    "# @markdown This game tests the front door adjustment.  B is taken to be unobserved, and therfore we cannot close the backdoor path X <- B -> Y.\n",
    "pgm = PGM(shape=[4, 3])\n",
    "\n",
    "pgm.add_node(daft.Node(\"X\", r\"X\", 1, 1))\n",
    "pgm.add_node(daft.Node(\"Y\", r\"Y\", 3, 1))\n",
    "pgm.add_node(daft.Node(\"A\", r\"A\", 2, 1))\n",
    "pgm.add_node(daft.Node(\"B\", r\"B\", 2, 2))\n",
    "\n",
    "\n",
    "pgm.add_edge(\"X\", \"A\")\n",
    "pgm.add_edge(\"A\", \"Y\")\n",
    "pgm.add_edge(\"B\", \"X\")\n",
    "pgm.add_edge(\"B\", \"Y\")\n",
    "\n",
    "pgm.render()\n",
    "plt.show()"
   ]
  },
  {
   "cell_type": "code",
   "execution_count": 15,
   "metadata": {
    "colab": {
     "base_uri": "https://localhost:8080/",
     "height": 68
    },
    "colab_type": "code",
    "id": "m8DZd_FQ4uLV",
    "outputId": "b73751d4-8aa9-4ec1-ba10-d509fe13c1a1",
    "tags": []
   },
   "outputs": [
    {
     "name": "stdout",
     "output_type": "stream",
     "text": [
      "Are there are active backdoor paths? True\n",
      "If so, what's the possible backdoor adjustment sets? frozenset({frozenset({'B'})})\n",
      "Ehat's the possible front adjustment sets? frozenset({frozenset({'A'})})\n"
     ]
    }
   ],
   "source": [
    "graph = convert_pgm_to_pgmpy(pgm)\n",
    "inference = CausalInference(graph)\n",
    "print(\n",
    "    f\"Are there are active backdoor paths? {not inference.is_valid_backdoor_adjustment_set('X', 'Y')}\"\n",
    ")\n",
    "bd_adj_sets = inference.get_all_backdoor_adjustment_sets(\"X\", \"Y\")\n",
    "print(f\"If so, what's the possible backdoor adjustment sets? {bd_adj_sets}\")\n",
    "fd_adj_sets = inference.get_all_frontdoor_adjustment_sets(\"X\", \"Y\")\n",
    "print(f\"Ehat's the possible front adjustment sets? {fd_adj_sets}\")"
   ]
  }
 ],
 "metadata": {
  "colab": {
   "collapsed_sections": [],
   "include_colab_link": true,
   "name": "Causal Games.ipynb",
   "provenance": [],
   "toc_visible": true,
   "version": "0.3.2"
  },
  "kernelspec": {
   "display_name": "Python 3 (ipykernel)",
   "language": "python",
   "name": "python3"
  },
  "language_info": {
   "codemirror_mode": {
    "name": "ipython",
    "version": 3
   },
   "file_extension": ".py",
   "mimetype": "text/x-python",
   "name": "python",
   "nbconvert_exporter": "python",
   "pygments_lexer": "ipython3",
   "version": "3.10.11"
  }
 },
 "nbformat": 4,
 "nbformat_minor": 4
}
