{
 "cells": [
  {
   "cell_type": "markdown",
   "id": "4bb940c2-adfe-48e5-a465-7d6c0752048b",
   "metadata": {},
   "source": [
    "# Model Selection"
   ]
  },
  {
   "cell_type": "markdown",
   "id": "df1dddf3-e5f9-4a1f-8a2d-8a6c88d22d6b",
   "metadata": {},
   "source": [
    "Import necessary modules:"
   ]
  },
  {
   "cell_type": "code",
   "execution_count": 1,
   "id": "c87c5605-5d5f-4491-8854-73c80a73954c",
   "metadata": {},
   "outputs": [
    {
     "name": "stderr",
     "output_type": "stream",
     "text": [
      "WARNING (pytensor.tensor.blas): Using NumPy C-API based implementation for BLAS functions.\n"
     ]
    }
   ],
   "source": [
    "import numpy as np\n",
    "import arviz as az\n",
    "import matplotlib.pyplot as plt\n",
    "import pandas as pd\n",
    "import seaborn as sns\n",
    "from scipy import stats\n",
    "from scipy.special import gamma\n",
    "import preliz as pz\n",
    "from tqdm.auto import tqdm\n",
    "import matplotlib as mpl\n",
    "import pymc as pm"
   ]
  },
  {
   "cell_type": "code",
   "execution_count": 2,
   "id": "13747b24-7ef3-434d-98ea-b72d66b519d6",
   "metadata": {},
   "outputs": [],
   "source": [
    "plt.style.use('ggplot')\n",
    "plt.rcParams[\"figure.figsize\"] = (12,3)"
   ]
  },
  {
   "cell_type": "markdown",
   "id": "5112df57-f17b-49d2-84be-cd6b3f001fe9",
   "metadata": {},
   "source": [
    "Data (from maternity ward example used in the lecture):"
   ]
  },
  {
   "cell_type": "code",
   "execution_count": 3,
   "id": "4f209ceb-1601-4c99-bb1e-8df8a9403e44",
   "metadata": {},
   "outputs": [],
   "source": [
    "y = np.array([ 7,  8,  3,  7, 11,  7,  9, 19,  7, 15,  9,  5, 12,  3,  7,  6,  5, 3, 11,  5])"
   ]
  },
  {
   "cell_type": "markdown",
   "id": "85f3c4a9-e7ae-4137-96d1-860d58fc8931",
   "metadata": {},
   "source": [
    "## Compute Bayes factor"
   ]
  },
  {
   "cell_type": "markdown",
   "id": "ab11745b-0dcd-428e-ab7d-21b0504b272b",
   "metadata": {},
   "source": [
    "Simulate posteriors with SMC (sequential Monte Carlo). This algorithm (that wasn't introduced) computes the log-predictive density along the way, as introduced [here](https://www.pymc.io/projects/examples/en/latest/diagnostics_and_criticism/Bayes_factor.html)."
   ]
  },
  {
   "cell_type": "code",
   "execution_count": 4,
   "id": "097bb725-cdb3-408f-8004-29e6ad60c3f3",
   "metadata": {},
   "outputs": [
    {
     "name": "stderr",
     "output_type": "stream",
     "text": [
      "Initializing SMC sampler...\n",
      "Sampling 4 chains in 4 jobs\n"
     ]
    },
    {
     "data": {
      "application/vnd.jupyter.widget-view+json": {
       "model_id": "3ea4d96e3d6f4b3ba1a12fe69dcc7460",
       "version_major": 2,
       "version_minor": 0
      },
      "text/plain": [
       "Output()"
      ]
     },
     "metadata": {},
     "output_type": "display_data"
    },
    {
     "data": {
      "text/html": [
       "<pre style=\"white-space:pre;overflow-x:auto;line-height:normal;font-family:Menlo,'DejaVu Sans Mono',consolas,'Courier New',monospace\"></pre>\n"
      ],
      "text/plain": []
     },
     "metadata": {},
     "output_type": "display_data"
    },
    {
     "data": {
      "text/html": [
       "<pre style=\"white-space:pre;overflow-x:auto;line-height:normal;font-family:Menlo,'DejaVu Sans Mono',consolas,'Courier New',monospace\">\n",
       "</pre>\n"
      ],
      "text/plain": [
       "\n"
      ]
     },
     "metadata": {},
     "output_type": "display_data"
    }
   ],
   "source": [
    "with pm.Model() as maternity_ward_model:\n",
    "    lbd = pm.Gamma( 'lbd', alpha=37.5, beta=2.5 )\n",
    "    y_obs = pm.Poisson( 'y_obs', mu=lbd, observed=y )\n",
    "    trace = pm.sample_smc( 1000, chains=4 )"
   ]
  },
  {
   "cell_type": "code",
   "execution_count": 5,
   "id": "b307c7b0-d6e6-43ea-afb9-437deba722fe",
   "metadata": {},
   "outputs": [
    {
     "name": "stderr",
     "output_type": "stream",
     "text": [
      "Initializing SMC sampler...\n",
      "Sampling 4 chains in 4 jobs\n"
     ]
    },
    {
     "data": {
      "application/vnd.jupyter.widget-view+json": {
       "model_id": "acabab89231848d5acec30daf4bb9f13",
       "version_major": 2,
       "version_minor": 0
      },
      "text/plain": [
       "Output()"
      ]
     },
     "metadata": {},
     "output_type": "display_data"
    },
    {
     "data": {
      "text/html": [
       "<pre style=\"white-space:pre;overflow-x:auto;line-height:normal;font-family:Menlo,'DejaVu Sans Mono',consolas,'Courier New',monospace\"></pre>\n"
      ],
      "text/plain": []
     },
     "metadata": {},
     "output_type": "display_data"
    },
    {
     "data": {
      "text/html": [
       "<pre style=\"white-space:pre;overflow-x:auto;line-height:normal;font-family:Menlo,'DejaVu Sans Mono',consolas,'Courier New',monospace\">\n",
       "</pre>\n"
      ],
      "text/plain": [
       "\n"
      ]
     },
     "metadata": {},
     "output_type": "display_data"
    }
   ],
   "source": [
    "with pm.Model() as maternity_ward_model2:\n",
    "    lbd = pm.Gamma( 'lbd', alpha=37.5, beta=2.5 )\n",
    "    alpha = pm.Gamma( 'alpha', alpha=2, beta=0.1 )\n",
    "    y_obs = pm.NegativeBinomial( 'y_obs', mu=lbd, alpha=alpha, observed=y )\n",
    "    trace2 = pm.sample_smc( 1000, chains=4 )"
   ]
  },
  {
   "cell_type": "markdown",
   "id": "61746c09-8e4f-4983-8adf-e10de7b7721e",
   "metadata": {},
   "source": [
    "Compute Bayes factor:"
   ]
  },
  {
   "cell_type": "code",
   "execution_count": 6,
   "id": "9484cc1f-1cd7-4bf1-b3ce-57f09a7dfcaf",
   "metadata": {},
   "outputs": [
    {
     "data": {
      "text/plain": [
       "19.651314844279735"
      ]
     },
     "execution_count": 6,
     "metadata": {},
     "output_type": "execute_result"
    }
   ],
   "source": [
    "lpd1 = trace.sample_stats.log_marginal_likelihood.mean().values\n",
    "lpd2 = trace2.sample_stats.log_marginal_likelihood.mean().values\n",
    "BF = np.exp( lpd2 - lpd1 )\n",
    "BF"
   ]
  },
  {
   "cell_type": "markdown",
   "id": "26289928-971d-4eaf-a87e-c7efc37b95b0",
   "metadata": {},
   "source": [
    "## Compute classical predictive metrics"
   ]
  },
  {
   "cell_type": "markdown",
   "id": "0fbfb247-f35c-4621-8a77-b00fa5036e56",
   "metadata": {},
   "source": [
    "Sample predictions:"
   ]
  },
  {
   "cell_type": "code",
   "execution_count": 7,
   "id": "8718b5c1-bdca-40ad-ba21-64193549767b",
   "metadata": {},
   "outputs": [
    {
     "name": "stderr",
     "output_type": "stream",
     "text": [
      "Sampling: [y_obs]\n"
     ]
    },
    {
     "data": {
      "application/vnd.jupyter.widget-view+json": {
       "model_id": "0b9945124bb24156a8673ae6329e536e",
       "version_major": 2,
       "version_minor": 0
      },
      "text/plain": [
       "Output()"
      ]
     },
     "metadata": {},
     "output_type": "display_data"
    },
    {
     "data": {
      "text/html": [
       "<pre style=\"white-space:pre;overflow-x:auto;line-height:normal;font-family:Menlo,'DejaVu Sans Mono',consolas,'Courier New',monospace\"></pre>\n"
      ],
      "text/plain": []
     },
     "metadata": {},
     "output_type": "display_data"
    },
    {
     "data": {
      "text/html": [
       "<pre style=\"white-space:pre;overflow-x:auto;line-height:normal;font-family:Menlo,'DejaVu Sans Mono',consolas,'Courier New',monospace\">\n",
       "</pre>\n"
      ],
      "text/plain": [
       "\n"
      ]
     },
     "metadata": {},
     "output_type": "display_data"
    },
    {
     "name": "stderr",
     "output_type": "stream",
     "text": [
      "Sampling: [y_obs]\n"
     ]
    },
    {
     "data": {
      "application/vnd.jupyter.widget-view+json": {
       "model_id": "b214f78082904cc1a465dd5ba2a221a5",
       "version_major": 2,
       "version_minor": 0
      },
      "text/plain": [
       "Output()"
      ]
     },
     "metadata": {},
     "output_type": "display_data"
    },
    {
     "data": {
      "text/html": [
       "<pre style=\"white-space:pre;overflow-x:auto;line-height:normal;font-family:Menlo,'DejaVu Sans Mono',consolas,'Courier New',monospace\"></pre>\n"
      ],
      "text/plain": []
     },
     "metadata": {},
     "output_type": "display_data"
    },
    {
     "data": {
      "text/html": [
       "<pre style=\"white-space:pre;overflow-x:auto;line-height:normal;font-family:Menlo,'DejaVu Sans Mono',consolas,'Courier New',monospace\">\n",
       "</pre>\n"
      ],
      "text/plain": [
       "\n"
      ]
     },
     "metadata": {},
     "output_type": "display_data"
    }
   ],
   "source": [
    "with maternity_ward_model:\n",
    "    ppc = pm.sample_posterior_predictive(trace)\n",
    "\n",
    "with maternity_ward_model2:\n",
    "    ppc2 = pm.sample_posterior_predictive(trace2)"
   ]
  },
  {
   "cell_type": "markdown",
   "id": "a47fc698-6a2d-4111-a962-a9bd08bf9f31",
   "metadata": {},
   "source": [
    "Reshape predictions such that broadcasted difference with $y$ is possible:"
   ]
  },
  {
   "cell_type": "code",
   "execution_count": 8,
   "id": "1cc44b46-f904-4e6b-938b-e4644754c9ab",
   "metadata": {},
   "outputs": [
    {
     "data": {
      "text/plain": [
       "((4000, 20), (4000, 20))"
      ]
     },
     "execution_count": 8,
     "metadata": {},
     "output_type": "execute_result"
    }
   ],
   "source": [
    "ypred1 = ppc.posterior_predictive.y_obs.values.reshape(-1,20)\n",
    "ypred2 = ppc2.posterior_predictive.y_obs.values.reshape(-1,20)\n",
    "ypred1.shape, ypred2.shape"
   ]
  },
  {
   "cell_type": "markdown",
   "id": "1847d938-c8f6-4d86-a921-2742dd0b459b",
   "metadata": {},
   "source": [
    "Compute differences:"
   ]
  },
  {
   "cell_type": "code",
   "execution_count": 9,
   "id": "f625986a-1b5f-4a1e-a2be-01cb7685272f",
   "metadata": {},
   "outputs": [],
   "source": [
    "eps1 = ypred1-y\n",
    "eps2 = ypred2-y"
   ]
  },
  {
   "cell_type": "markdown",
   "id": "0faceb42-eef1-42a0-a11b-c45d58ce316d",
   "metadata": {},
   "source": [
    "RMSE:"
   ]
  },
  {
   "cell_type": "code",
   "execution_count": 10,
   "id": "fda24ee5-d6ac-4c1c-9b5e-fb37975c27a8",
   "metadata": {},
   "outputs": [
    {
     "data": {
      "text/plain": [
       "(5.048197698188929, 6.2160477797391485)"
      ]
     },
     "execution_count": 10,
     "metadata": {},
     "output_type": "execute_result"
    }
   ],
   "source": [
    "rmse1 = np.sqrt(np.mean( eps1**2 ))\n",
    "rmse2 = np.sqrt(np.mean( eps2**2 ))\n",
    "rmse1, rmse2"
   ]
  },
  {
   "cell_type": "markdown",
   "id": "5595e651-e136-4ff0-9d8f-16bb0f8a6170",
   "metadata": {},
   "source": [
    "MAE:"
   ]
  },
  {
   "cell_type": "code",
   "execution_count": 11,
   "id": "c3207e78-dc43-42a4-b52b-1bfef516b118",
   "metadata": {},
   "outputs": [
    {
     "data": {
      "text/plain": [
       "(3.977975, 4.79945)"
      ]
     },
     "execution_count": 11,
     "metadata": {},
     "output_type": "execute_result"
    }
   ],
   "source": [
    "mae1 = np.mean( np.abs(eps1) )\n",
    "mae2 = np.mean( np.abs(eps2) )\n",
    "mae1, mae2"
   ]
  },
  {
   "cell_type": "markdown",
   "id": "3b129b32-9fdc-4554-8c67-8d828a6b508c",
   "metadata": {},
   "source": [
    "The predictions of the Poisson model are closer to the data!"
   ]
  },
  {
   "cell_type": "markdown",
   "id": "3be5fe66-1d3d-4293-982d-8e01e28e2e58",
   "metadata": {},
   "source": [
    "## Expected Log Predictive Density (ELPD)"
   ]
  },
  {
   "cell_type": "markdown",
   "id": "4587ffaa-2f07-478a-82de-b8d8f8248f21",
   "metadata": {},
   "source": [
    "Compute log-likelihoods and leave-one-out (LOO) cross validation estimates:"
   ]
  },
  {
   "cell_type": "code",
   "execution_count": 12,
   "id": "6e3b864d-487b-4713-b3e7-2c5afeddc813",
   "metadata": {},
   "outputs": [
    {
     "data": {
      "application/vnd.jupyter.widget-view+json": {
       "model_id": "c5c62fe4d39b47a6a08e958c62cfaa26",
       "version_major": 2,
       "version_minor": 0
      },
      "text/plain": [
       "Output()"
      ]
     },
     "metadata": {},
     "output_type": "display_data"
    },
    {
     "data": {
      "text/html": [
       "<pre style=\"white-space:pre;overflow-x:auto;line-height:normal;font-family:Menlo,'DejaVu Sans Mono',consolas,'Courier New',monospace\"></pre>\n"
      ],
      "text/plain": []
     },
     "metadata": {},
     "output_type": "display_data"
    },
    {
     "data": {
      "text/html": [
       "<pre style=\"white-space:pre;overflow-x:auto;line-height:normal;font-family:Menlo,'DejaVu Sans Mono',consolas,'Courier New',monospace\">\n",
       "</pre>\n"
      ],
      "text/plain": [
       "\n"
      ]
     },
     "metadata": {},
     "output_type": "display_data"
    }
   ],
   "source": [
    "with maternity_ward_model:\n",
    "    pm.compute_log_likelihood(trace)\n",
    "loo1 = pm.loo( trace )"
   ]
  },
  {
   "cell_type": "code",
   "execution_count": 13,
   "id": "f089e843-f837-4186-8e9e-ba4dbb231077",
   "metadata": {},
   "outputs": [
    {
     "data": {
      "application/vnd.jupyter.widget-view+json": {
       "model_id": "f307fdbc5f46499882293918d70e1d81",
       "version_major": 2,
       "version_minor": 0
      },
      "text/plain": [
       "Output()"
      ]
     },
     "metadata": {},
     "output_type": "display_data"
    },
    {
     "data": {
      "text/html": [
       "<pre style=\"white-space:pre;overflow-x:auto;line-height:normal;font-family:Menlo,'DejaVu Sans Mono',consolas,'Courier New',monospace\"></pre>\n"
      ],
      "text/plain": []
     },
     "metadata": {},
     "output_type": "display_data"
    },
    {
     "data": {
      "text/html": [
       "<pre style=\"white-space:pre;overflow-x:auto;line-height:normal;font-family:Menlo,'DejaVu Sans Mono',consolas,'Courier New',monospace\">\n",
       "</pre>\n"
      ],
      "text/plain": [
       "\n"
      ]
     },
     "metadata": {},
     "output_type": "display_data"
    }
   ],
   "source": [
    "with maternity_ward_model2:\n",
    "    pm.compute_log_likelihood(trace2)\n",
    "loo2 = pm.loo( trace2 )"
   ]
  },
  {
   "cell_type": "markdown",
   "id": "da8c6ec7-48cd-4db2-8c02-a56ecbdc3483",
   "metadata": {},
   "source": [
    "Compare:"
   ]
  },
  {
   "cell_type": "code",
   "execution_count": 14,
   "id": "9108c4f6-9d17-4673-82c5-391e5a31ad28",
   "metadata": {},
   "outputs": [
    {
     "data": {
      "text/html": [
       "<div>\n",
       "<style scoped>\n",
       "    .dataframe tbody tr th:only-of-type {\n",
       "        vertical-align: middle;\n",
       "    }\n",
       "\n",
       "    .dataframe tbody tr th {\n",
       "        vertical-align: top;\n",
       "    }\n",
       "\n",
       "    .dataframe thead th {\n",
       "        text-align: right;\n",
       "    }\n",
       "</style>\n",
       "<table border=\"1\" class=\"dataframe\">\n",
       "  <thead>\n",
       "    <tr style=\"text-align: right;\">\n",
       "      <th></th>\n",
       "      <th>rank</th>\n",
       "      <th>elpd_loo</th>\n",
       "      <th>p_loo</th>\n",
       "      <th>elpd_diff</th>\n",
       "      <th>weight</th>\n",
       "      <th>se</th>\n",
       "      <th>dse</th>\n",
       "      <th>warning</th>\n",
       "      <th>scale</th>\n",
       "    </tr>\n",
       "  </thead>\n",
       "  <tbody>\n",
       "    <tr>\n",
       "      <th>Negative Binomial Likelihood</th>\n",
       "      <td>0</td>\n",
       "      <td>-56.811875</td>\n",
       "      <td>1.529478</td>\n",
       "      <td>0.000000</td>\n",
       "      <td>0.874022</td>\n",
       "      <td>3.035998</td>\n",
       "      <td>0.000000</td>\n",
       "      <td>False</td>\n",
       "      <td>log</td>\n",
       "    </tr>\n",
       "    <tr>\n",
       "      <th>Poisson Likelihood</th>\n",
       "      <td>1</td>\n",
       "      <td>-58.765748</td>\n",
       "      <td>1.714283</td>\n",
       "      <td>1.953873</td>\n",
       "      <td>0.125978</td>\n",
       "      <td>5.592179</td>\n",
       "      <td>2.562956</td>\n",
       "      <td>False</td>\n",
       "      <td>log</td>\n",
       "    </tr>\n",
       "  </tbody>\n",
       "</table>\n",
       "</div>"
      ],
      "text/plain": [
       "                              rank   elpd_loo     p_loo  elpd_diff    weight  \\\n",
       "Negative Binomial Likelihood     0 -56.811875  1.529478   0.000000  0.874022   \n",
       "Poisson Likelihood               1 -58.765748  1.714283   1.953873  0.125978   \n",
       "\n",
       "                                    se       dse  warning scale  \n",
       "Negative Binomial Likelihood  3.035998  0.000000    False   log  \n",
       "Poisson Likelihood            5.592179  2.562956    False   log  "
      ]
     },
     "execution_count": 14,
     "metadata": {},
     "output_type": "execute_result"
    }
   ],
   "source": [
    "df_comp_loo = pm.compare({'Poisson Likelihood': loo1, 'Negative Binomial Likelihood': loo2})\n",
    "df_comp_loo"
   ]
  },
  {
   "cell_type": "markdown",
   "id": "f0d2c580-bc63-49b9-a77e-5ff403ca9935",
   "metadata": {},
   "source": [
    "Plot:"
   ]
  },
  {
   "cell_type": "code",
   "execution_count": 15,
   "id": "c80de8d5-a013-4d4d-8c8d-588b1da60da1",
   "metadata": {},
   "outputs": [
    {
     "data": {
      "image/png": "[encoded data removed]",
      "text/plain": [
       "<Figure size 600x200 with 1 Axes>"
      ]
     },
     "metadata": {},
     "output_type": "display_data"
    }
   ],
   "source": [
    "pm.plot_compare(df_comp_loo);"
   ]
  },
  {
   "cell_type": "markdown",
   "id": "46801960-569e-4e60-8cae-bf3f02715c28",
   "metadata": {},
   "source": [
    "The computed ELPDs overlap strongly! By the one-standard-error rule, we should settle for the simpler Poisson model that only contains one parameter, even though the assumptions it makes are worse."
   ]
  }
 ],
 "metadata": {
  "kernelspec": {
   "display_name": "Python 3 (ipykernel)",
   "language": "python",
   "name": "python3"
  },
  "language_info": {
   "codemirror_mode": {
    "name": "ipython",
    "version": 3
   },
   "file_extension": ".py",
   "mimetype": "text/x-python",
   "name": "python",
   "nbconvert_exporter": "python",
   "pygments_lexer": "ipython3",
   "version": "3.10.12"
  }
 },
 "nbformat": 4,
 "nbformat_minor": 5
}
