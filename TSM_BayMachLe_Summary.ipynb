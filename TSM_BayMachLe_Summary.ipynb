{
 "cells": [
  {
   "metadata": {},
   "cell_type": "markdown",
   "source": [
    "## Binominal distribution:\n",
    "\n",
    "The **binomial distribution** is a probability distribution that describes the number of **successes** in a fixed number of independent trials, each with the same probability of success. It is used when you have a scenario with two possible outcomes, often called **success** and **failure**.\n",
    "\n",
    "\\$\n",
    "P(X = k) = \\binom{n}{k} p^k (1 - p)^{n - k}\n",
    "\\$"
   ],
   "id": "c9162ae1e1d51673"
  },
  {
   "metadata": {},
   "cell_type": "markdown",
   "source": [
    "## Maximum Likelihood:\n",
    "Given data d: What is the most likely value of parameter p, that could have produced the data?\n",
    "\n",
    "\\$ p^* = \\arg \\max_{p \\in [0,1]} P(d \\mid p_{\\text{heads}} = p) \\$\n"
   ],
   "id": "4a85e6e1d2b2f1aa"
  },
  {
   "metadata": {},
   "cell_type": "markdown",
   "source": [
    "## Bayes Theorem\n",
    "With the prior, likelihood, evidence -> posterior\n"
   ],
   "id": "cd48959a4d11c0b6"
  },
  {
   "metadata": {},
   "cell_type": "markdown",
   "source": "## Poisson Distribution",
   "id": "df3f711164d8ffb5"
  },
  {
   "metadata": {},
   "cell_type": "markdown",
   "source": [
    "## Beta Distribution\n",
    "Update rule"
   ],
   "id": "95dfaffc751de5df"
  },
  {
   "metadata": {},
   "cell_type": "markdown",
   "source": "",
   "id": "ec3861540f1687c3"
  },
  {
   "metadata": {},
   "cell_type": "markdown",
   "source": "",
   "id": "c1ea4effc98dfba2"
  },
  {
   "metadata": {},
   "cell_type": "markdown",
   "source": "",
   "id": "29574753a76f9293"
  },
  {
   "metadata": {},
   "cell_type": "markdown",
   "source": "",
   "id": "74f434ed4b5d1be9"
  },
  {
   "metadata": {},
   "cell_type": "markdown",
   "source": "",
   "id": "98d6e8479417ad3b"
  }
 ],
 "metadata": {
  "kernelspec": {
   "display_name": "Python 3",
   "language": "python",
   "name": "python3"
  },
  "language_info": {
   "codemirror_mode": {
    "name": "ipython",
    "version": 2
   },
   "file_extension": ".py",
   "mimetype": "text/x-python",
   "name": "python",
   "nbconvert_exporter": "python",
   "pygments_lexer": "ipython2",
   "version": "2.7.6"
  }
 },
 "nbformat": 4,
 "nbformat_minor": 5
}
