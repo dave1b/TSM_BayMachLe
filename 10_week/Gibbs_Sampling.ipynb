{
 "cells": [
  {
   "cell_type": "markdown",
   "id": "4d7ae7d7-e731-42ea-b150-58454b1b17d5",
   "metadata": {},
   "source": [
    "## Gibb's Sampling for the Object Detection Example"
   ]
  },
  {
   "cell_type": "code",
   "id": "ecc1dcaa-507b-465b-9bd8-395d9ed03768",
   "metadata": {
    "tags": [],
    "ExecuteTime": {
     "end_time": "2024-12-03T19:20:59.865449Z",
     "start_time": "2024-12-03T19:20:59.862121Z"
    }
   },
   "source": [
    "import random\n",
    "from collections import Counter\n",
    "import math\n",
    "\n",
    "# Define weights for the states\n",
    "weights = {\n",
    "    (0, 1, 1): 4,\n",
    "    (0, 1, 2): 4,\n",
    "    (1, 1, 1): 4,\n",
    "    (1, 1, 2): 4,\n",
    "    (1, 2, 1): 2,\n",
    "    (1, 2, 2): 8\n",
    "}\n",
    "\n",
    "# Initialize state vector randomly\n",
    "current_state = [random.choice([0, 1, 2]) for _ in range(3)]\n",
    "print(current_state)\n",
    "\n",
    "# Number of iterations\n",
    "num_iterations = 1000000\n",
    "\n",
    "# Initialize counters for marginal probabilities\n",
    "counts = Counter()"
   ],
   "outputs": [
    {
     "name": "stdout",
     "output_type": "stream",
     "text": [
      "[1, 1, 2]\n"
     ]
    }
   ],
   "execution_count": 6
  },
  {
   "cell_type": "code",
   "id": "46650c41-3b3b-4c01-ba02-abc6d6b66a92",
   "metadata": {
    "tags": [],
    "ExecuteTime": {
     "end_time": "2024-12-03T19:21:00.055385Z",
     "start_time": "2024-12-03T19:21:00.051726Z"
    }
   },
   "source": [
    "# Sampling function\n",
    "def sample_variable(index, state):\n",
    "    # Generate the conditional distribution for the variable\n",
    "    conditional_weights = []\n",
    "    for value in [0, 1, 2]:\n",
    "        new_state = state[:]\n",
    "        new_state[index] = value\n",
    "        weight = weights.get(tuple(new_state), 0)\n",
    "        conditional_weights.append((value, weight))\n",
    "\n",
    "    # Normalize weights to create a probability distribution\n",
    "    total_weight = sum(w for _, w in conditional_weights)\n",
    "    if total_weight is None or math.isnan(total_weight) or total_weight == 0:\n",
    "        # Handle the zero or NA weight case: assign probabilities of 0\n",
    "        probabilities = [(v, 0) for v, _ in conditional_weights]\n",
    "    else:\n",
    "        probabilities = [(v, w / total_weight) for v, w in conditional_weights]\n",
    "\n",
    "    # Sample from the conditional distribution\n",
    "    r = random.random()\n",
    "    cumulative = 0\n",
    "    for value, prob in probabilities:\n",
    "        cumulative += prob\n",
    "        if r < cumulative:\n",
    "            return value\n",
    "    return probabilities[-1][0]  # Fallback in case of rounding errors"
   ],
   "outputs": [],
   "execution_count": 7
  },
  {
   "cell_type": "markdown",
   "id": "7ea1dbc7-76a5-4370-90dd-70f596d5b871",
   "metadata": {},
   "source": [
    "- _Weights_: The weights dictionary specifies the given weights for each state.\n",
    "- _Initialization_: The state vector is initialized randomly.\n",
    "- _Sampling_:For each variable, we compute a conditional distribution using \n",
    "  weights for all possible values of that variable while keeping other \n",
    "  variables fixed."
   ]
  },
  {
   "cell_type": "code",
   "id": "c3295ab1-b9f3-436f-ac63-eb5db303f642",
   "metadata": {
    "tags": [],
    "ExecuteTime": {
     "end_time": "2024-12-03T19:21:03.183439Z",
     "start_time": "2024-12-03T19:21:00.700757Z"
    }
   },
   "source": [
    "# Gibbs sampling\n",
    "for _ in range(num_iterations):\n",
    "    for i in range(3):  # Iterate over each variable x1, x2, x3\n",
    "        current_state[i] = sample_variable(i, current_state)\n",
    "    counts[tuple(current_state)] += 1"
   ],
   "outputs": [],
   "execution_count": 8
  },
  {
   "cell_type": "markdown",
   "id": "61393fac-5743-4f34-bd3c-c4d75e77b383",
   "metadata": {},
   "source": [
    "- _Gibbs Sampling_: The algorithm iterates over variables and samples a new value \n",
    "  for each variable based on its conditional distribution.\n",
    "- _Counting_: Counts for state occurrences and marginal probabilities are computed."
   ]
  },
  {
   "cell_type": "code",
   "id": "f57e820e-f196-4c50-bc8c-e835787a6034",
   "metadata": {
    "tags": [],
    "ExecuteTime": {
     "end_time": "2024-12-03T19:21:03.190547Z",
     "start_time": "2024-12-03T19:21:03.188832Z"
    }
   },
   "source": [
    "# Compute estimated marginal probabilities\n",
    "marginal_counts = Counter()\n",
    "for state, count in counts.items():\n",
    "    for i, value in enumerate(state):\n",
    "        marginal_counts[(i, value)] += count"
   ],
   "outputs": [],
   "execution_count": 9
  },
  {
   "cell_type": "code",
   "id": "80948cd2-6c64-48db-b89a-1d5b60160c32",
   "metadata": {
    "tags": [],
    "ExecuteTime": {
     "end_time": "2024-12-03T19:21:03.197862Z",
     "start_time": "2024-12-03T19:21:03.195668Z"
    }
   },
   "source": [
    "marginal_probabilities = {\n",
    "    (i, v): marginal_counts[(i, v)] / num_iterations for i in range(3) for v in [0, 1, 2]\n",
    "}\n",
    "\n",
    "# Output results\n",
    "print(\"Counts for each variable and value:\")\n",
    "for (i, v), count in marginal_counts.items():\n",
    "    print(f\"X_{i+1}={v}: {count}\")\n",
    "\n",
    "print(\"\\nEstimated marginal probabilities:\")\n",
    "for (i, v), prob in marginal_probabilities.items():\n",
    "    print(f\"P(X_{i+1}={v}): {prob:.3f}\")"
   ],
   "outputs": [
    {
     "name": "stdout",
     "output_type": "stream",
     "text": [
      "Counts for each variable and value:\n",
      "X_1=1: 691158\n",
      "X_2=2: 383432\n",
      "X_3=2: 615270\n",
      "X_2=1: 616568\n",
      "X_3=1: 384730\n",
      "X_1=0: 308842\n",
      "\n",
      "Estimated marginal probabilities:\n",
      "P(X_1=0): 0.309\n",
      "P(X_1=1): 0.691\n",
      "P(X_1=2): 0.000\n",
      "P(X_2=0): 0.000\n",
      "P(X_2=1): 0.617\n",
      "P(X_2=2): 0.383\n",
      "P(X_3=0): 0.000\n",
      "P(X_3=1): 0.385\n",
      "P(X_3=2): 0.615\n"
     ]
    }
   ],
   "execution_count": 10
  },
  {
   "cell_type": "markdown",
   "id": "f2b88b25-33a6-4e52-8242-e5c4fd8a132a",
   "metadata": {},
   "source": [
    "The __true__ marginal probabilities for $X_2=1$ is 0.615 and for $X_2=2$."
   ]
  }
 ],
 "metadata": {
  "kernelspec": {
   "display_name": "Python 3 (ipykernel)",
   "language": "python",
   "name": "python3"
  },
  "language_info": {
   "codemirror_mode": {
    "name": "ipython",
    "version": 3
   },
   "file_extension": ".py",
   "mimetype": "text/x-python",
   "name": "python",
   "nbconvert_exporter": "python",
   "pygments_lexer": "ipython3",
   "version": "3.10.11"
  }
 },
 "nbformat": 4,
 "nbformat_minor": 5
}
