{
 "cells": [
  {
   "cell_type": "markdown",
   "id": "bbf92c91-9247-48c0-9089-9469a923475d",
   "metadata": {},
   "source": [
    "# Polynomial Regression, Overfitting and Regularisation"
   ]
  },
  {
   "cell_type": "markdown",
   "id": "8b9559dd-feee-4f3b-9192-8eb6d3ef21b6",
   "metadata": {},
   "source": [
    "Import necessary modules:"
   ]
  },
  {
   "cell_type": "code",
   "execution_count": 1,
   "id": "c888abab-71e7-464c-9a74-d066560fc64e",
   "metadata": {},
   "outputs": [
    {
     "name": "stderr",
     "output_type": "stream",
     "text": [
      "WARNING (pytensor.tensor.blas): Using NumPy C-API based implementation for BLAS functions.\n"
     ]
    }
   ],
   "source": [
    "import numpy as np\n",
    "import arviz as az\n",
    "import matplotlib.pyplot as plt\n",
    "import pandas as pd\n",
    "import seaborn as sns\n",
    "from scipy import stats\n",
    "from scipy.special import gamma\n",
    "import preliz as pz\n",
    "import matplotlib as mpl\n",
    "import pymc as pm\n",
    "import bambi as bmb"
   ]
  },
  {
   "cell_type": "code",
   "execution_count": 2,
   "id": "e2d8c1e3-2e5e-4f20-876c-0a8b17dd15d7",
   "metadata": {},
   "outputs": [],
   "source": [
    "plt.style.use('ggplot')\n",
    "plt.rcParams[\"figure.figsize\"] = (12,3)"
   ]
  },
  {
   "cell_type": "markdown",
   "id": "7f32beff-ccf9-4d6d-81eb-2f67d0cc0566",
   "metadata": {},
   "source": [
    "## Create small sample"
   ]
  },
  {
   "cell_type": "code",
   "execution_count": 3,
   "id": "472eac87-129a-4612-a1da-3b967e380281",
   "metadata": {},
   "outputs": [
    {
     "data": {
      "text/plain": [
       "<Axes: xlabel='BMI', ylabel='BodyFat'>"
      ]
     },
     "execution_count": 3,
     "metadata": {},
     "output_type": "execute_result"
    },
    {
     "data": {
      "image/png": "[encoded data removed]",
      "text/plain": [
       "<Figure size 1200x300 with 1 Axes>"
      ]
     },
     "metadata": {},
     "output_type": "display_data"
    }
   ],
   "source": [
    "data = pd.read_csv(\"bodyfat.csv\")\n",
    "data_simple = data[data.BMI<35] # remove outliers to avoid using a robust model\n",
    "data_10points = data_simple.sample(10, random_state=3)\n",
    "sns.scatterplot( data=data_10points, x=\"BMI\", y=\"BodyFat\" )"
   ]
  },
  {
   "cell_type": "markdown",
   "id": "fb0b0fda-7331-4153-8596-90d29ed97468",
   "metadata": {},
   "source": [
    "## Fit a linear model"
   ]
  },
  {
   "cell_type": "code",
   "execution_count": 4,
   "id": "8a370695-5e88-4ddf-85b4-fc36993b91b4",
   "metadata": {},
   "outputs": [
    {
     "name": "stderr",
     "output_type": "stream",
     "text": [
      "Auto-assigning NUTS sampler...\n",
      "Initializing NUTS using jitter+adapt_diag...\n",
      "Multiprocess sampling (4 chains in 4 jobs)\n",
      "NUTS: [sigma, Intercept, BMI]\n"
     ]
    },
    {
     "data": {
      "application/vnd.jupyter.widget-view+json": {
       "model_id": "ee1e2b12ea36450fb5555c77f42a1a3d",
       "version_major": 2,
       "version_minor": 0
      },
      "text/plain": [
       "Output()"
      ]
     },
     "metadata": {},
     "output_type": "display_data"
    },
    {
     "data": {
      "text/html": [
       "<pre style=\"white-space:pre;overflow-x:auto;line-height:normal;font-family:Menlo,'DejaVu Sans Mono',consolas,'Courier New',monospace\"></pre>\n"
      ],
      "text/plain": []
     },
     "metadata": {},
     "output_type": "display_data"
    },
    {
     "data": {
      "text/html": [
       "<pre style=\"white-space:pre;overflow-x:auto;line-height:normal;font-family:Menlo,'DejaVu Sans Mono',consolas,'Courier New',monospace\">\n",
       "</pre>\n"
      ],
      "text/plain": [
       "\n"
      ]
     },
     "metadata": {},
     "output_type": "display_data"
    },
    {
     "name": "stderr",
     "output_type": "stream",
     "text": [
      "Sampling 4 chains for 2_000 tune and 2_000 draw iterations (8_000 + 8_000 draws total) took 5 seconds.\n"
     ]
    }
   ],
   "source": [
    "linear_model = bmb.Model(\"BodyFat ~ BMI\", data_10points, family=\"gaussian\")\n",
    "linear_trace = linear_model.fit(draws=2000, tune=2000)"
   ]
  },
  {
   "cell_type": "markdown",
   "id": "1df795a3-f4d7-4e37-b4df-50744c3c0f58",
   "metadata": {},
   "source": [
    "## Fit a polynomial model"
   ]
  },
  {
   "cell_type": "code",
   "execution_count": 5,
   "id": "fd1ae703-24ac-410f-b751-4479e9755528",
   "metadata": {},
   "outputs": [
    {
     "name": "stderr",
     "output_type": "stream",
     "text": [
      "Auto-assigning NUTS sampler...\n",
      "Initializing NUTS using jitter+adapt_diag...\n",
      "Multiprocess sampling (4 chains in 4 jobs)\n",
      "NUTS: [sigma, Intercept, BMI, I(BMI ** 2), I(BMI ** 3)]\n"
     ]
    },
    {
     "data": {
      "application/vnd.jupyter.widget-view+json": {
       "model_id": "d25e22206f7a4994b1ff8730769057f3",
       "version_major": 2,
       "version_minor": 0
      },
      "text/plain": [
       "Output()"
      ]
     },
     "metadata": {},
     "output_type": "display_data"
    },
    {
     "data": {
      "text/html": [
       "<pre style=\"white-space:pre;overflow-x:auto;line-height:normal;font-family:Menlo,'DejaVu Sans Mono',consolas,'Courier New',monospace\"></pre>\n"
      ],
      "text/plain": []
     },
     "metadata": {},
     "output_type": "display_data"
    },
    {
     "data": {
      "text/html": [
       "<pre style=\"white-space:pre;overflow-x:auto;line-height:normal;font-family:Menlo,'DejaVu Sans Mono',consolas,'Courier New',monospace\">\n",
       "</pre>\n"
      ],
      "text/plain": [
       "\n"
      ]
     },
     "metadata": {},
     "output_type": "display_data"
    },
    {
     "name": "stderr",
     "output_type": "stream",
     "text": [
      "Sampling 4 chains for 2_000 tune and 2_000 draw iterations (8_000 + 8_000 draws total) took 34 seconds.\n",
      "There were 192 divergences after tuning. Increase `target_accept` or reparameterize.\n"
     ]
    }
   ],
   "source": [
    "poly_model = bmb.Model(\"BodyFat ~ BMI + I(BMI**2) + I(BMI**3)\", data_10points, family=\"gaussian\")\n",
    "poly_trace = poly_model.fit(draws=2000, tune=2000)"
   ]
  },
  {
   "cell_type": "markdown",
   "id": "8f0f33c2-9c23-4221-944c-c414055f0d22",
   "metadata": {},
   "source": [
    "Slow and full of divergences! Better use orthogonal polynomes using the `poly()` function:"
   ]
  },
  {
   "cell_type": "code",
   "execution_count": 6,
   "id": "4e004b3a-f894-4a26-8d28-efcdcb5aefde",
   "metadata": {},
   "outputs": [
    {
     "name": "stderr",
     "output_type": "stream",
     "text": [
      "Auto-assigning NUTS sampler...\n",
      "Initializing NUTS using jitter+adapt_diag...\n",
      "Multiprocess sampling (4 chains in 4 jobs)\n",
      "NUTS: [sigma, Intercept, poly(BMI, 3)]\n"
     ]
    },
    {
     "data": {
      "application/vnd.jupyter.widget-view+json": {
       "model_id": "419f0fa30f3e419e92da4ba6522944d3",
       "version_major": 2,
       "version_minor": 0
      },
      "text/plain": [
       "Output()"
      ]
     },
     "metadata": {},
     "output_type": "display_data"
    },
    {
     "data": {
      "text/html": [
       "<pre style=\"white-space:pre;overflow-x:auto;line-height:normal;font-family:Menlo,'DejaVu Sans Mono',consolas,'Courier New',monospace\"></pre>\n"
      ],
      "text/plain": []
     },
     "metadata": {},
     "output_type": "display_data"
    },
    {
     "data": {
      "text/html": [
       "<pre style=\"white-space:pre;overflow-x:auto;line-height:normal;font-family:Menlo,'DejaVu Sans Mono',consolas,'Courier New',monospace\">\n",
       "</pre>\n"
      ],
      "text/plain": [
       "\n"
      ]
     },
     "metadata": {},
     "output_type": "display_data"
    },
    {
     "name": "stderr",
     "output_type": "stream",
     "text": [
      "Sampling 4 chains for 2_000 tune and 2_000 draw iterations (8_000 + 8_000 draws total) took 7 seconds.\n"
     ]
    }
   ],
   "source": [
    "poly_model = bmb.Model(\"BodyFat ~ poly( BMI, 3 )\", data_10points, family=\"gaussian\")\n",
    "poly_trace = poly_model.fit(draws=2000, tune=2000)"
   ]
  },
  {
   "cell_type": "markdown",
   "id": "60194d21-be0c-4e17-a3cc-8939d8c7abd5",
   "metadata": {},
   "source": [
    "## Compare models"
   ]
  },
  {
   "cell_type": "code",
   "execution_count": 7,
   "id": "b4b80577-d81d-48c2-b31a-21c867399818",
   "metadata": {},
   "outputs": [
    {
     "name": "stderr",
     "output_type": "stream",
     "text": [
      "Default computed for conditional variable: BMI\n",
      "Default computed for conditional variable: BMI\n"
     ]
    },
    {
     "data": {
      "text/plain": [
       "Text(0.5, 1.0, 'BodyFat ~ poly(BMI, 3)')"
      ]
     },
     "execution_count": 7,
     "metadata": {},
     "output_type": "execute_result"
    },
    {
     "data": {
      "image/png": "[encoded data removed]",
      "text/plain": [
       "<Figure size 800x400 with 2 Axes>"
      ]
     },
     "metadata": {},
     "output_type": "display_data"
    }
   ],
   "source": [
    "fig, ax = plt.subplots(1, 2, sharey=True, figsize=(8,4) )\n",
    "data_10points.plot.scatter( x=\"BMI\", y=\"BodyFat\", ax=ax[0] )\n",
    "bmb.interpret.plot_predictions( linear_model, linear_trace, \"BMI\", prob=0.9, ax=ax[0] )\n",
    "ax[0].set_title(\"BodyFat ~ BMI\", fontsize=12)\n",
    "data_10points.plot.scatter( x=\"BMI\", y=\"BodyFat\", ax=ax[1] )\n",
    "bmb.interpret.plot_predictions( poly_model, poly_trace, \"BMI\", prob=0.9, ax=ax[1] )\n",
    "ax[1].set_title(\"BodyFat ~ poly(BMI, 3)\", fontsize=12)"
   ]
  },
  {
   "cell_type": "markdown",
   "id": "10b247f1-742a-4bfd-b590-24d7f2c4271e",
   "metadata": {},
   "source": [
    "The polynomial model is clearly overfitting to the noise in the data points."
   ]
  },
  {
   "cell_type": "markdown",
   "id": "037d27fb-2d7a-468f-ae15-bc1df56a6c6e",
   "metadata": {},
   "source": [
    "## Regularisation"
   ]
  },
  {
   "cell_type": "markdown",
   "id": "99c42d71-bbf8-4775-96a1-8490f24cba9b",
   "metadata": {},
   "source": [
    "Look at the model:"
   ]
  },
  {
   "cell_type": "code",
   "execution_count": 8,
   "id": "b5e5d28e-619c-46c3-bce7-a76c5ec8402f",
   "metadata": {},
   "outputs": [
    {
     "data": {
      "text/plain": [
       "       Formula: BodyFat ~ poly( BMI, 3 )\n",
       "        Family: gaussian\n",
       "          Link: mu = identity\n",
       "  Observations: 10\n",
       "        Priors: \n",
       "    target = mu\n",
       "        Common-level effects\n",
       "            Intercept ~ Normal(mu: 19.18, sigma: 13.0928)\n",
       "            poly(BMI, 3) ~ Normal(mu: [0. 0. 0.], sigma: [41.4032 41.4032 41.4032])\n",
       "        \n",
       "        Auxiliary parameters\n",
       "            sigma ~ HalfStudentT(nu: 4.0, sigma: 5.2371)\n",
       "------\n",
       "* To see a plot of the priors call the .plot_priors() method.\n",
       "* To see a summary or plot of the posterior pass the object returned by .fit() to az.summary() or az.plot_trace()"
      ]
     },
     "execution_count": 8,
     "metadata": {},
     "output_type": "execute_result"
    }
   ],
   "source": [
    "poly_model"
   ]
  },
  {
   "cell_type": "markdown",
   "id": "33cb4cd8-6663-49a8-9a9c-24b3e0cc00ea",
   "metadata": {},
   "source": [
    "Weak priors used for all coefficients! Instead shrink the higher order coefficients towards zero with stronger priors:"
   ]
  },
  {
   "cell_type": "code",
   "execution_count": 9,
   "id": "d37e0fc9-4ff9-44e3-a083-1908848fce68",
   "metadata": {},
   "outputs": [
    {
     "name": "stderr",
     "output_type": "stream",
     "text": [
      "Auto-assigning NUTS sampler...\n",
      "Initializing NUTS using jitter+adapt_diag...\n",
      "Multiprocess sampling (4 chains in 4 jobs)\n",
      "NUTS: [sigma, Intercept, poly(BMI, 3)]\n"
     ]
    },
    {
     "data": {
      "application/vnd.jupyter.widget-view+json": {
       "model_id": "6120fe207b9446dd9acca7c41def6585",
       "version_major": 2,
       "version_minor": 0
      },
      "text/plain": [
       "Output()"
      ]
     },
     "metadata": {},
     "output_type": "display_data"
    },
    {
     "data": {
      "text/html": [
       "<pre style=\"white-space:pre;overflow-x:auto;line-height:normal;font-family:Menlo,'DejaVu Sans Mono',consolas,'Courier New',monospace\"></pre>\n"
      ],
      "text/plain": []
     },
     "metadata": {},
     "output_type": "display_data"
    },
    {
     "data": {
      "text/html": [
       "<pre style=\"white-space:pre;overflow-x:auto;line-height:normal;font-family:Menlo,'DejaVu Sans Mono',consolas,'Courier New',monospace\">\n",
       "</pre>\n"
      ],
      "text/plain": [
       "\n"
      ]
     },
     "metadata": {},
     "output_type": "display_data"
    },
    {
     "name": "stderr",
     "output_type": "stream",
     "text": [
      "Sampling 4 chains for 2_000 tune and 2_000 draw iterations (8_000 + 8_000 draws total) took 10 seconds.\n"
     ]
    }
   ],
   "source": [
    "priors = {\n",
    "    \"poly(BMI, 3)\": bmb.Prior(\"Normal\", mu=[0,0,0], sigma=[41.4,1,1]),\n",
    "}\n",
    "\n",
    "poly_model2 = bmb.Model(\"BodyFat ~ poly(BMI, 3)\", data_10points, priors=priors, family=\"gaussian\")\n",
    "poly_trace2 = poly_model2.fit(draws=2000, tune=2000)"
   ]
  },
  {
   "cell_type": "code",
   "execution_count": 10,
   "id": "a90e78d4-225b-4f89-9608-3c9c9db168a1",
   "metadata": {},
   "outputs": [
    {
     "name": "stderr",
     "output_type": "stream",
     "text": [
      "Default computed for conditional variable: BMI\n",
      "Default computed for conditional variable: BMI\n"
     ]
    },
    {
     "data": {
      "text/plain": [
       "Text(0.5, 1.0, '$\\\\sigma$ = [41.4, 1, 1] (strong)')"
      ]
     },
     "execution_count": 10,
     "metadata": {},
     "output_type": "execute_result"
    },
    {
     "data": {
      "image/png": "[encoded data removed]",
      "text/plain": [
       "<Figure size 800x400 with 2 Axes>"
      ]
     },
     "metadata": {},
     "output_type": "display_data"
    }
   ],
   "source": [
    "fig, ax = plt.subplots(1, 2, sharey=True, figsize=(8,4) )\n",
    "data_10points.plot.scatter( x=\"BMI\", y=\"BodyFat\", ax=ax[0] )\n",
    "bmb.interpret.plot_predictions( poly_model, poly_trace, \"BMI\", prob=0.9, ax=ax[0] )\n",
    "ax[0].set_title(\"$\\sigma$ = [41.4, 41.4, 41.4] (weak)\", fontsize=12)\n",
    "data_10points.plot.scatter( x=\"BMI\", y=\"BodyFat\", ax=ax[1] )\n",
    "bmb.interpret.plot_predictions( poly_model2, poly_trace2, \"BMI\", prob=0.9, ax=ax[1] )\n",
    "ax[1].set_title(\"$\\sigma$ = [41.4, 1, 1] (strong)\", fontsize=12)"
   ]
  },
  {
   "cell_type": "markdown",
   "id": "b661e42d-0afc-4597-b0ef-2fed2b1b23a4",
   "metadata": {},
   "source": [
    "The model with stronger priors is almost linear!"
   ]
  }
 ],
 "metadata": {
  "kernelspec": {
   "display_name": "Python 3 (ipykernel)",
   "language": "python",
   "name": "python3"
  },
  "language_info": {
   "codemirror_mode": {
    "name": "ipython",
    "version": 3
   },
   "file_extension": ".py",
   "mimetype": "text/x-python",
   "name": "python",
   "nbconvert_exporter": "python",
   "pygments_lexer": "ipython3",
   "version": "3.10.12"
  }
 },
 "nbformat": 4,
 "nbformat_minor": 5
}
