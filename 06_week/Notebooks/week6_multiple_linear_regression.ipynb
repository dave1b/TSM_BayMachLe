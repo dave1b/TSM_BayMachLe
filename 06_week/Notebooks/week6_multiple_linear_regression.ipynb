{
 "cells": [
  {
   "cell_type": "markdown",
   "id": "e20ecebb-373e-4222-8f39-5ebfe4c9ae4b",
   "metadata": {},
   "source": [
    "# Multiple Linear Regression"
   ]
  },
  {
   "cell_type": "markdown",
   "id": "d7ae0e2e-be23-42a3-86c2-7c1c74a63fb5",
   "metadata": {},
   "source": [
    "Import necessary modules:"
   ]
  },
  {
   "cell_type": "code",
   "execution_count": 5,
   "id": "ccca6479-fd47-41ef-ad20-1f8bde8cf3f1",
   "metadata": {},
   "outputs": [],
   "source": [
    "import numpy as np\n",
    "import arviz as az\n",
    "import matplotlib.pyplot as plt\n",
    "import pandas as pd\n",
    "import seaborn as sns\n",
    "from scipy import stats\n",
    "from scipy.special import gamma\n",
    "import preliz as pz\n",
    "import matplotlib as mpl\n",
    "import pymc as pm\n",
    "import bambi as bmb"
   ]
  },
  {
   "cell_type": "code",
   "execution_count": 6,
   "id": "167d1928-a8bc-40a0-9fc7-920fbc9afeae",
   "metadata": {},
   "outputs": [],
   "source": [
    "plt.style.use('ggplot')\n",
    "plt.rcParams[\"figure.figsize\"] = (12,3)"
   ]
  },
  {
   "cell_type": "markdown",
   "id": "7b229d53-3aba-49c0-84f3-e4a36d1d6941",
   "metadata": {},
   "source": [
    "## Credit Data"
   ]
  },
  {
   "cell_type": "markdown",
   "id": "ac5a838f-b7b5-4947-89e9-18042ae3d1fb",
   "metadata": {},
   "source": [
    "Read credit data:"
   ]
  },
  {
   "cell_type": "code",
   "execution_count": 7,
   "id": "838e2d0e-5bb5-4894-8cf2-fb7cc2c07a11",
   "metadata": {},
   "outputs": [
    {
     "data": {
      "text/html": [
       "<div>\n",
       "<style scoped>\n",
       "    .dataframe tbody tr th:only-of-type {\n",
       "        vertical-align: middle;\n",
       "    }\n",
       "\n",
       "    .dataframe tbody tr th {\n",
       "        vertical-align: top;\n",
       "    }\n",
       "\n",
       "    .dataframe thead th {\n",
       "        text-align: right;\n",
       "    }\n",
       "</style>\n",
       "<table border=\"1\" class=\"dataframe\">\n",
       "  <thead>\n",
       "    <tr style=\"text-align: right;\">\n",
       "      <th></th>\n",
       "      <th>ID</th>\n",
       "      <th>Income</th>\n",
       "      <th>Limit</th>\n",
       "      <th>Rating</th>\n",
       "      <th>Cards</th>\n",
       "      <th>Age</th>\n",
       "      <th>Education</th>\n",
       "      <th>Gender</th>\n",
       "      <th>Student</th>\n",
       "      <th>Married</th>\n",
       "      <th>Ethnicity</th>\n",
       "      <th>Balance</th>\n",
       "    </tr>\n",
       "  </thead>\n",
       "  <tbody>\n",
       "    <tr>\n",
       "      <th>0</th>\n",
       "      <td>1</td>\n",
       "      <td>14.891</td>\n",
       "      <td>3606</td>\n",
       "      <td>283</td>\n",
       "      <td>2</td>\n",
       "      <td>34</td>\n",
       "      <td>11</td>\n",
       "      <td>Male</td>\n",
       "      <td>No</td>\n",
       "      <td>Yes</td>\n",
       "      <td>Caucasian</td>\n",
       "      <td>333</td>\n",
       "    </tr>\n",
       "    <tr>\n",
       "      <th>1</th>\n",
       "      <td>2</td>\n",
       "      <td>106.025</td>\n",
       "      <td>6645</td>\n",
       "      <td>483</td>\n",
       "      <td>3</td>\n",
       "      <td>82</td>\n",
       "      <td>15</td>\n",
       "      <td>Female</td>\n",
       "      <td>Yes</td>\n",
       "      <td>Yes</td>\n",
       "      <td>Asian</td>\n",
       "      <td>903</td>\n",
       "    </tr>\n",
       "    <tr>\n",
       "      <th>2</th>\n",
       "      <td>3</td>\n",
       "      <td>104.593</td>\n",
       "      <td>7075</td>\n",
       "      <td>514</td>\n",
       "      <td>4</td>\n",
       "      <td>71</td>\n",
       "      <td>11</td>\n",
       "      <td>Male</td>\n",
       "      <td>No</td>\n",
       "      <td>No</td>\n",
       "      <td>Asian</td>\n",
       "      <td>580</td>\n",
       "    </tr>\n",
       "    <tr>\n",
       "      <th>3</th>\n",
       "      <td>4</td>\n",
       "      <td>148.924</td>\n",
       "      <td>9504</td>\n",
       "      <td>681</td>\n",
       "      <td>3</td>\n",
       "      <td>36</td>\n",
       "      <td>11</td>\n",
       "      <td>Female</td>\n",
       "      <td>No</td>\n",
       "      <td>No</td>\n",
       "      <td>Asian</td>\n",
       "      <td>964</td>\n",
       "    </tr>\n",
       "    <tr>\n",
       "      <th>4</th>\n",
       "      <td>5</td>\n",
       "      <td>55.882</td>\n",
       "      <td>4897</td>\n",
       "      <td>357</td>\n",
       "      <td>2</td>\n",
       "      <td>68</td>\n",
       "      <td>16</td>\n",
       "      <td>Male</td>\n",
       "      <td>No</td>\n",
       "      <td>Yes</td>\n",
       "      <td>Caucasian</td>\n",
       "      <td>331</td>\n",
       "    </tr>\n",
       "  </tbody>\n",
       "</table>\n",
       "</div>"
      ],
      "text/plain": [
       "   ID   Income  Limit  Rating  Cards  Age  Education  Gender Student Married  \\\n",
       "0   1   14.891   3606     283      2   34         11    Male      No     Yes   \n",
       "1   2  106.025   6645     483      3   82         15  Female     Yes     Yes   \n",
       "2   3  104.593   7075     514      4   71         11    Male      No      No   \n",
       "3   4  148.924   9504     681      3   36         11  Female      No      No   \n",
       "4   5   55.882   4897     357      2   68         16    Male      No     Yes   \n",
       "\n",
       "   Ethnicity  Balance  \n",
       "0  Caucasian      333  \n",
       "1      Asian      903  \n",
       "2      Asian      580  \n",
       "3      Asian      964  \n",
       "4  Caucasian      331  "
      ]
     },
     "execution_count": 7,
     "metadata": {},
     "output_type": "execute_result"
    }
   ],
   "source": [
    "credit_data = pd.read_csv(\"credit_data.csv\")\n",
    "credit_data.head()"
   ]
  },
  {
   "cell_type": "markdown",
   "id": "5dd0fa41-70f5-4e3a-b93d-00a7391b58c4",
   "metadata": {},
   "source": [
    "Simple linear regression:"
   ]
  },
  {
   "cell_type": "code",
   "execution_count": 8,
   "id": "97748120-ef2e-46b8-b2c9-f4706851cdcd",
   "metadata": {},
   "outputs": [
    {
     "name": "stderr",
     "output_type": "stream",
     "text": [
      "Auto-assigning NUTS sampler...\n",
      "Initializing NUTS using jitter+adapt_diag...\n",
      "Multiprocess sampling (4 chains in 4 jobs)\n",
      "NUTS: [sigma, Intercept, Limit]\n"
     ]
    },
    {
     "data": {
      "application/vnd.jupyter.widget-view+json": {
       "model_id": "a7df72804fb140028e57d5c1a2ac954f",
       "version_major": 2,
       "version_minor": 0
      },
      "text/plain": [
       "Output()"
      ]
     },
     "metadata": {},
     "output_type": "display_data"
    },
    {
     "data": {
      "text/html": [
       "<pre style=\"white-space:pre;overflow-x:auto;line-height:normal;font-family:Menlo,'DejaVu Sans Mono',consolas,'Courier New',monospace\"></pre>\n"
      ],
      "text/plain": []
     },
     "metadata": {},
     "output_type": "display_data"
    },
    {
     "data": {
      "text/html": [
       "<pre style=\"white-space:pre;overflow-x:auto;line-height:normal;font-family:Menlo,'DejaVu Sans Mono',consolas,'Courier New',monospace\">\n",
       "</pre>\n"
      ],
      "text/plain": [
       "\n"
      ]
     },
     "metadata": {},
     "output_type": "display_data"
    },
    {
     "name": "stderr",
     "output_type": "stream",
     "text": [
      "Sampling 4 chains for 2_000 tune and 2_000 draw iterations (8_000 + 8_000 draws total) took 6 seconds.\n"
     ]
    }
   ],
   "source": [
    "credit_model1 = bmb.Model( \"Balance ~ Limit\", data=credit_data, family=\"gaussian\" )\n",
    "credit_trace1 = credit_model1.fit( draws=2000, tune=2000 )"
   ]
  },
  {
   "cell_type": "code",
   "execution_count": 9,
   "id": "468ba34c-4649-4f69-a396-01648fa89086",
   "metadata": {},
   "outputs": [
    {
     "name": "stderr",
     "output_type": "stream",
     "text": [
      "Default computed for conditional variable: Limit\n"
     ]
    },
    {
     "data": {
      "text/plain": [
       "(<Figure size 800x400 with 1 Axes>,\n",
       " array([<Axes: xlabel='Limit', ylabel='Balance'>], dtype=object))"
      ]
     },
     "execution_count": 9,
     "metadata": {},
     "output_type": "execute_result"
    },
    {
     "data": {
      "image/png": "[encoded data removed]",
      "text/plain": [
       "<Figure size 800x400 with 1 Axes>"
      ]
     },
     "metadata": {},
     "output_type": "display_data"
    }
   ],
   "source": [
    "credit_data.plot.scatter( x=\"Limit\", y=\"Balance\", figsize=(8,4) )\n",
    "bmb.interpret.plot_predictions( credit_model1, credit_trace1, \"Limit\", prob=0.9, ax=plt.gca() )"
   ]
  },
  {
   "cell_type": "code",
   "execution_count": 10,
   "id": "d501644e-2894-4dce-9654-2b74a881cf9d",
   "metadata": {},
   "outputs": [
    {
     "data": {
      "text/html": [
       "<div>\n",
       "<style scoped>\n",
       "    .dataframe tbody tr th:only-of-type {\n",
       "        vertical-align: middle;\n",
       "    }\n",
       "\n",
       "    .dataframe tbody tr th {\n",
       "        vertical-align: top;\n",
       "    }\n",
       "\n",
       "    .dataframe thead th {\n",
       "        text-align: right;\n",
       "    }\n",
       "</style>\n",
       "<table border=\"1\" class=\"dataframe\">\n",
       "  <thead>\n",
       "    <tr style=\"text-align: right;\">\n",
       "      <th></th>\n",
       "      <th>mean</th>\n",
       "      <th>sd</th>\n",
       "      <th>hdi_3%</th>\n",
       "      <th>hdi_97%</th>\n",
       "      <th>mcse_mean</th>\n",
       "      <th>mcse_sd</th>\n",
       "      <th>ess_bulk</th>\n",
       "      <th>ess_tail</th>\n",
       "      <th>r_hat</th>\n",
       "    </tr>\n",
       "  </thead>\n",
       "  <tbody>\n",
       "    <tr>\n",
       "      <th>Intercept</th>\n",
       "      <td>-292.615</td>\n",
       "      <td>27.080</td>\n",
       "      <td>-340.722</td>\n",
       "      <td>-238.432</td>\n",
       "      <td>0.244</td>\n",
       "      <td>0.172</td>\n",
       "      <td>12367.0</td>\n",
       "      <td>5491.0</td>\n",
       "      <td>1.0</td>\n",
       "    </tr>\n",
       "    <tr>\n",
       "      <th>Limit</th>\n",
       "      <td>0.172</td>\n",
       "      <td>0.005</td>\n",
       "      <td>0.162</td>\n",
       "      <td>0.181</td>\n",
       "      <td>0.000</td>\n",
       "      <td>0.000</td>\n",
       "      <td>12382.0</td>\n",
       "      <td>6300.0</td>\n",
       "      <td>1.0</td>\n",
       "    </tr>\n",
       "    <tr>\n",
       "      <th>sigma</th>\n",
       "      <td>234.162</td>\n",
       "      <td>8.406</td>\n",
       "      <td>217.976</td>\n",
       "      <td>249.822</td>\n",
       "      <td>0.083</td>\n",
       "      <td>0.059</td>\n",
       "      <td>10295.0</td>\n",
       "      <td>6199.0</td>\n",
       "      <td>1.0</td>\n",
       "    </tr>\n",
       "  </tbody>\n",
       "</table>\n",
       "</div>"
      ],
      "text/plain": [
       "              mean      sd   hdi_3%  hdi_97%  mcse_mean  mcse_sd  ess_bulk  \\\n",
       "Intercept -292.615  27.080 -340.722 -238.432      0.244    0.172   12367.0   \n",
       "Limit        0.172   0.005    0.162    0.181      0.000    0.000   12382.0   \n",
       "sigma      234.162   8.406  217.976  249.822      0.083    0.059   10295.0   \n",
       "\n",
       "           ess_tail  r_hat  \n",
       "Intercept    5491.0    1.0  \n",
       "Limit        6300.0    1.0  \n",
       "sigma        6199.0    1.0  "
      ]
     },
     "execution_count": 10,
     "metadata": {},
     "output_type": "execute_result"
    }
   ],
   "source": [
    "pm.summary( credit_trace1 )"
   ]
  },
  {
   "cell_type": "markdown",
   "id": "66d08512-c448-4394-92fa-4af6dc4034dc",
   "metadata": {},
   "source": [
    "$R^2$ score:"
   ]
  },
  {
   "cell_type": "code",
   "execution_count": 11,
   "id": "266639a4-a3c3-4f0b-a5f9-7b9a7d7d2d08",
   "metadata": {},
   "outputs": [
    {
     "data": {
      "text/plain": [
       "r2        0.659115\n",
       "r2_std    0.018553\n",
       "dtype: float64"
      ]
     },
     "execution_count": 11,
     "metadata": {},
     "output_type": "execute_result"
    }
   ],
   "source": [
    "credit_model1.predict(credit_trace1, kind=\"response\")\n",
    "ypred = az.extract( credit_trace1.posterior_predictive ).Balance.values.T\n",
    "ytrue = credit_data.Balance.values\n",
    "pm.r2_score( ytrue, ypred )"
   ]
  },
  {
   "cell_type": "markdown",
   "id": "62f48084-161e-4ccb-88ea-439a741778ae",
   "metadata": {},
   "source": [
    "## More than one variable"
   ]
  },
  {
   "cell_type": "code",
   "execution_count": 12,
   "id": "437127ee-d683-4504-a59d-f01e5a3c4a51",
   "metadata": {},
   "outputs": [
    {
     "data": {
      "text/html": [
       "<div>\n",
       "<style scoped>\n",
       "    .dataframe tbody tr th:only-of-type {\n",
       "        vertical-align: middle;\n",
       "    }\n",
       "\n",
       "    .dataframe tbody tr th {\n",
       "        vertical-align: top;\n",
       "    }\n",
       "\n",
       "    .dataframe thead th {\n",
       "        text-align: right;\n",
       "    }\n",
       "</style>\n",
       "<table border=\"1\" class=\"dataframe\">\n",
       "  <thead>\n",
       "    <tr style=\"text-align: right;\">\n",
       "      <th></th>\n",
       "      <th>ID</th>\n",
       "      <th>Income</th>\n",
       "      <th>Limit</th>\n",
       "      <th>Rating</th>\n",
       "      <th>Cards</th>\n",
       "      <th>Age</th>\n",
       "      <th>Education</th>\n",
       "      <th>Gender</th>\n",
       "      <th>Student</th>\n",
       "      <th>Married</th>\n",
       "      <th>Ethnicity</th>\n",
       "      <th>Balance</th>\n",
       "    </tr>\n",
       "  </thead>\n",
       "  <tbody>\n",
       "    <tr>\n",
       "      <th>0</th>\n",
       "      <td>1</td>\n",
       "      <td>14.891</td>\n",
       "      <td>3606</td>\n",
       "      <td>283</td>\n",
       "      <td>2</td>\n",
       "      <td>34</td>\n",
       "      <td>11</td>\n",
       "      <td>Male</td>\n",
       "      <td>No</td>\n",
       "      <td>Yes</td>\n",
       "      <td>Caucasian</td>\n",
       "      <td>333</td>\n",
       "    </tr>\n",
       "    <tr>\n",
       "      <th>1</th>\n",
       "      <td>2</td>\n",
       "      <td>106.025</td>\n",
       "      <td>6645</td>\n",
       "      <td>483</td>\n",
       "      <td>3</td>\n",
       "      <td>82</td>\n",
       "      <td>15</td>\n",
       "      <td>Female</td>\n",
       "      <td>Yes</td>\n",
       "      <td>Yes</td>\n",
       "      <td>Asian</td>\n",
       "      <td>903</td>\n",
       "    </tr>\n",
       "    <tr>\n",
       "      <th>2</th>\n",
       "      <td>3</td>\n",
       "      <td>104.593</td>\n",
       "      <td>7075</td>\n",
       "      <td>514</td>\n",
       "      <td>4</td>\n",
       "      <td>71</td>\n",
       "      <td>11</td>\n",
       "      <td>Male</td>\n",
       "      <td>No</td>\n",
       "      <td>No</td>\n",
       "      <td>Asian</td>\n",
       "      <td>580</td>\n",
       "    </tr>\n",
       "    <tr>\n",
       "      <th>3</th>\n",
       "      <td>4</td>\n",
       "      <td>148.924</td>\n",
       "      <td>9504</td>\n",
       "      <td>681</td>\n",
       "      <td>3</td>\n",
       "      <td>36</td>\n",
       "      <td>11</td>\n",
       "      <td>Female</td>\n",
       "      <td>No</td>\n",
       "      <td>No</td>\n",
       "      <td>Asian</td>\n",
       "      <td>964</td>\n",
       "    </tr>\n",
       "    <tr>\n",
       "      <th>4</th>\n",
       "      <td>5</td>\n",
       "      <td>55.882</td>\n",
       "      <td>4897</td>\n",
       "      <td>357</td>\n",
       "      <td>2</td>\n",
       "      <td>68</td>\n",
       "      <td>16</td>\n",
       "      <td>Male</td>\n",
       "      <td>No</td>\n",
       "      <td>Yes</td>\n",
       "      <td>Caucasian</td>\n",
       "      <td>331</td>\n",
       "    </tr>\n",
       "  </tbody>\n",
       "</table>\n",
       "</div>"
      ],
      "text/plain": [
       "   ID   Income  Limit  Rating  Cards  Age  Education  Gender Student Married  \\\n",
       "0   1   14.891   3606     283      2   34         11    Male      No     Yes   \n",
       "1   2  106.025   6645     483      3   82         15  Female     Yes     Yes   \n",
       "2   3  104.593   7075     514      4   71         11    Male      No      No   \n",
       "3   4  148.924   9504     681      3   36         11  Female      No      No   \n",
       "4   5   55.882   4897     357      2   68         16    Male      No     Yes   \n",
       "\n",
       "   Ethnicity  Balance  \n",
       "0  Caucasian      333  \n",
       "1      Asian      903  \n",
       "2      Asian      580  \n",
       "3      Asian      964  \n",
       "4  Caucasian      331  "
      ]
     },
     "execution_count": 12,
     "metadata": {},
     "output_type": "execute_result"
    }
   ],
   "source": [
    "credit_data.head()"
   ]
  },
  {
   "cell_type": "code",
   "execution_count": 13,
   "id": "6cb03d70-a962-40ae-8c9c-8dde3ddd372e",
   "metadata": {},
   "outputs": [
    {
     "name": "stderr",
     "output_type": "stream",
     "text": [
      "Auto-assigning NUTS sampler...\n",
      "Initializing NUTS using jitter+adapt_diag...\n",
      "Multiprocess sampling (4 chains in 4 jobs)\n",
      "NUTS: [sigma, Intercept, Limit, Income]\n"
     ]
    },
    {
     "data": {
      "application/vnd.jupyter.widget-view+json": {
       "model_id": "818288dcc0b74219891af44423a75a4b",
       "version_major": 2,
       "version_minor": 0
      },
      "text/plain": [
       "Output()"
      ]
     },
     "metadata": {},
     "output_type": "display_data"
    },
    {
     "data": {
      "text/html": [
       "<pre style=\"white-space:pre;overflow-x:auto;line-height:normal;font-family:Menlo,'DejaVu Sans Mono',consolas,'Courier New',monospace\"></pre>\n"
      ],
      "text/plain": []
     },
     "metadata": {},
     "output_type": "display_data"
    },
    {
     "data": {
      "text/html": [
       "<pre style=\"white-space:pre;overflow-x:auto;line-height:normal;font-family:Menlo,'DejaVu Sans Mono',consolas,'Courier New',monospace\">\n",
       "</pre>\n"
      ],
      "text/plain": [
       "\n"
      ]
     },
     "metadata": {},
     "output_type": "display_data"
    },
    {
     "name": "stderr",
     "output_type": "stream",
     "text": [
      "Sampling 4 chains for 2_000 tune and 2_000 draw iterations (8_000 + 8_000 draws total) took 8 seconds.\n"
     ]
    }
   ],
   "source": [
    "credit_model2 = bmb.Model( \"Balance ~ Limit + Income\", data=credit_data, family=\"gaussian\" )\n",
    "credit_trace2 = credit_model2.fit(draws=2000, tune=2000)"
   ]
  },
  {
   "cell_type": "code",
   "execution_count": 14,
   "id": "b1346745-06da-4662-a3cc-59f5c6c6fe07",
   "metadata": {},
   "outputs": [
    {
     "data": {
      "text/plain": [
       "       Formula: Balance ~ Limit + Income\n",
       "        Family: gaussian\n",
       "          Link: mu = identity\n",
       "  Observations: 400\n",
       "        Priors: \n",
       "    target = mu\n",
       "        Common-level effects\n",
       "            Intercept ~ Normal(mu: 520.015, sigma: 3008.889)\n",
       "            Limit ~ Normal(mu: 0.0, sigma: 0.498)\n",
       "            Income ~ Normal(mu: 0.0, sigma: 32.6123)\n",
       "        \n",
       "        Auxiliary parameters\n",
       "            sigma ~ HalfStudentT(nu: 4.0, sigma: 459.1838)\n",
       "------\n",
       "* To see a plot of the priors call the .plot_priors() method.\n",
       "* To see a summary or plot of the posterior pass the object returned by .fit() to az.summary() or az.plot_trace()"
      ]
     },
     "execution_count": 14,
     "metadata": {},
     "output_type": "execute_result"
    }
   ],
   "source": [
    "credit_model2"
   ]
  },
  {
   "cell_type": "code",
   "execution_count": 15,
   "id": "7f9d9567-9f8a-46f6-bbed-8448846cb276",
   "metadata": {},
   "outputs": [
    {
     "data": {
      "text/html": [
       "<div>\n",
       "<style scoped>\n",
       "    .dataframe tbody tr th:only-of-type {\n",
       "        vertical-align: middle;\n",
       "    }\n",
       "\n",
       "    .dataframe tbody tr th {\n",
       "        vertical-align: top;\n",
       "    }\n",
       "\n",
       "    .dataframe thead th {\n",
       "        text-align: right;\n",
       "    }\n",
       "</style>\n",
       "<table border=\"1\" class=\"dataframe\">\n",
       "  <thead>\n",
       "    <tr style=\"text-align: right;\">\n",
       "      <th></th>\n",
       "      <th>mean</th>\n",
       "      <th>sd</th>\n",
       "      <th>hdi_3%</th>\n",
       "      <th>hdi_97%</th>\n",
       "      <th>mcse_mean</th>\n",
       "      <th>mcse_sd</th>\n",
       "      <th>ess_bulk</th>\n",
       "      <th>ess_tail</th>\n",
       "      <th>r_hat</th>\n",
       "    </tr>\n",
       "  </thead>\n",
       "  <tbody>\n",
       "    <tr>\n",
       "      <th>Income</th>\n",
       "      <td>-7.654</td>\n",
       "      <td>0.384</td>\n",
       "      <td>-8.414</td>\n",
       "      <td>-6.955</td>\n",
       "      <td>0.005</td>\n",
       "      <td>0.003</td>\n",
       "      <td>6565.0</td>\n",
       "      <td>5545.0</td>\n",
       "      <td>1.0</td>\n",
       "    </tr>\n",
       "    <tr>\n",
       "      <th>Intercept</th>\n",
       "      <td>-384.349</td>\n",
       "      <td>19.398</td>\n",
       "      <td>-421.561</td>\n",
       "      <td>-348.736</td>\n",
       "      <td>0.210</td>\n",
       "      <td>0.149</td>\n",
       "      <td>8486.0</td>\n",
       "      <td>7132.0</td>\n",
       "      <td>1.0</td>\n",
       "    </tr>\n",
       "    <tr>\n",
       "      <th>Limit</th>\n",
       "      <td>0.264</td>\n",
       "      <td>0.006</td>\n",
       "      <td>0.253</td>\n",
       "      <td>0.275</td>\n",
       "      <td>0.000</td>\n",
       "      <td>0.000</td>\n",
       "      <td>6620.0</td>\n",
       "      <td>5543.0</td>\n",
       "      <td>1.0</td>\n",
       "    </tr>\n",
       "    <tr>\n",
       "      <th>sigma</th>\n",
       "      <td>165.907</td>\n",
       "      <td>5.822</td>\n",
       "      <td>155.568</td>\n",
       "      <td>177.213</td>\n",
       "      <td>0.067</td>\n",
       "      <td>0.048</td>\n",
       "      <td>7458.0</td>\n",
       "      <td>6073.0</td>\n",
       "      <td>1.0</td>\n",
       "    </tr>\n",
       "  </tbody>\n",
       "</table>\n",
       "</div>"
      ],
      "text/plain": [
       "              mean      sd   hdi_3%  hdi_97%  mcse_mean  mcse_sd  ess_bulk  \\\n",
       "Income      -7.654   0.384   -8.414   -6.955      0.005    0.003    6565.0   \n",
       "Intercept -384.349  19.398 -421.561 -348.736      0.210    0.149    8486.0   \n",
       "Limit        0.264   0.006    0.253    0.275      0.000    0.000    6620.0   \n",
       "sigma      165.907   5.822  155.568  177.213      0.067    0.048    7458.0   \n",
       "\n",
       "           ess_tail  r_hat  \n",
       "Income       5545.0    1.0  \n",
       "Intercept    7132.0    1.0  \n",
       "Limit        5543.0    1.0  \n",
       "sigma        6073.0    1.0  "
      ]
     },
     "execution_count": 15,
     "metadata": {},
     "output_type": "execute_result"
    }
   ],
   "source": [
    "pm.summary( credit_trace2 )"
   ]
  },
  {
   "cell_type": "code",
   "execution_count": 16,
   "id": "e63fd88c-0d12-4277-9b12-dbd907e68af3",
   "metadata": {},
   "outputs": [
    {
     "data": {
      "text/plain": [
       "r2        0.793435\n",
       "r2_std    0.012945\n",
       "dtype: float64"
      ]
     },
     "execution_count": 16,
     "metadata": {},
     "output_type": "execute_result"
    }
   ],
   "source": [
    "credit_model2.predict(credit_trace2, kind=\"response\")\n",
    "ypred = az.extract( credit_trace2.posterior_predictive ).Balance.values.T\n",
    "ytrue = credit_data.Balance.values\n",
    "pm.r2_score( ytrue, ypred )"
   ]
  },
  {
   "cell_type": "markdown",
   "id": "22ee61c6-3d70-4198-a51f-77e33da9f70c",
   "metadata": {},
   "source": [
    "Significantly more variance explained with `Income` data."
   ]
  },
  {
   "cell_type": "markdown",
   "id": "13f35762-1dc0-41f4-a6fd-8ea8c5db6796",
   "metadata": {},
   "source": [
    "## Categorical Predictors"
   ]
  },
  {
   "cell_type": "code",
   "execution_count": 17,
   "id": "a2184738-7696-48cb-8913-b87931dca9b9",
   "metadata": {},
   "outputs": [
    {
     "data": {
      "text/html": [
       "<div>\n",
       "<style scoped>\n",
       "    .dataframe tbody tr th:only-of-type {\n",
       "        vertical-align: middle;\n",
       "    }\n",
       "\n",
       "    .dataframe tbody tr th {\n",
       "        vertical-align: top;\n",
       "    }\n",
       "\n",
       "    .dataframe thead th {\n",
       "        text-align: right;\n",
       "    }\n",
       "</style>\n",
       "<table border=\"1\" class=\"dataframe\">\n",
       "  <thead>\n",
       "    <tr style=\"text-align: right;\">\n",
       "      <th></th>\n",
       "      <th>Balance</th>\n",
       "      <th>Income</th>\n",
       "      <th>Limit</th>\n",
       "      <th>Student</th>\n",
       "    </tr>\n",
       "  </thead>\n",
       "  <tbody>\n",
       "    <tr>\n",
       "      <th>0</th>\n",
       "      <td>333</td>\n",
       "      <td>14.891</td>\n",
       "      <td>3606</td>\n",
       "      <td>No</td>\n",
       "    </tr>\n",
       "    <tr>\n",
       "      <th>1</th>\n",
       "      <td>903</td>\n",
       "      <td>106.025</td>\n",
       "      <td>6645</td>\n",
       "      <td>Yes</td>\n",
       "    </tr>\n",
       "    <tr>\n",
       "      <th>2</th>\n",
       "      <td>580</td>\n",
       "      <td>104.593</td>\n",
       "      <td>7075</td>\n",
       "      <td>No</td>\n",
       "    </tr>\n",
       "    <tr>\n",
       "      <th>3</th>\n",
       "      <td>964</td>\n",
       "      <td>148.924</td>\n",
       "      <td>9504</td>\n",
       "      <td>No</td>\n",
       "    </tr>\n",
       "    <tr>\n",
       "      <th>4</th>\n",
       "      <td>331</td>\n",
       "      <td>55.882</td>\n",
       "      <td>4897</td>\n",
       "      <td>No</td>\n",
       "    </tr>\n",
       "  </tbody>\n",
       "</table>\n",
       "</div>"
      ],
      "text/plain": [
       "   Balance   Income  Limit Student\n",
       "0      333   14.891   3606      No\n",
       "1      903  106.025   6645     Yes\n",
       "2      580  104.593   7075      No\n",
       "3      964  148.924   9504      No\n",
       "4      331   55.882   4897      No"
      ]
     },
     "execution_count": 17,
     "metadata": {},
     "output_type": "execute_result"
    }
   ],
   "source": [
    "credit_data[[\"Balance\", \"Income\", \"Limit\", \"Student\"]].head()"
   ]
  },
  {
   "cell_type": "code",
   "execution_count": 18,
   "id": "4e5f1e0d-8efc-49d3-b9df-7041db7cc297",
   "metadata": {},
   "outputs": [
    {
     "name": "stderr",
     "output_type": "stream",
     "text": [
      "Auto-assigning NUTS sampler...\n",
      "Initializing NUTS using jitter+adapt_diag...\n",
      "Multiprocess sampling (4 chains in 4 jobs)\n",
      "NUTS: [sigma, Intercept, Limit, Income, Student]\n"
     ]
    },
    {
     "data": {
      "application/vnd.jupyter.widget-view+json": {
       "model_id": "4b3102a0aa374591a079e85b1d5fe306",
       "version_major": 2,
       "version_minor": 0
      },
      "text/plain": [
       "Output()"
      ]
     },
     "metadata": {},
     "output_type": "display_data"
    },
    {
     "data": {
      "text/html": [
       "<pre style=\"white-space:pre;overflow-x:auto;line-height:normal;font-family:Menlo,'DejaVu Sans Mono',consolas,'Courier New',monospace\"></pre>\n"
      ],
      "text/plain": []
     },
     "metadata": {},
     "output_type": "display_data"
    },
    {
     "data": {
      "text/html": [
       "<pre style=\"white-space:pre;overflow-x:auto;line-height:normal;font-family:Menlo,'DejaVu Sans Mono',consolas,'Courier New',monospace\">\n",
       "</pre>\n"
      ],
      "text/plain": [
       "\n"
      ]
     },
     "metadata": {},
     "output_type": "display_data"
    },
    {
     "name": "stderr",
     "output_type": "stream",
     "text": [
      "Sampling 4 chains for 2_000 tune and 2_000 draw iterations (8_000 + 8_000 draws total) took 10 seconds.\n"
     ]
    }
   ],
   "source": [
    "credit_model3 = bmb.Model( \"Balance ~ Limit + Income + Student\", data=credit_data, family=\"gaussian\" )\n",
    "credit_trace3 = credit_model3.fit(draws=2000, tune=2000)"
   ]
  },
  {
   "cell_type": "code",
   "execution_count": 19,
   "id": "4516c49f-17f7-4304-98fe-bb8d94a51748",
   "metadata": {},
   "outputs": [
    {
     "data": {
      "text/html": [
       "<div>\n",
       "<style scoped>\n",
       "    .dataframe tbody tr th:only-of-type {\n",
       "        vertical-align: middle;\n",
       "    }\n",
       "\n",
       "    .dataframe tbody tr th {\n",
       "        vertical-align: top;\n",
       "    }\n",
       "\n",
       "    .dataframe thead th {\n",
       "        text-align: right;\n",
       "    }\n",
       "</style>\n",
       "<table border=\"1\" class=\"dataframe\">\n",
       "  <thead>\n",
       "    <tr style=\"text-align: right;\">\n",
       "      <th></th>\n",
       "      <th>mean</th>\n",
       "      <th>sd</th>\n",
       "      <th>hdi_3%</th>\n",
       "      <th>hdi_97%</th>\n",
       "      <th>mcse_mean</th>\n",
       "      <th>mcse_sd</th>\n",
       "      <th>ess_bulk</th>\n",
       "      <th>ess_tail</th>\n",
       "      <th>r_hat</th>\n",
       "    </tr>\n",
       "  </thead>\n",
       "  <tbody>\n",
       "    <tr>\n",
       "      <th>Income</th>\n",
       "      <td>-7.893</td>\n",
       "      <td>0.245</td>\n",
       "      <td>-8.361</td>\n",
       "      <td>-7.437</td>\n",
       "      <td>0.003</td>\n",
       "      <td>0.002</td>\n",
       "      <td>6397.0</td>\n",
       "      <td>5326.0</td>\n",
       "      <td>1.0</td>\n",
       "    </tr>\n",
       "    <tr>\n",
       "      <th>Intercept</th>\n",
       "      <td>-432.067</td>\n",
       "      <td>12.492</td>\n",
       "      <td>-455.493</td>\n",
       "      <td>-408.333</td>\n",
       "      <td>0.130</td>\n",
       "      <td>0.092</td>\n",
       "      <td>9169.0</td>\n",
       "      <td>7422.0</td>\n",
       "      <td>1.0</td>\n",
       "    </tr>\n",
       "    <tr>\n",
       "      <th>Limit</th>\n",
       "      <td>0.267</td>\n",
       "      <td>0.004</td>\n",
       "      <td>0.260</td>\n",
       "      <td>0.274</td>\n",
       "      <td>0.000</td>\n",
       "      <td>0.000</td>\n",
       "      <td>6766.0</td>\n",
       "      <td>5165.0</td>\n",
       "      <td>1.0</td>\n",
       "    </tr>\n",
       "    <tr>\n",
       "      <th>Student[Yes]</th>\n",
       "      <td>426.627</td>\n",
       "      <td>17.407</td>\n",
       "      <td>392.121</td>\n",
       "      <td>457.592</td>\n",
       "      <td>0.181</td>\n",
       "      <td>0.128</td>\n",
       "      <td>9286.0</td>\n",
       "      <td>5319.0</td>\n",
       "      <td>1.0</td>\n",
       "    </tr>\n",
       "    <tr>\n",
       "      <th>sigma</th>\n",
       "      <td>104.759</td>\n",
       "      <td>3.731</td>\n",
       "      <td>97.421</td>\n",
       "      <td>111.443</td>\n",
       "      <td>0.037</td>\n",
       "      <td>0.026</td>\n",
       "      <td>10236.0</td>\n",
       "      <td>6637.0</td>\n",
       "      <td>1.0</td>\n",
       "    </tr>\n",
       "  </tbody>\n",
       "</table>\n",
       "</div>"
      ],
      "text/plain": [
       "                 mean      sd   hdi_3%  hdi_97%  mcse_mean  mcse_sd  ess_bulk  \\\n",
       "Income         -7.893   0.245   -8.361   -7.437      0.003    0.002    6397.0   \n",
       "Intercept    -432.067  12.492 -455.493 -408.333      0.130    0.092    9169.0   \n",
       "Limit           0.267   0.004    0.260    0.274      0.000    0.000    6766.0   \n",
       "Student[Yes]  426.627  17.407  392.121  457.592      0.181    0.128    9286.0   \n",
       "sigma         104.759   3.731   97.421  111.443      0.037    0.026   10236.0   \n",
       "\n",
       "              ess_tail  r_hat  \n",
       "Income          5326.0    1.0  \n",
       "Intercept       7422.0    1.0  \n",
       "Limit           5165.0    1.0  \n",
       "Student[Yes]    5319.0    1.0  \n",
       "sigma           6637.0    1.0  "
      ]
     },
     "execution_count": 19,
     "metadata": {},
     "output_type": "execute_result"
    }
   ],
   "source": [
    "pm.summary( credit_trace3 )"
   ]
  },
  {
   "cell_type": "code",
   "execution_count": 20,
   "id": "f421d22c-f351-4dbb-a4d8-43ccdaa0c8f3",
   "metadata": {},
   "outputs": [
    {
     "data": {
      "text/plain": [
       "r2        0.906308\n",
       "r2_std    0.006286\n",
       "dtype: float64"
      ]
     },
     "execution_count": 20,
     "metadata": {},
     "output_type": "execute_result"
    }
   ],
   "source": [
    "credit_model3.predict(credit_trace3, kind=\"response\")\n",
    "ypred = az.extract( credit_trace3.posterior_predictive ).Balance.values.T\n",
    "ytrue = credit_data.Balance.values\n",
    "pm.r2_score( ytrue, ypred )"
   ]
  },
  {
   "cell_type": "markdown",
   "id": "81310a9a-41f9-457b-8606-bd5288546602",
   "metadata": {},
   "source": [
    "Again a significant improvement! Student status explains a lot of variance!"
   ]
  },
  {
   "cell_type": "markdown",
   "id": "6c5266e1-4536-401e-a257-a2b48377dc81",
   "metadata": {},
   "source": [
    "## Full 'Enchilada'\n",
    "\n",
    "(all variables)"
   ]
  },
  {
   "cell_type": "code",
   "execution_count": 21,
   "id": "b07ffb65-8fae-4d19-8797-3032c1de038c",
   "metadata": {},
   "outputs": [
    {
     "data": {
      "text/html": [
       "<div>\n",
       "<style scoped>\n",
       "    .dataframe tbody tr th:only-of-type {\n",
       "        vertical-align: middle;\n",
       "    }\n",
       "\n",
       "    .dataframe tbody tr th {\n",
       "        vertical-align: top;\n",
       "    }\n",
       "\n",
       "    .dataframe thead th {\n",
       "        text-align: right;\n",
       "    }\n",
       "</style>\n",
       "<table border=\"1\" class=\"dataframe\">\n",
       "  <thead>\n",
       "    <tr style=\"text-align: right;\">\n",
       "      <th></th>\n",
       "      <th>ID</th>\n",
       "      <th>Income</th>\n",
       "      <th>Limit</th>\n",
       "      <th>Rating</th>\n",
       "      <th>Cards</th>\n",
       "      <th>Age</th>\n",
       "      <th>Education</th>\n",
       "      <th>Gender</th>\n",
       "      <th>Student</th>\n",
       "      <th>Married</th>\n",
       "      <th>Ethnicity</th>\n",
       "      <th>Balance</th>\n",
       "    </tr>\n",
       "  </thead>\n",
       "  <tbody>\n",
       "    <tr>\n",
       "      <th>0</th>\n",
       "      <td>1</td>\n",
       "      <td>14.891</td>\n",
       "      <td>3606</td>\n",
       "      <td>283</td>\n",
       "      <td>2</td>\n",
       "      <td>34</td>\n",
       "      <td>11</td>\n",
       "      <td>Male</td>\n",
       "      <td>No</td>\n",
       "      <td>Yes</td>\n",
       "      <td>Caucasian</td>\n",
       "      <td>333</td>\n",
       "    </tr>\n",
       "    <tr>\n",
       "      <th>1</th>\n",
       "      <td>2</td>\n",
       "      <td>106.025</td>\n",
       "      <td>6645</td>\n",
       "      <td>483</td>\n",
       "      <td>3</td>\n",
       "      <td>82</td>\n",
       "      <td>15</td>\n",
       "      <td>Female</td>\n",
       "      <td>Yes</td>\n",
       "      <td>Yes</td>\n",
       "      <td>Asian</td>\n",
       "      <td>903</td>\n",
       "    </tr>\n",
       "    <tr>\n",
       "      <th>2</th>\n",
       "      <td>3</td>\n",
       "      <td>104.593</td>\n",
       "      <td>7075</td>\n",
       "      <td>514</td>\n",
       "      <td>4</td>\n",
       "      <td>71</td>\n",
       "      <td>11</td>\n",
       "      <td>Male</td>\n",
       "      <td>No</td>\n",
       "      <td>No</td>\n",
       "      <td>Asian</td>\n",
       "      <td>580</td>\n",
       "    </tr>\n",
       "    <tr>\n",
       "      <th>3</th>\n",
       "      <td>4</td>\n",
       "      <td>148.924</td>\n",
       "      <td>9504</td>\n",
       "      <td>681</td>\n",
       "      <td>3</td>\n",
       "      <td>36</td>\n",
       "      <td>11</td>\n",
       "      <td>Female</td>\n",
       "      <td>No</td>\n",
       "      <td>No</td>\n",
       "      <td>Asian</td>\n",
       "      <td>964</td>\n",
       "    </tr>\n",
       "    <tr>\n",
       "      <th>4</th>\n",
       "      <td>5</td>\n",
       "      <td>55.882</td>\n",
       "      <td>4897</td>\n",
       "      <td>357</td>\n",
       "      <td>2</td>\n",
       "      <td>68</td>\n",
       "      <td>16</td>\n",
       "      <td>Male</td>\n",
       "      <td>No</td>\n",
       "      <td>Yes</td>\n",
       "      <td>Caucasian</td>\n",
       "      <td>331</td>\n",
       "    </tr>\n",
       "  </tbody>\n",
       "</table>\n",
       "</div>"
      ],
      "text/plain": [
       "   ID   Income  Limit  Rating  Cards  Age  Education  Gender Student Married  \\\n",
       "0   1   14.891   3606     283      2   34         11    Male      No     Yes   \n",
       "1   2  106.025   6645     483      3   82         15  Female     Yes     Yes   \n",
       "2   3  104.593   7075     514      4   71         11    Male      No      No   \n",
       "3   4  148.924   9504     681      3   36         11  Female      No      No   \n",
       "4   5   55.882   4897     357      2   68         16    Male      No     Yes   \n",
       "\n",
       "   Ethnicity  Balance  \n",
       "0  Caucasian      333  \n",
       "1      Asian      903  \n",
       "2      Asian      580  \n",
       "3      Asian      964  \n",
       "4  Caucasian      331  "
      ]
     },
     "execution_count": 21,
     "metadata": {},
     "output_type": "execute_result"
    }
   ],
   "source": [
    "credit_data.head()"
   ]
  },
  {
   "cell_type": "code",
   "execution_count": 22,
   "id": "f93bda9d-cc7a-4065-abce-a115065a06f1",
   "metadata": {},
   "outputs": [
    {
     "name": "stderr",
     "output_type": "stream",
     "text": [
      "Auto-assigning NUTS sampler...\n",
      "Initializing NUTS using jitter+adapt_diag...\n",
      "Multiprocess sampling (4 chains in 4 jobs)\n",
      "NUTS: [sigma, Intercept, Income, Limit, Rating, Cards, Age, Education, Gender, Student, Married, Ethnicity]\n"
     ]
    },
    {
     "data": {
      "application/vnd.jupyter.widget-view+json": {
       "model_id": "fabe7effff084df0b1ae89f43f09446d",
       "version_major": 2,
       "version_minor": 0
      },
      "text/plain": [
       "Output()"
      ]
     },
     "metadata": {},
     "output_type": "display_data"
    },
    {
     "data": {
      "text/html": [
       "<pre style=\"white-space:pre;overflow-x:auto;line-height:normal;font-family:Menlo,'DejaVu Sans Mono',consolas,'Courier New',monospace\"></pre>\n"
      ],
      "text/plain": []
     },
     "metadata": {},
     "output_type": "display_data"
    },
    {
     "data": {
      "text/html": [
       "<pre style=\"white-space:pre;overflow-x:auto;line-height:normal;font-family:Menlo,'DejaVu Sans Mono',consolas,'Courier New',monospace\">\n",
       "</pre>\n"
      ],
      "text/plain": [
       "\n"
      ]
     },
     "metadata": {},
     "output_type": "display_data"
    },
    {
     "name": "stderr",
     "output_type": "stream",
     "text": [
      "Sampling 4 chains for 2_000 tune and 2_000 draw iterations (8_000 + 8_000 draws total) took 79 seconds.\n"
     ]
    }
   ],
   "source": [
    "credit_model4 = bmb.Model( \n",
    "    \"Balance ~ Income + Limit + Rating + Cards + Age + Education + Gender + Student + Married + Ethnicity\", \n",
    "    data=credit_data, \n",
    "    family=\"gaussian\" \n",
    ")\n",
    "credit_trace4 = credit_model4.fit(draws=2000, tune=2000)"
   ]
  },
  {
   "cell_type": "code",
   "execution_count": 23,
   "id": "e52b6277-7f40-423c-bf9a-5430eb9ca8cb",
   "metadata": {},
   "outputs": [
    {
     "data": {
      "text/html": [
       "<div>\n",
       "<style scoped>\n",
       "    .dataframe tbody tr th:only-of-type {\n",
       "        vertical-align: middle;\n",
       "    }\n",
       "\n",
       "    .dataframe tbody tr th {\n",
       "        vertical-align: top;\n",
       "    }\n",
       "\n",
       "    .dataframe thead th {\n",
       "        text-align: right;\n",
       "    }\n",
       "</style>\n",
       "<table border=\"1\" class=\"dataframe\">\n",
       "  <thead>\n",
       "    <tr style=\"text-align: right;\">\n",
       "      <th></th>\n",
       "      <th>mean</th>\n",
       "      <th>sd</th>\n",
       "      <th>hdi_3%</th>\n",
       "      <th>hdi_97%</th>\n",
       "      <th>mcse_mean</th>\n",
       "      <th>mcse_sd</th>\n",
       "      <th>ess_bulk</th>\n",
       "      <th>ess_tail</th>\n",
       "      <th>r_hat</th>\n",
       "    </tr>\n",
       "  </thead>\n",
       "  <tbody>\n",
       "    <tr>\n",
       "      <th>Age</th>\n",
       "      <td>-0.610</td>\n",
       "      <td>0.291</td>\n",
       "      <td>-1.143</td>\n",
       "      <td>-0.041</td>\n",
       "      <td>0.003</td>\n",
       "      <td>0.002</td>\n",
       "      <td>10702.0</td>\n",
       "      <td>5327.0</td>\n",
       "      <td>1.0</td>\n",
       "    </tr>\n",
       "    <tr>\n",
       "      <th>Cards</th>\n",
       "      <td>17.634</td>\n",
       "      <td>4.375</td>\n",
       "      <td>9.621</td>\n",
       "      <td>26.152</td>\n",
       "      <td>0.055</td>\n",
       "      <td>0.039</td>\n",
       "      <td>6348.0</td>\n",
       "      <td>6031.0</td>\n",
       "      <td>1.0</td>\n",
       "    </tr>\n",
       "    <tr>\n",
       "      <th>Education</th>\n",
       "      <td>-1.096</td>\n",
       "      <td>1.597</td>\n",
       "      <td>-4.059</td>\n",
       "      <td>1.915</td>\n",
       "      <td>0.016</td>\n",
       "      <td>0.016</td>\n",
       "      <td>9901.0</td>\n",
       "      <td>6210.0</td>\n",
       "      <td>1.0</td>\n",
       "    </tr>\n",
       "    <tr>\n",
       "      <th>Ethnicity[Asian]</th>\n",
       "      <td>17.055</td>\n",
       "      <td>14.252</td>\n",
       "      <td>-8.350</td>\n",
       "      <td>45.043</td>\n",
       "      <td>0.157</td>\n",
       "      <td>0.124</td>\n",
       "      <td>8172.0</td>\n",
       "      <td>6350.0</td>\n",
       "      <td>1.0</td>\n",
       "    </tr>\n",
       "    <tr>\n",
       "      <th>Ethnicity[Caucasian]</th>\n",
       "      <td>10.219</td>\n",
       "      <td>12.307</td>\n",
       "      <td>-12.250</td>\n",
       "      <td>33.920</td>\n",
       "      <td>0.136</td>\n",
       "      <td>0.108</td>\n",
       "      <td>8193.0</td>\n",
       "      <td>6359.0</td>\n",
       "      <td>1.0</td>\n",
       "    </tr>\n",
       "    <tr>\n",
       "      <th>Gender[Female]</th>\n",
       "      <td>-10.756</td>\n",
       "      <td>10.071</td>\n",
       "      <td>-30.439</td>\n",
       "      <td>7.148</td>\n",
       "      <td>0.096</td>\n",
       "      <td>0.090</td>\n",
       "      <td>11039.0</td>\n",
       "      <td>5783.0</td>\n",
       "      <td>1.0</td>\n",
       "    </tr>\n",
       "    <tr>\n",
       "      <th>Income</th>\n",
       "      <td>-7.802</td>\n",
       "      <td>0.238</td>\n",
       "      <td>-8.257</td>\n",
       "      <td>-7.371</td>\n",
       "      <td>0.002</td>\n",
       "      <td>0.002</td>\n",
       "      <td>9727.0</td>\n",
       "      <td>5576.0</td>\n",
       "      <td>1.0</td>\n",
       "    </tr>\n",
       "    <tr>\n",
       "      <th>Intercept</th>\n",
       "      <td>-480.099</td>\n",
       "      <td>36.622</td>\n",
       "      <td>-547.200</td>\n",
       "      <td>-411.339</td>\n",
       "      <td>0.391</td>\n",
       "      <td>0.276</td>\n",
       "      <td>8830.0</td>\n",
       "      <td>6471.0</td>\n",
       "      <td>1.0</td>\n",
       "    </tr>\n",
       "    <tr>\n",
       "      <th>Limit</th>\n",
       "      <td>0.189</td>\n",
       "      <td>0.033</td>\n",
       "      <td>0.132</td>\n",
       "      <td>0.255</td>\n",
       "      <td>0.000</td>\n",
       "      <td>0.000</td>\n",
       "      <td>5207.0</td>\n",
       "      <td>5398.0</td>\n",
       "      <td>1.0</td>\n",
       "    </tr>\n",
       "    <tr>\n",
       "      <th>Married[Yes]</th>\n",
       "      <td>-8.576</td>\n",
       "      <td>10.403</td>\n",
       "      <td>-27.502</td>\n",
       "      <td>11.921</td>\n",
       "      <td>0.104</td>\n",
       "      <td>0.093</td>\n",
       "      <td>10070.0</td>\n",
       "      <td>6121.0</td>\n",
       "      <td>1.0</td>\n",
       "    </tr>\n",
       "    <tr>\n",
       "      <th>Rating</th>\n",
       "      <td>1.159</td>\n",
       "      <td>0.494</td>\n",
       "      <td>0.221</td>\n",
       "      <td>2.073</td>\n",
       "      <td>0.007</td>\n",
       "      <td>0.005</td>\n",
       "      <td>5193.0</td>\n",
       "      <td>5291.0</td>\n",
       "      <td>1.0</td>\n",
       "    </tr>\n",
       "    <tr>\n",
       "      <th>Student[Yes]</th>\n",
       "      <td>425.617</td>\n",
       "      <td>16.895</td>\n",
       "      <td>393.304</td>\n",
       "      <td>457.180</td>\n",
       "      <td>0.160</td>\n",
       "      <td>0.114</td>\n",
       "      <td>11120.0</td>\n",
       "      <td>5603.0</td>\n",
       "      <td>1.0</td>\n",
       "    </tr>\n",
       "    <tr>\n",
       "      <th>sigma</th>\n",
       "      <td>99.180</td>\n",
       "      <td>3.564</td>\n",
       "      <td>92.471</td>\n",
       "      <td>105.791</td>\n",
       "      <td>0.038</td>\n",
       "      <td>0.027</td>\n",
       "      <td>8748.0</td>\n",
       "      <td>5467.0</td>\n",
       "      <td>1.0</td>\n",
       "    </tr>\n",
       "  </tbody>\n",
       "</table>\n",
       "</div>"
      ],
      "text/plain": [
       "                         mean      sd   hdi_3%  hdi_97%  mcse_mean  mcse_sd  \\\n",
       "Age                    -0.610   0.291   -1.143   -0.041      0.003    0.002   \n",
       "Cards                  17.634   4.375    9.621   26.152      0.055    0.039   \n",
       "Education              -1.096   1.597   -4.059    1.915      0.016    0.016   \n",
       "Ethnicity[Asian]       17.055  14.252   -8.350   45.043      0.157    0.124   \n",
       "Ethnicity[Caucasian]   10.219  12.307  -12.250   33.920      0.136    0.108   \n",
       "Gender[Female]        -10.756  10.071  -30.439    7.148      0.096    0.090   \n",
       "Income                 -7.802   0.238   -8.257   -7.371      0.002    0.002   \n",
       "Intercept            -480.099  36.622 -547.200 -411.339      0.391    0.276   \n",
       "Limit                   0.189   0.033    0.132    0.255      0.000    0.000   \n",
       "Married[Yes]           -8.576  10.403  -27.502   11.921      0.104    0.093   \n",
       "Rating                  1.159   0.494    0.221    2.073      0.007    0.005   \n",
       "Student[Yes]          425.617  16.895  393.304  457.180      0.160    0.114   \n",
       "sigma                  99.180   3.564   92.471  105.791      0.038    0.027   \n",
       "\n",
       "                      ess_bulk  ess_tail  r_hat  \n",
       "Age                    10702.0    5327.0    1.0  \n",
       "Cards                   6348.0    6031.0    1.0  \n",
       "Education               9901.0    6210.0    1.0  \n",
       "Ethnicity[Asian]        8172.0    6350.0    1.0  \n",
       "Ethnicity[Caucasian]    8193.0    6359.0    1.0  \n",
       "Gender[Female]         11039.0    5783.0    1.0  \n",
       "Income                  9727.0    5576.0    1.0  \n",
       "Intercept               8830.0    6471.0    1.0  \n",
       "Limit                   5207.0    5398.0    1.0  \n",
       "Married[Yes]           10070.0    6121.0    1.0  \n",
       "Rating                  5193.0    5291.0    1.0  \n",
       "Student[Yes]           11120.0    5603.0    1.0  \n",
       "sigma                   8748.0    5467.0    1.0  "
      ]
     },
     "execution_count": 23,
     "metadata": {},
     "output_type": "execute_result"
    }
   ],
   "source": [
    "summary = pm.summary( credit_trace4 )\n",
    "summary"
   ]
  },
  {
   "cell_type": "code",
   "execution_count": 24,
   "id": "dbaba5fa-2bdb-43de-a6ea-d739bbd2e6d2",
   "metadata": {},
   "outputs": [
    {
     "data": {
      "text/plain": [
       "array(['Caucasian', 'Asian', 'African American'], dtype=object)"
      ]
     },
     "execution_count": 24,
     "metadata": {},
     "output_type": "execute_result"
    }
   ],
   "source": [
    "credit_data.Ethnicity.unique()"
   ]
  },
  {
   "cell_type": "markdown",
   "id": "4383560c-7670-49b3-82af-64b27bdec2a7",
   "metadata": {},
   "source": [
    "Only significant predictors:"
   ]
  },
  {
   "cell_type": "code",
   "execution_count": 25,
   "id": "c2a87463-1086-4d45-9af1-09f4ca262ce6",
   "metadata": {},
   "outputs": [
    {
     "data": {
      "text/html": [
       "<div>\n",
       "<style scoped>\n",
       "    .dataframe tbody tr th:only-of-type {\n",
       "        vertical-align: middle;\n",
       "    }\n",
       "\n",
       "    .dataframe tbody tr th {\n",
       "        vertical-align: top;\n",
       "    }\n",
       "\n",
       "    .dataframe thead th {\n",
       "        text-align: right;\n",
       "    }\n",
       "</style>\n",
       "<table border=\"1\" class=\"dataframe\">\n",
       "  <thead>\n",
       "    <tr style=\"text-align: right;\">\n",
       "      <th></th>\n",
       "      <th>mean</th>\n",
       "      <th>sd</th>\n",
       "      <th>hdi_3%</th>\n",
       "      <th>hdi_97%</th>\n",
       "      <th>mcse_mean</th>\n",
       "      <th>mcse_sd</th>\n",
       "      <th>ess_bulk</th>\n",
       "      <th>ess_tail</th>\n",
       "      <th>r_hat</th>\n",
       "    </tr>\n",
       "  </thead>\n",
       "  <tbody>\n",
       "    <tr>\n",
       "      <th>Age</th>\n",
       "      <td>-0.610</td>\n",
       "      <td>0.291</td>\n",
       "      <td>-1.143</td>\n",
       "      <td>-0.041</td>\n",
       "      <td>0.003</td>\n",
       "      <td>0.002</td>\n",
       "      <td>10702.0</td>\n",
       "      <td>5327.0</td>\n",
       "      <td>1.0</td>\n",
       "    </tr>\n",
       "    <tr>\n",
       "      <th>Cards</th>\n",
       "      <td>17.634</td>\n",
       "      <td>4.375</td>\n",
       "      <td>9.621</td>\n",
       "      <td>26.152</td>\n",
       "      <td>0.055</td>\n",
       "      <td>0.039</td>\n",
       "      <td>6348.0</td>\n",
       "      <td>6031.0</td>\n",
       "      <td>1.0</td>\n",
       "    </tr>\n",
       "    <tr>\n",
       "      <th>Income</th>\n",
       "      <td>-7.802</td>\n",
       "      <td>0.238</td>\n",
       "      <td>-8.257</td>\n",
       "      <td>-7.371</td>\n",
       "      <td>0.002</td>\n",
       "      <td>0.002</td>\n",
       "      <td>9727.0</td>\n",
       "      <td>5576.0</td>\n",
       "      <td>1.0</td>\n",
       "    </tr>\n",
       "    <tr>\n",
       "      <th>Intercept</th>\n",
       "      <td>-480.099</td>\n",
       "      <td>36.622</td>\n",
       "      <td>-547.200</td>\n",
       "      <td>-411.339</td>\n",
       "      <td>0.391</td>\n",
       "      <td>0.276</td>\n",
       "      <td>8830.0</td>\n",
       "      <td>6471.0</td>\n",
       "      <td>1.0</td>\n",
       "    </tr>\n",
       "    <tr>\n",
       "      <th>Limit</th>\n",
       "      <td>0.189</td>\n",
       "      <td>0.033</td>\n",
       "      <td>0.132</td>\n",
       "      <td>0.255</td>\n",
       "      <td>0.000</td>\n",
       "      <td>0.000</td>\n",
       "      <td>5207.0</td>\n",
       "      <td>5398.0</td>\n",
       "      <td>1.0</td>\n",
       "    </tr>\n",
       "    <tr>\n",
       "      <th>Rating</th>\n",
       "      <td>1.159</td>\n",
       "      <td>0.494</td>\n",
       "      <td>0.221</td>\n",
       "      <td>2.073</td>\n",
       "      <td>0.007</td>\n",
       "      <td>0.005</td>\n",
       "      <td>5193.0</td>\n",
       "      <td>5291.0</td>\n",
       "      <td>1.0</td>\n",
       "    </tr>\n",
       "    <tr>\n",
       "      <th>Student[Yes]</th>\n",
       "      <td>425.617</td>\n",
       "      <td>16.895</td>\n",
       "      <td>393.304</td>\n",
       "      <td>457.180</td>\n",
       "      <td>0.160</td>\n",
       "      <td>0.114</td>\n",
       "      <td>11120.0</td>\n",
       "      <td>5603.0</td>\n",
       "      <td>1.0</td>\n",
       "    </tr>\n",
       "    <tr>\n",
       "      <th>sigma</th>\n",
       "      <td>99.180</td>\n",
       "      <td>3.564</td>\n",
       "      <td>92.471</td>\n",
       "      <td>105.791</td>\n",
       "      <td>0.038</td>\n",
       "      <td>0.027</td>\n",
       "      <td>8748.0</td>\n",
       "      <td>5467.0</td>\n",
       "      <td>1.0</td>\n",
       "    </tr>\n",
       "  </tbody>\n",
       "</table>\n",
       "</div>"
      ],
      "text/plain": [
       "                 mean      sd   hdi_3%  hdi_97%  mcse_mean  mcse_sd  ess_bulk  \\\n",
       "Age            -0.610   0.291   -1.143   -0.041      0.003    0.002   10702.0   \n",
       "Cards          17.634   4.375    9.621   26.152      0.055    0.039    6348.0   \n",
       "Income         -7.802   0.238   -8.257   -7.371      0.002    0.002    9727.0   \n",
       "Intercept    -480.099  36.622 -547.200 -411.339      0.391    0.276    8830.0   \n",
       "Limit           0.189   0.033    0.132    0.255      0.000    0.000    5207.0   \n",
       "Rating          1.159   0.494    0.221    2.073      0.007    0.005    5193.0   \n",
       "Student[Yes]  425.617  16.895  393.304  457.180      0.160    0.114   11120.0   \n",
       "sigma          99.180   3.564   92.471  105.791      0.038    0.027    8748.0   \n",
       "\n",
       "              ess_tail  r_hat  \n",
       "Age             5327.0    1.0  \n",
       "Cards           6031.0    1.0  \n",
       "Income          5576.0    1.0  \n",
       "Intercept       6471.0    1.0  \n",
       "Limit           5398.0    1.0  \n",
       "Rating          5291.0    1.0  \n",
       "Student[Yes]    5603.0    1.0  \n",
       "sigma           5467.0    1.0  "
      ]
     },
     "execution_count": 25,
     "metadata": {},
     "output_type": "execute_result"
    }
   ],
   "source": [
    "summary[summary[\"hdi_3%\"] * summary[\"hdi_97%\"] > 0]"
   ]
  },
  {
   "cell_type": "markdown",
   "id": "ad4673c9-20a8-4a52-a2bc-89e422da06f9",
   "metadata": {},
   "source": [
    "Performance:"
   ]
  },
  {
   "cell_type": "code",
   "execution_count": 26,
   "id": "ebe5ad12-b598-424c-831b-f15cfad52dd5",
   "metadata": {},
   "outputs": [
    {
     "data": {
      "text/plain": [
       "r2        0.915363\n",
       "r2_std    0.005863\n",
       "dtype: float64"
      ]
     },
     "execution_count": 26,
     "metadata": {},
     "output_type": "execute_result"
    }
   ],
   "source": [
    "credit_model4.predict(credit_trace4, kind=\"response\")\n",
    "ypred = az.extract( credit_trace4.posterior_predictive ).Balance.values.T\n",
    "ytrue = credit_data.Balance.values\n",
    "pm.r2_score( ytrue, ypred )"
   ]
  },
  {
   "cell_type": "markdown",
   "id": "afeeb7dd-0df8-4804-8216-72ac3283f201",
   "metadata": {},
   "source": [
    "## Interactions"
   ]
  },
  {
   "cell_type": "markdown",
   "id": "b168749f-522b-443e-8a64-90db86331ae6",
   "metadata": {},
   "source": [
    "Read data:"
   ]
  },
  {
   "cell_type": "code",
   "execution_count": 27,
   "id": "70cbe21e-5cde-46ae-8d40-8b606f795072",
   "metadata": {},
   "outputs": [
    {
     "data": {
      "text/html": [
       "<div>\n",
       "<style scoped>\n",
       "    .dataframe tbody tr th:only-of-type {\n",
       "        vertical-align: middle;\n",
       "    }\n",
       "\n",
       "    .dataframe tbody tr th {\n",
       "        vertical-align: top;\n",
       "    }\n",
       "\n",
       "    .dataframe thead th {\n",
       "        text-align: right;\n",
       "    }\n",
       "</style>\n",
       "<table border=\"1\" class=\"dataframe\">\n",
       "  <thead>\n",
       "    <tr style=\"text-align: right;\">\n",
       "      <th></th>\n",
       "      <th>TV</th>\n",
       "      <th>radio</th>\n",
       "      <th>newspaper</th>\n",
       "      <th>sales</th>\n",
       "    </tr>\n",
       "  </thead>\n",
       "  <tbody>\n",
       "    <tr>\n",
       "      <th>0</th>\n",
       "      <td>230.1</td>\n",
       "      <td>37.8</td>\n",
       "      <td>69.2</td>\n",
       "      <td>22.1</td>\n",
       "    </tr>\n",
       "    <tr>\n",
       "      <th>1</th>\n",
       "      <td>44.5</td>\n",
       "      <td>39.3</td>\n",
       "      <td>45.1</td>\n",
       "      <td>10.4</td>\n",
       "    </tr>\n",
       "    <tr>\n",
       "      <th>2</th>\n",
       "      <td>17.2</td>\n",
       "      <td>45.9</td>\n",
       "      <td>69.3</td>\n",
       "      <td>9.3</td>\n",
       "    </tr>\n",
       "    <tr>\n",
       "      <th>3</th>\n",
       "      <td>151.5</td>\n",
       "      <td>41.3</td>\n",
       "      <td>58.5</td>\n",
       "      <td>18.5</td>\n",
       "    </tr>\n",
       "    <tr>\n",
       "      <th>4</th>\n",
       "      <td>180.8</td>\n",
       "      <td>10.8</td>\n",
       "      <td>58.4</td>\n",
       "      <td>12.9</td>\n",
       "    </tr>\n",
       "  </tbody>\n",
       "</table>\n",
       "</div>"
      ],
      "text/plain": [
       "      TV  radio  newspaper  sales\n",
       "0  230.1   37.8       69.2   22.1\n",
       "1   44.5   39.3       45.1   10.4\n",
       "2   17.2   45.9       69.3    9.3\n",
       "3  151.5   41.3       58.5   18.5\n",
       "4  180.8   10.8       58.4   12.9"
      ]
     },
     "execution_count": 27,
     "metadata": {},
     "output_type": "execute_result"
    }
   ],
   "source": [
    "adv_data = pd.read_csv(\"advertising.csv\")\n",
    "adv_data.head()"
   ]
  },
  {
   "cell_type": "markdown",
   "id": "cefe719e-b623-4408-8ff3-b661ff51cb11",
   "metadata": {},
   "source": [
    "Marginal plots:"
   ]
  },
  {
   "cell_type": "code",
   "execution_count": 28,
   "id": "2c8131c5-3ab6-492e-9be0-d7a3961d0060",
   "metadata": {},
   "outputs": [
    {
     "data": {
      "image/png": "[encoded data removed]",
      "text/plain": [
       "<Figure size 1200x300 with 3 Axes>"
      ]
     },
     "metadata": {},
     "output_type": "display_data"
    }
   ],
   "source": [
    "fig, ax = plt.subplots( 1, 3, figsize=(12,3), sharey=True )\n",
    "for i, x in enumerate(['TV', 'radio', 'newspaper']):\n",
    "    sns.scatterplot( data=adv_data, x=x, y=\"sales\", ax=ax[i] )"
   ]
  },
  {
   "cell_type": "markdown",
   "id": "30e1509b-cc9b-469f-98a3-d4bcd2b4faf6",
   "metadata": {},
   "source": [
    "Fit a model without interactions:"
   ]
  },
  {
   "cell_type": "code",
   "execution_count": 29,
   "id": "8aa5b3c6-9630-459a-826c-2d62214c7ad2",
   "metadata": {},
   "outputs": [
    {
     "name": "stderr",
     "output_type": "stream",
     "text": [
      "Auto-assigning NUTS sampler...\n",
      "Initializing NUTS using jitter+adapt_diag...\n",
      "Multiprocess sampling (4 chains in 4 jobs)\n",
      "NUTS: [sigma, Intercept, TV, radio, newspaper]\n"
     ]
    },
    {
     "data": {
      "application/vnd.jupyter.widget-view+json": {
       "model_id": "2dbf61025d5b46e98ca4ff8972ff7ffc",
       "version_major": 2,
       "version_minor": 0
      },
      "text/plain": [
       "Output()"
      ]
     },
     "metadata": {},
     "output_type": "display_data"
    },
    {
     "data": {
      "text/html": [
       "<pre style=\"white-space:pre;overflow-x:auto;line-height:normal;font-family:Menlo,'DejaVu Sans Mono',consolas,'Courier New',monospace\"></pre>\n"
      ],
      "text/plain": []
     },
     "metadata": {},
     "output_type": "display_data"
    },
    {
     "data": {
      "text/html": [
       "<pre style=\"white-space:pre;overflow-x:auto;line-height:normal;font-family:Menlo,'DejaVu Sans Mono',consolas,'Courier New',monospace\">\n",
       "</pre>\n"
      ],
      "text/plain": [
       "\n"
      ]
     },
     "metadata": {},
     "output_type": "display_data"
    },
    {
     "name": "stderr",
     "output_type": "stream",
     "text": [
      "Sampling 4 chains for 2_000 tune and 2_000 draw iterations (8_000 + 8_000 draws total) took 7 seconds.\n"
     ]
    }
   ],
   "source": [
    "adv_model1 = bmb.Model( \"sales ~ TV + radio + newspaper\", data=adv_data, family=\"gaussian\" )\n",
    "adv_trace1 = adv_model1.fit(draws=2000, tune=2000)"
   ]
  },
  {
   "cell_type": "code",
   "execution_count": 30,
   "id": "47b66a43-55b3-484e-91ad-bd06ef6e85f8",
   "metadata": {},
   "outputs": [
    {
     "data": {
      "text/html": [
       "<div>\n",
       "<style scoped>\n",
       "    .dataframe tbody tr th:only-of-type {\n",
       "        vertical-align: middle;\n",
       "    }\n",
       "\n",
       "    .dataframe tbody tr th {\n",
       "        vertical-align: top;\n",
       "    }\n",
       "\n",
       "    .dataframe thead th {\n",
       "        text-align: right;\n",
       "    }\n",
       "</style>\n",
       "<table border=\"1\" class=\"dataframe\">\n",
       "  <thead>\n",
       "    <tr style=\"text-align: right;\">\n",
       "      <th></th>\n",
       "      <th>mean</th>\n",
       "      <th>sd</th>\n",
       "      <th>hdi_3%</th>\n",
       "      <th>hdi_97%</th>\n",
       "      <th>mcse_mean</th>\n",
       "      <th>mcse_sd</th>\n",
       "      <th>ess_bulk</th>\n",
       "      <th>ess_tail</th>\n",
       "      <th>r_hat</th>\n",
       "    </tr>\n",
       "  </thead>\n",
       "  <tbody>\n",
       "    <tr>\n",
       "      <th>Intercept</th>\n",
       "      <td>2.935</td>\n",
       "      <td>0.313</td>\n",
       "      <td>2.340</td>\n",
       "      <td>3.519</td>\n",
       "      <td>0.003</td>\n",
       "      <td>0.002</td>\n",
       "      <td>12734.0</td>\n",
       "      <td>6441.0</td>\n",
       "      <td>1.0</td>\n",
       "    </tr>\n",
       "    <tr>\n",
       "      <th>TV</th>\n",
       "      <td>0.046</td>\n",
       "      <td>0.001</td>\n",
       "      <td>0.043</td>\n",
       "      <td>0.048</td>\n",
       "      <td>0.000</td>\n",
       "      <td>0.000</td>\n",
       "      <td>10980.0</td>\n",
       "      <td>6289.0</td>\n",
       "      <td>1.0</td>\n",
       "    </tr>\n",
       "    <tr>\n",
       "      <th>newspaper</th>\n",
       "      <td>-0.001</td>\n",
       "      <td>0.006</td>\n",
       "      <td>-0.012</td>\n",
       "      <td>0.010</td>\n",
       "      <td>0.000</td>\n",
       "      <td>0.000</td>\n",
       "      <td>7955.0</td>\n",
       "      <td>6714.0</td>\n",
       "      <td>1.0</td>\n",
       "    </tr>\n",
       "    <tr>\n",
       "      <th>radio</th>\n",
       "      <td>0.188</td>\n",
       "      <td>0.009</td>\n",
       "      <td>0.172</td>\n",
       "      <td>0.205</td>\n",
       "      <td>0.000</td>\n",
       "      <td>0.000</td>\n",
       "      <td>8518.0</td>\n",
       "      <td>6859.0</td>\n",
       "      <td>1.0</td>\n",
       "    </tr>\n",
       "    <tr>\n",
       "      <th>sigma</th>\n",
       "      <td>1.696</td>\n",
       "      <td>0.087</td>\n",
       "      <td>1.538</td>\n",
       "      <td>1.861</td>\n",
       "      <td>0.001</td>\n",
       "      <td>0.001</td>\n",
       "      <td>11365.0</td>\n",
       "      <td>6361.0</td>\n",
       "      <td>1.0</td>\n",
       "    </tr>\n",
       "  </tbody>\n",
       "</table>\n",
       "</div>"
      ],
      "text/plain": [
       "            mean     sd  hdi_3%  hdi_97%  mcse_mean  mcse_sd  ess_bulk  \\\n",
       "Intercept  2.935  0.313   2.340    3.519      0.003    0.002   12734.0   \n",
       "TV         0.046  0.001   0.043    0.048      0.000    0.000   10980.0   \n",
       "newspaper -0.001  0.006  -0.012    0.010      0.000    0.000    7955.0   \n",
       "radio      0.188  0.009   0.172    0.205      0.000    0.000    8518.0   \n",
       "sigma      1.696  0.087   1.538    1.861      0.001    0.001   11365.0   \n",
       "\n",
       "           ess_tail  r_hat  \n",
       "Intercept    6441.0    1.0  \n",
       "TV           6289.0    1.0  \n",
       "newspaper    6714.0    1.0  \n",
       "radio        6859.0    1.0  \n",
       "sigma        6361.0    1.0  "
      ]
     },
     "execution_count": 30,
     "metadata": {},
     "output_type": "execute_result"
    }
   ],
   "source": [
    "pm.summary( adv_trace1 )"
   ]
  },
  {
   "cell_type": "markdown",
   "id": "93716a0a-4fc7-47eb-929f-0c62696c7bdd",
   "metadata": {},
   "source": [
    "newspaper is not significant at the 94% level (HDI includes zero)."
   ]
  },
  {
   "cell_type": "markdown",
   "id": "6bec3085-4cef-49e3-bf46-677b6a7e100c",
   "metadata": {},
   "source": [
    "$R^2$ and RMSE:"
   ]
  },
  {
   "cell_type": "code",
   "execution_count": 31,
   "id": "794e1743-014a-455a-9cb9-677c4e4c2a98",
   "metadata": {},
   "outputs": [
    {
     "data": {
      "text/plain": [
       "r2        0.826670\n",
       "r2_std    0.015998\n",
       "dtype: float64"
      ]
     },
     "execution_count": 31,
     "metadata": {},
     "output_type": "execute_result"
    }
   ],
   "source": [
    "adv_model1.predict(adv_trace1, kind=\"response\")\n",
    "ypred = az.extract( adv_trace1.posterior_predictive ).sales.values.T\n",
    "ytrue = adv_data.sales.values\n",
    "pm.r2_score( ytrue, ypred )"
   ]
  },
  {
   "cell_type": "code",
   "execution_count": 32,
   "id": "9a0e1170-b2d2-451f-a553-2f1e3c7b7e7a",
   "metadata": {},
   "outputs": [
    {
     "data": {
      "text/plain": [
       "2.393714238777284"
      ]
     },
     "execution_count": 32,
     "metadata": {},
     "output_type": "execute_result"
    }
   ],
   "source": [
    "np.sqrt( np.mean( (ypred-ytrue)**2 ) )"
   ]
  },
  {
   "cell_type": "markdown",
   "id": "0d98f8fc-38a7-446d-97db-f634ad421c8c",
   "metadata": {},
   "source": [
    "Contour plot to motivate interaction:"
   ]
  },
  {
   "cell_type": "code",
   "execution_count": 33,
   "id": "888904d5-dfaf-44ab-88cb-491744f583d8",
   "metadata": {},
   "outputs": [
    {
     "data": {
      "text/plain": [
       "Text(0, 0.5, 'radio')"
      ]
     },
     "execution_count": 33,
     "metadata": {},
     "output_type": "execute_result"
    },
    {
     "data": {
      "image/png": "[encoded data removed]",
      "text/plain": [
       "<Figure size 800x400 with 2 Axes>"
      ]
     },
     "metadata": {},
     "output_type": "display_data"
    }
   ],
   "source": [
    "from scipy.interpolate import griddata\n",
    "\n",
    "# Variables for TV, radio and sales\n",
    "X = adv_data['TV']\n",
    "Y = adv_data['radio']\n",
    "Z = adv_data['sales']\n",
    "\n",
    "# Create grid data for contour\n",
    "xi = np.linspace(X.min(), X.max(), 100)\n",
    "yi = np.linspace(Y.min(), Y.max(), 100)\n",
    "xi, yi = np.meshgrid(xi, yi)\n",
    "\n",
    "# Interpolate sales values on the grid\n",
    "zi = griddata((X, Y), Z, (xi, yi), method='linear')\n",
    "\n",
    "# Plot contour\n",
    "plt.figure( figsize=(8,4) )\n",
    "plt.contourf(xi, yi, zi, levels=20, cmap='viridis')\n",
    "plt.colorbar(label='Sales')\n",
    "plt.xlabel('TV')\n",
    "plt.ylabel('radio')"
   ]
  },
  {
   "cell_type": "markdown",
   "id": "75f18123-0d95-4ebc-9390-ca8e065a3a2d",
   "metadata": {},
   "source": [
    "Model with interaction:"
   ]
  },
  {
   "cell_type": "code",
   "execution_count": 34,
   "id": "6aa0121c-43df-43cf-8778-896bd297c0a3",
   "metadata": {},
   "outputs": [
    {
     "name": "stderr",
     "output_type": "stream",
     "text": [
      "Auto-assigning NUTS sampler...\n",
      "Initializing NUTS using jitter+adapt_diag...\n",
      "Multiprocess sampling (4 chains in 4 jobs)\n",
      "NUTS: [sigma, Intercept, TV, radio, TV:radio]\n"
     ]
    },
    {
     "data": {
      "application/vnd.jupyter.widget-view+json": {
       "model_id": "7bd9b2405f304bc89eb34a69d52b7758",
       "version_major": 2,
       "version_minor": 0
      },
      "text/plain": [
       "Output()"
      ]
     },
     "metadata": {},
     "output_type": "display_data"
    },
    {
     "data": {
      "text/html": [
       "<pre style=\"white-space:pre;overflow-x:auto;line-height:normal;font-family:Menlo,'DejaVu Sans Mono',consolas,'Courier New',monospace\"></pre>\n"
      ],
      "text/plain": []
     },
     "metadata": {},
     "output_type": "display_data"
    },
    {
     "data": {
      "text/html": [
       "<pre style=\"white-space:pre;overflow-x:auto;line-height:normal;font-family:Menlo,'DejaVu Sans Mono',consolas,'Courier New',monospace\">\n",
       "</pre>\n"
      ],
      "text/plain": [
       "\n"
      ]
     },
     "metadata": {},
     "output_type": "display_data"
    },
    {
     "name": "stderr",
     "output_type": "stream",
     "text": [
      "Sampling 4 chains for 2_000 tune and 2_000 draw iterations (8_000 + 8_000 draws total) took 11 seconds.\n"
     ]
    }
   ],
   "source": [
    "adv_model2 = bmb.Model( \"sales ~ TV + radio + TV:radio\", data=adv_data, family=\"gaussian\" )\n",
    "adv_trace2 = adv_model2.fit(draws=2000, tune=2000)"
   ]
  },
  {
   "cell_type": "code",
   "execution_count": 35,
   "id": "664e6d4b-13d1-41e6-abd1-a60b98b72d9a",
   "metadata": {},
   "outputs": [
    {
     "data": {
      "text/html": [
       "<div>\n",
       "<style scoped>\n",
       "    .dataframe tbody tr th:only-of-type {\n",
       "        vertical-align: middle;\n",
       "    }\n",
       "\n",
       "    .dataframe tbody tr th {\n",
       "        vertical-align: top;\n",
       "    }\n",
       "\n",
       "    .dataframe thead th {\n",
       "        text-align: right;\n",
       "    }\n",
       "</style>\n",
       "<table border=\"1\" class=\"dataframe\">\n",
       "  <thead>\n",
       "    <tr style=\"text-align: right;\">\n",
       "      <th></th>\n",
       "      <th>mean</th>\n",
       "      <th>sd</th>\n",
       "      <th>hdi_3%</th>\n",
       "      <th>hdi_97%</th>\n",
       "      <th>mcse_mean</th>\n",
       "      <th>mcse_sd</th>\n",
       "      <th>ess_bulk</th>\n",
       "      <th>ess_tail</th>\n",
       "      <th>r_hat</th>\n",
       "    </tr>\n",
       "  </thead>\n",
       "  <tbody>\n",
       "    <tr>\n",
       "      <th>Intercept</th>\n",
       "      <td>6.749</td>\n",
       "      <td>0.252</td>\n",
       "      <td>6.278</td>\n",
       "      <td>7.235</td>\n",
       "      <td>0.004</td>\n",
       "      <td>0.003</td>\n",
       "      <td>3221.0</td>\n",
       "      <td>4353.0</td>\n",
       "      <td>1.0</td>\n",
       "    </tr>\n",
       "    <tr>\n",
       "      <th>TV</th>\n",
       "      <td>0.019</td>\n",
       "      <td>0.002</td>\n",
       "      <td>0.016</td>\n",
       "      <td>0.022</td>\n",
       "      <td>0.000</td>\n",
       "      <td>0.000</td>\n",
       "      <td>3034.0</td>\n",
       "      <td>4185.0</td>\n",
       "      <td>1.0</td>\n",
       "    </tr>\n",
       "    <tr>\n",
       "      <th>TV:radio</th>\n",
       "      <td>0.001</td>\n",
       "      <td>0.000</td>\n",
       "      <td>0.001</td>\n",
       "      <td>0.001</td>\n",
       "      <td>0.000</td>\n",
       "      <td>0.000</td>\n",
       "      <td>2806.0</td>\n",
       "      <td>3852.0</td>\n",
       "      <td>1.0</td>\n",
       "    </tr>\n",
       "    <tr>\n",
       "      <th>radio</th>\n",
       "      <td>0.029</td>\n",
       "      <td>0.009</td>\n",
       "      <td>0.012</td>\n",
       "      <td>0.046</td>\n",
       "      <td>0.000</td>\n",
       "      <td>0.000</td>\n",
       "      <td>2986.0</td>\n",
       "      <td>4044.0</td>\n",
       "      <td>1.0</td>\n",
       "    </tr>\n",
       "    <tr>\n",
       "      <th>sigma</th>\n",
       "      <td>0.950</td>\n",
       "      <td>0.048</td>\n",
       "      <td>0.857</td>\n",
       "      <td>1.040</td>\n",
       "      <td>0.001</td>\n",
       "      <td>0.000</td>\n",
       "      <td>6653.0</td>\n",
       "      <td>4642.0</td>\n",
       "      <td>1.0</td>\n",
       "    </tr>\n",
       "  </tbody>\n",
       "</table>\n",
       "</div>"
      ],
      "text/plain": [
       "            mean     sd  hdi_3%  hdi_97%  mcse_mean  mcse_sd  ess_bulk  \\\n",
       "Intercept  6.749  0.252   6.278    7.235      0.004    0.003    3221.0   \n",
       "TV         0.019  0.002   0.016    0.022      0.000    0.000    3034.0   \n",
       "TV:radio   0.001  0.000   0.001    0.001      0.000    0.000    2806.0   \n",
       "radio      0.029  0.009   0.012    0.046      0.000    0.000    2986.0   \n",
       "sigma      0.950  0.048   0.857    1.040      0.001    0.000    6653.0   \n",
       "\n",
       "           ess_tail  r_hat  \n",
       "Intercept    4353.0    1.0  \n",
       "TV           4185.0    1.0  \n",
       "TV:radio     3852.0    1.0  \n",
       "radio        4044.0    1.0  \n",
       "sigma        4642.0    1.0  "
      ]
     },
     "execution_count": 35,
     "metadata": {},
     "output_type": "execute_result"
    }
   ],
   "source": [
    "pm.summary( adv_trace2 )"
   ]
  },
  {
   "cell_type": "markdown",
   "id": "9825bbbf-0d39-49ed-bc92-e80eaec2b7ea",
   "metadata": {},
   "source": [
    "Interaction between TV and radio is significant."
   ]
  },
  {
   "cell_type": "markdown",
   "id": "084a4774-e8a2-4ad9-9ff0-6a6c437cb4ac",
   "metadata": {},
   "source": [
    "Change in $R^2$ and RMSE:"
   ]
  },
  {
   "cell_type": "code",
   "execution_count": 36,
   "id": "6b756a38-35f0-4f13-a9bb-d02d54664b60",
   "metadata": {},
   "outputs": [
    {
     "data": {
      "text/plain": [
       "r2        0.938222\n",
       "r2_std    0.006154\n",
       "dtype: float64"
      ]
     },
     "execution_count": 36,
     "metadata": {},
     "output_type": "execute_result"
    }
   ],
   "source": [
    "adv_model2.predict(adv_trace2, kind=\"response\")\n",
    "ypred = az.extract( adv_trace2.posterior_predictive ).sales.values.T\n",
    "ytrue = adv_data.sales.values\n",
    "pm.r2_score( ytrue, ypred )"
   ]
  },
  {
   "cell_type": "code",
   "execution_count": 37,
   "id": "9a67cabc-e79e-46f9-a3d6-4d0f7013e3de",
   "metadata": {},
   "outputs": [
    {
     "data": {
      "text/plain": [
       "1.3397042850987047"
      ]
     },
     "execution_count": 37,
     "metadata": {},
     "output_type": "execute_result"
    }
   ],
   "source": [
    "np.sqrt( np.mean( (ytrue-ypred)**2 ) )"
   ]
  }
 ],
 "metadata": {
  "kernelspec": {
   "display_name": "Python 3 (ipykernel)",
   "language": "python",
   "name": "python3"
  },
  "language_info": {
   "codemirror_mode": {
    "name": "ipython",
    "version": 3
   },
   "file_extension": ".py",
   "mimetype": "text/x-python",
   "name": "python",
   "nbconvert_exporter": "python",
   "pygments_lexer": "ipython3",
   "version": "3.10.12"
  }
 },
 "nbformat": 4,
 "nbformat_minor": 5
}
