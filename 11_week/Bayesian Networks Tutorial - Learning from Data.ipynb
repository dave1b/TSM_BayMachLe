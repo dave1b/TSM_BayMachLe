{
 "cells": [
  {
   "cell_type": "markdown",
   "metadata": {},
   "source": [
    "# Learning Bayesian Networks from Data\n",
    "\n",
    "\n",
    "Previous notebooks showed how Bayesian networks economically encode a probability distribution over a set of variables, and how they can be used e.g. _to predict variable states. This section will be about obtaining a Bayesian network, given a set of sample data_. Learning a Bayesian network can be split into two problems:\n",
    "\n",
    " **Parameter learning:** Given a set of data samples and a DAG that captures the dependencies between the variables, estimate the (conditional) probability distributions of the individual variables.\n",
    " \n",
    " **Structure learning:** Given a set of data samples, estimate a DAG that captures the dependencies between the variables.\n",
    " \n",
    "This notebook aims to illustrate how parameter learning can be done with `pgmpy`.\n",
    "Currently, the library supports:\n",
    " - Parameter learning for *discrete* nodes:\n",
    "   - Maximum Likelihood Estimation\n",
    "   - Bayesian Estimation with Smoothing\n",
    "   - Expectation Maximization (EM)\n",
    "\n",
    "\n",
    "## 1. Maximum Likelihood Estimation\n",
    "\n",
    "Suppose we have the following data:"
   ]
  },
  {
   "cell_type": "code",
   "metadata": {
    "tags": [],
    "ExecuteTime": {
     "end_time": "2024-12-08T19:36:29.055130Z",
     "start_time": "2024-12-08T19:36:28.796524Z"
    }
   },
   "source": [
    "import pandas as pd\n",
    "data = pd.DataFrame(data={'fruit': [\"banana\", \"apple\", \"banana\", \"apple\", \"banana\",\"apple\", \"banana\", \n",
    "                                    \"apple\", \"apple\", \"apple\", \"banana\", \"banana\", \"apple\", \"banana\",], \n",
    "                          'tasty': [\"yes\", \"no\", \"yes\", \"yes\", \"yes\", \"yes\", \"yes\", \n",
    "                                    \"yes\", \"yes\", \"yes\", \"yes\", \"no\", \"no\", \"no\"], \n",
    "                          'size': [\"large\", \"large\", \"large\", \"small\", \"large\", \"large\", \"large\",\n",
    "                                    \"small\", \"large\", \"large\", \"large\", \"large\", \"small\", \"small\"]})\n",
    "print(data)"
   ],
   "outputs": [
    {
     "name": "stdout",
     "output_type": "stream",
     "text": [
      "     fruit tasty   size\n",
      "0   banana   yes  large\n",
      "1    apple    no  large\n",
      "2   banana   yes  large\n",
      "3    apple   yes  small\n",
      "4   banana   yes  large\n",
      "5    apple   yes  large\n",
      "6   banana   yes  large\n",
      "7    apple   yes  small\n",
      "8    apple   yes  large\n",
      "9    apple   yes  large\n",
      "10  banana   yes  large\n",
      "11  banana    no  large\n",
      "12   apple    no  small\n",
      "13  banana    no  small\n"
     ]
    }
   ],
   "execution_count": 1
  },
  {
   "cell_type": "markdown",
   "metadata": {},
   "source": [
    "We know that the variables relate as follows:"
   ]
  },
  {
   "cell_type": "code",
   "metadata": {
    "tags": [],
    "ExecuteTime": {
     "end_time": "2024-12-08T19:36:30.404503Z",
     "start_time": "2024-12-08T19:36:29.061238Z"
    }
   },
   "source": [
    "from pgmpy.models import BayesianNetwork\n",
    "\n",
    "model = BayesianNetwork([('fruit', 'tasty'), ('size', 'tasty')])  # fruit -> tasty <- size"
   ],
   "outputs": [],
   "execution_count": 2
  },
  {
   "cell_type": "markdown",
   "metadata": {},
   "source": [
    "Parameter learning is the task to estimate the values of the conditional probability distributions (CPDs), for the variables `fruit`, `size`, and `tasty`. \n",
    "\n",
    "#### State counts\n",
    "To make sense of the given data, we can start by counting how often each state of the variable occurs. If the variable is dependent on parents, the counts are done conditionally on the parents states, i.e. separately for each parent configuration:"
   ]
  },
  {
   "cell_type": "code",
   "metadata": {
    "tags": [],
    "ExecuteTime": {
     "end_time": "2024-12-08T19:36:30.688558Z",
     "start_time": "2024-12-08T19:36:30.486814Z"
    }
   },
   "source": [
    "from pgmpy.estimators import ParameterEstimator\n",
    "pe = ParameterEstimator(model, data)\n",
    "print(\"\\n\", pe.state_counts('fruit'))  # unconditional\n",
    "print(\"\\n\", pe.state_counts('tasty'))  # conditional on fruit and size"
   ],
   "outputs": [
    {
     "name": "stdout",
     "output_type": "stream",
     "text": [
      "\n",
      "         count\n",
      "fruit        \n",
      "apple       7\n",
      "banana      7\n",
      "\n",
      " fruit apple       banana      \n",
      "size  large small  large small\n",
      "tasty                         \n",
      "no      1.0   1.0    1.0   1.0\n",
      "yes     3.0   2.0    5.0   0.0\n"
     ]
    }
   ],
   "execution_count": 3
  },
  {
   "cell_type": "markdown",
   "metadata": {},
   "source": [
    "We can see, for example, that as many apples as bananas were observed and that `5` large bananas were tasty, while only `1` was not.\n",
    "\n",
    "#### Maximum Likelihood Estimation\n",
    "\n",
    "A natural estimate for the CPDs is to simply use the *relative frequencies*, with which the variable states have occured. We observed `7 apples` among a total of `14 fruits`, so we might guess that about `50%` of `fruits` are `apples`.\n",
    "\n",
    "This approach is *Maximum Likelihood Estimation (MLE)*. According to MLE, we should fill the CPDs in such a way, that $P(\\text{data}|\\text{model})$ is maximal. This is achieved when using the *relative frequencies*. See [1], section 17.1 for an introduction to ML parameter estimation. `pgmpy` supports MLE as follows:"
   ]
  },
  {
   "cell_type": "code",
   "metadata": {
    "tags": [],
    "ExecuteTime": {
     "end_time": "2024-12-08T19:36:30.697683Z",
     "start_time": "2024-12-08T19:36:30.692675Z"
    }
   },
   "source": [
    "from pgmpy.estimators import MaximumLikelihoodEstimator\n",
    "mle = MaximumLikelihoodEstimator(model, data)\n",
    "print(mle.estimate_cpd('fruit'))  # unconditional\n",
    "print(mle.estimate_cpd('tasty'))  # conditional"
   ],
   "outputs": [
    {
     "name": "stdout",
     "output_type": "stream",
     "text": [
      "+---------------+-----+\n",
      "| fruit(apple)  | 0.5 |\n",
      "+---------------+-----+\n",
      "| fruit(banana) | 0.5 |\n",
      "+---------------+-----+\n",
      "+------------+--------------+-----+---------------+\n",
      "| fruit      | fruit(apple) | ... | fruit(banana) |\n",
      "+------------+--------------+-----+---------------+\n",
      "| size       | size(large)  | ... | size(small)   |\n",
      "+------------+--------------+-----+---------------+\n",
      "| tasty(no)  | 0.25         | ... | 1.0           |\n",
      "+------------+--------------+-----+---------------+\n",
      "| tasty(yes) | 0.75         | ... | 0.0           |\n",
      "+------------+--------------+-----+---------------+\n"
     ]
    }
   ],
   "execution_count": 4
  },
  {
   "cell_type": "markdown",
   "metadata": {},
   "source": [
    "- `mle.estimate_cpd(variable)` computes the state counts and divides each cell by the (conditional) sample size. \n",
    "- The `mle.get_parameters()`-method returns a list of CPDs for all variables of the model.\n",
    "\n",
    "- The built-in `fit()`-method of `BayesianNetwork` provides more convenient access to parameter estimators:\n"
   ]
  },
  {
   "cell_type": "code",
   "metadata": {
    "tags": [],
    "ExecuteTime": {
     "end_time": "2024-12-08T19:36:30.711357Z",
     "start_time": "2024-12-08T19:36:30.706958Z"
    }
   },
   "source": [
    "# Calibrate all CPDs of `model` using MLE:\n",
    "model.fit(data, estimator=MaximumLikelihoodEstimator)"
   ],
   "outputs": [],
   "execution_count": 5
  },
  {
   "cell_type": "markdown",
   "metadata": {},
   "source": [
    "\n",
    "While very straightforward, the ML estimator has the problem of *overfitting* to the data. In above CPD, the probability of a large banana being tasty is estimated at `0.833`, because `5` out of `6` observed large bananas were tasty. Fine. But note that the probability of a small banana being tasty is estimated at `0.0`, because we  observed only one small banana and it happened to be not tasty. But that should hardly make us certain that small bananas aren't tasty!\n",
    "We simply do not have enough observations to rely on the observed frequencies. If the observed data is not representative for the underlying distribution, ML estimations will be extremly far off. \n",
    "\n",
    "When estimating parameters for Bayesian networks, lack of data is a frequent problem. Even if the total sample size is very large, the fact that state counts are done conditionally for each parents configuration causes immense fragmentation. If a variable has 3 parents that can each take 10 states, then state counts will be done separately for `10^3 = 1000` parents configurations. This makes MLE very fragile and unstable for learning Bayesian Network parameters. A way to mitigate MLE's overfitting is *Bayesian Parameter Estimation*.\n",
    "\n",
    "## 2. Bayesian Parameter Estimation with Smoothing\n",
    "\n",
    "The Bayesian Parameter Estimator starts with already existing prior CPDs, that express our beliefs about the variables *before* the data was observed. Those \"priors\" are then updated, using the state counts from the observed data. See [1], Section 17.3 for a general introduction to Bayesian estimators.\n",
    "\n",
    "One can think of the priors as consisting in *pseudo state counts*, that are added to the actual counts before normalization.\n",
    "Unless one wants to encode specific beliefs about the distributions of the variables, one commonly chooses uniform priors, i.e. ones that deem all states equiprobable.\n",
    "\n",
    "A very simple prior is the so-called `K2` prior (_Laplace smoothing_), which simply adds `1` to the count of every single state.\n",
    "A somewhat more sensible choice of prior is `BDeu` (Bayesian Dirichlet equivalent uniform prior). For `BDeu` we need to specify an _equivalent sample size_ `N` and then the pseudo-counts are the equivalent of having observed `N` uniform samples of each variable (and each parent configuration). In `pgmpy`:\n",
    "\n",
    "\n"
   ]
  },
  {
   "cell_type": "code",
   "metadata": {
    "scrolled": true,
    "tags": [],
    "ExecuteTime": {
     "end_time": "2024-12-08T19:36:30.719657Z",
     "start_time": "2024-12-08T19:36:30.715515Z"
    }
   },
   "source": [
    "from pgmpy.estimators import BayesianEstimator\n",
    "est = BayesianEstimator(model, data)\n",
    "\n",
    "print(est.estimate_cpd('tasty', prior_type='BDeu', equivalent_sample_size=10))"
   ],
   "outputs": [
    {
     "name": "stdout",
     "output_type": "stream",
     "text": [
      "+------------+---------------------+-----+---------------------+\n",
      "| fruit      | fruit(apple)        | ... | fruit(banana)       |\n",
      "+------------+---------------------+-----+---------------------+\n",
      "| size       | size(large)         | ... | size(small)         |\n",
      "+------------+---------------------+-----+---------------------+\n",
      "| tasty(no)  | 0.34615384615384615 | ... | 0.6428571428571429  |\n",
      "+------------+---------------------+-----+---------------------+\n",
      "| tasty(yes) | 0.6538461538461539  | ... | 0.35714285714285715 |\n",
      "+------------+---------------------+-----+---------------------+\n"
     ]
    }
   ],
   "execution_count": 6
  },
  {
   "cell_type": "markdown",
   "metadata": {},
   "source": [
    "The estimated values in the CPDs are now more conservative. In particular, the estimate for a small banana being not tasty is now around `0.64` rather than `1.0`. Setting `equivalent_sample_size` to `10` means that for each parent configuration, we add the equivalent of 10 uniform samples (here: `+5` small bananas that are tasty and `+5` that aren't).\n",
    "\n",
    "`BayesianEstimator`, too, can be used via the `fit()`-method. Full example:"
   ]
  },
  {
   "cell_type": "code",
   "metadata": {
    "tags": [],
    "ExecuteTime": {
     "end_time": "2024-12-08T19:36:30.740200Z",
     "start_time": "2024-12-08T19:36:30.731227Z"
    }
   },
   "source": [
    "import numpy as np\n",
    "import pandas as pd\n",
    "from pgmpy.models import BayesianNetwork\n",
    "from pgmpy.estimators import BayesianEstimator\n",
    "\n",
    "# generate data\n",
    "data = pd.DataFrame(np.random.randint(low=0, high=2, size=(5000, 4)), columns=['A', 'B', 'C', 'D'])\n",
    "model = BayesianNetwork([('A', 'B'), ('A', 'C'), ('D', 'C'), ('B', 'D')])\n",
    "\n",
    "model.fit(data, estimator=BayesianEstimator, prior_type=\"BDeu\") # default equivalent_sample_size=5\n",
    "for cpd in model.get_cpds():\n",
    "    print(cpd)\n"
   ],
   "outputs": [
    {
     "name": "stdout",
     "output_type": "stream",
     "text": [
      "+------+----------+\n",
      "| A(0) | 0.507393 |\n",
      "+------+----------+\n",
      "| A(1) | 0.492607 |\n",
      "+------+----------+\n",
      "+------+---------------------+--------------------+\n",
      "| A    | A(0)                | A(1)               |\n",
      "+------+---------------------+--------------------+\n",
      "| B(0) | 0.5033471155739319  | 0.5070979517339282 |\n",
      "+------+---------------------+--------------------+\n",
      "| B(1) | 0.49665288442606814 | 0.4929020482660718 |\n",
      "+------+---------------------+--------------------+\n",
      "+------+--------------------+-----+---------------------+\n",
      "| A    | A(0)               | ... | A(1)                |\n",
      "+------+--------------------+-----+---------------------+\n",
      "| D    | D(0)               | ... | D(1)                |\n",
      "+------+--------------------+-----+---------------------+\n",
      "| C(0) | 0.512262415695892  | ... | 0.48211802106099744 |\n",
      "+------+--------------------+-----+---------------------+\n",
      "| C(1) | 0.4877375843041079 | ... | 0.5178819789390026  |\n",
      "+------+--------------------+-----+---------------------+\n",
      "+------+---------------------+---------------------+\n",
      "| B    | B(0)                | B(1)                |\n",
      "+------+---------------------+---------------------+\n",
      "| D(0) | 0.47231560213565355 | 0.49919240864122755 |\n",
      "+------+---------------------+---------------------+\n",
      "| D(1) | 0.5276843978643464  | 0.5008075913587725  |\n",
      "+------+---------------------+---------------------+\n"
     ]
    }
   ],
   "execution_count": 7
  },
  {
   "cell_type": "markdown",
   "metadata": {},
   "source": [
    "## 3. Expection Maximization (EM) Algorithm"
   ]
  },
  {
   "cell_type": "markdown",
   "metadata": {},
   "source": [
    "For this example, we simulate some data from the [alarm model](https://www.bnlearn.com/bnrepository/discrete-medium.html#alarm) and use it to learn back the model parameters. In this example, we simply use the structure to the _alarm model_."
   ]
  },
  {
   "cell_type": "code",
   "metadata": {
    "tags": [],
    "ExecuteTime": {
     "end_time": "2024-12-08T19:36:31.447464Z",
     "start_time": "2024-12-08T19:36:30.768744Z"
    }
   },
   "source": [
    "from pgmpy.utils import get_example_model\n",
    "from pgmpy.models import BayesianNetwork\n",
    "\n",
    "# Load the alarm model and simulate data from it.\n",
    "alarm_model = get_example_model(model=\"alarm\")\n",
    "samples = alarm_model.simulate(n_samples=int(1e3))\n",
    "\n",
    "print(samples.head())\n",
    "\n",
    "# Define a new model with the same structure as the alarm model.\n",
    "new_model = BayesianNetwork(ebunch=alarm_model.edges())"
   ],
   "outputs": [
    {
     "data": {
      "text/plain": [
       "  0%|          | 0/37 [00:00<?, ?it/s]"
      ],
      "application/vnd.jupyter.widget-view+json": {
       "version_major": 2,
       "version_minor": 0,
       "model_id": "beaf2fd2845c4a3aa70976be5418e0fe"
      }
     },
     "metadata": {},
     "output_type": "display_data"
    },
    {
     "name": "stderr",
     "output_type": "stream",
     "text": [
      "WARNING:pgmpy:Probability values don't exactly sum to 1. Differ by: -2.220446049250313e-16. Adjusting values.\n"
     ]
    },
    {
     "name": "stdout",
     "output_type": "stream",
     "text": [
      "  HISTORY      BP HREKG    PCWP LVFAILURE PVSAT HYPOVOLEMIA STROKEVOLUME  \\\n",
      "0   FALSE  NORMAL  HIGH  NORMAL     FALSE   LOW       FALSE       NORMAL   \n",
      "1   FALSE     LOW  HIGH  NORMAL     FALSE   LOW       FALSE       NORMAL   \n",
      "2   FALSE    HIGH  HIGH    HIGH     FALSE   LOW        TRUE       NORMAL   \n",
      "3   FALSE    HIGH  HIGH  NORMAL     FALSE   LOW       FALSE       NORMAL   \n",
      "4   FALSE  NORMAL   LOW  NORMAL     FALSE  HIGH       FALSE       NORMAL   \n",
      "\n",
      "    PRESS LVEDVOLUME  ...     CVP INTUBATION     PAP ERRLOWOUTPUT    FIO2  \\\n",
      "0  NORMAL     NORMAL  ...  NORMAL     NORMAL  NORMAL        FALSE  NORMAL   \n",
      "1    ZERO     NORMAL  ...  NORMAL     NORMAL  NORMAL        FALSE  NORMAL   \n",
      "2  NORMAL       HIGH  ...    HIGH     NORMAL    HIGH        FALSE  NORMAL   \n",
      "3    HIGH     NORMAL  ...  NORMAL     NORMAL     LOW        FALSE  NORMAL   \n",
      "4    HIGH     NORMAL  ...     LOW     NORMAL  NORMAL        FALSE  NORMAL   \n",
      "\n",
      "  ERRCAUTER      HR VENTTUBE  SAO2 KINKEDTUBE  \n",
      "0     FALSE    HIGH      LOW   LOW      FALSE  \n",
      "1     FALSE    HIGH     ZERO   LOW       TRUE  \n",
      "2     FALSE    HIGH      LOW   LOW      FALSE  \n",
      "3     FALSE    HIGH     ZERO   LOW      FALSE  \n",
      "4     FALSE  NORMAL     ZERO  HIGH      FALSE  \n",
      "\n",
      "[5 rows x 37 columns]\n"
     ]
    }
   ],
   "execution_count": 8
  },
  {
   "cell_type": "markdown",
   "metadata": {},
   "source": [
    "The _Expectation Maximization_ (EM) estimator can work in the case when latent variables are present in the model. To simulate this scenario, we will specify some of the variables in our `new_model` as latents and drop those variables from samples to simulate missing data."
   ]
  },
  {
   "cell_type": "code",
   "metadata": {
    "tags": [],
    "ExecuteTime": {
     "end_time": "2024-12-08T19:36:31.466069Z",
     "start_time": "2024-12-08T19:36:31.463359Z"
    }
   },
   "source": [
    "model_latent = BayesianNetwork(alarm_model.edges(), latents={'HISTORY', 'CVP'})\n",
    "samples_latent = samples.drop(['HISTORY', 'CVP'], axis=1)"
   ],
   "outputs": [],
   "execution_count": 9
  },
  {
   "cell_type": "code",
   "metadata": {
    "tags": [],
    "ExecuteTime": {
     "end_time": "2024-12-09T07:13:14.336421Z",
     "start_time": "2024-12-09T07:13:13.642298Z"
    }
   },
   "source": [
    "from pgmpy.estimators import ExpectationMaximization as EM\n",
    "# Generate HTML table for each CPD\n",
    "# Initialize the EM estimator\n",
    "em_est = EM(model=model_latent, data=samples_latent)\n",
    "\n",
    "# Iterate through CPDs generated by the model\n",
    "for cpd in em_est.get_parameters():\n",
    "    print(f\"Conditional Probability Distribution for {cpd.variable}:\")\n",
    "    print(cpd)"
   ],
   "outputs": [
    {
     "data": {
      "text/plain": [
       "  0%|          | 0/100 [00:00<?, ?it/s]"
      ],
      "application/vnd.jupyter.widget-view+json": {
       "version_major": 2,
       "version_minor": 0,
       "model_id": "e40ca94e4e2a410e814ee6b6dc9631dc"
      }
     },
     "metadata": {},
     "output_type": "display_data"
    },
    {
     "name": "stdout",
     "output_type": "stream",
     "text": [
      "Conditional Probability Distribution for BP:\n",
      "+------------+----------------------+-----+-------------+\n",
      "| CO         | CO(HIGH)             | ... | CO(NORMAL)  |\n",
      "+------------+----------------------+-----+-------------+\n",
      "| TPR        | TPR(HIGH)            | ... | TPR(NORMAL) |\n",
      "+------------+----------------------+-----+-------------+\n",
      "| BP(HIGH)   | 0.896551724137931    | ... | 0.046875    |\n",
      "+------------+----------------------+-----+-------------+\n",
      "| BP(LOW)    | 0.006896551724137931 | ... | 0.046875    |\n",
      "+------------+----------------------+-----+-------------+\n",
      "| BP(NORMAL) | 0.09655172413793103  | ... | 0.90625     |\n",
      "+------------+----------------------+-----+-------------+\n",
      "Conditional Probability Distribution for HREKG:\n",
      "+---------------+-----+---------------------+\n",
      "| ERRCAUTER     | ... | ERRCAUTER(TRUE)     |\n",
      "+---------------+-----+---------------------+\n",
      "| HR            | ... | HR(NORMAL)          |\n",
      "+---------------+-----+---------------------+\n",
      "| HREKG(HIGH)   | ... | 0.2857142857142857  |\n",
      "+---------------+-----+---------------------+\n",
      "| HREKG(LOW)    | ... | 0.19047619047619047 |\n",
      "+---------------+-----+---------------------+\n",
      "| HREKG(NORMAL) | ... | 0.5238095238095238  |\n",
      "+---------------+-----+---------------------+\n",
      "Conditional Probability Distribution for PCWP:\n",
      "+--------------+----------------------+-----------------+----------------------+\n",
      "| LVEDVOLUME   | LVEDVOLUME(HIGH)     | LVEDVOLUME(LOW) | LVEDVOLUME(NORMAL)   |\n",
      "+--------------+----------------------+-----------------+----------------------+\n",
      "| PCWP(HIGH)   | 0.9444444444444444   | 0.0             | 0.014204545454545454 |\n",
      "+--------------+----------------------+-----------------+----------------------+\n",
      "| PCWP(LOW)    | 0.018518518518518517 | 0.9625          | 0.03551136363636364  |\n",
      "+--------------+----------------------+-----------------+----------------------+\n",
      "| PCWP(NORMAL) | 0.037037037037037035 | 0.0375          | 0.9502840909090909   |\n",
      "+--------------+----------------------+-----------------+----------------------+\n",
      "Conditional Probability Distribution for LVFAILURE:\n",
      "+------------------+-------+\n",
      "| LVFAILURE(FALSE) | 0.955 |\n",
      "+------------------+-------+\n",
      "| LVFAILURE(TRUE)  | 0.045 |\n",
      "+------------------+-------+\n",
      "Conditional Probability Distribution for PVSAT:\n",
      "+---------------+---------------+-----+----------------------+\n",
      "| FIO2          | FIO2(LOW)     | ... | FIO2(NORMAL)         |\n",
      "+---------------+---------------+-----+----------------------+\n",
      "| VENTALV       | VENTALV(HIGH) | ... | VENTALV(ZERO)        |\n",
      "+---------------+---------------+-----+----------------------+\n",
      "| PVSAT(HIGH)   | 0.0           | ... | 0.0                  |\n",
      "+---------------+---------------+-----+----------------------+\n",
      "| PVSAT(LOW)    | 0.0           | ... | 0.9939849624060151   |\n",
      "+---------------+---------------+-----+----------------------+\n",
      "| PVSAT(NORMAL) | 1.0           | ... | 0.006015037593984963 |\n",
      "+---------------+---------------+-----+----------------------+\n",
      "Conditional Probability Distribution for HYPOVOLEMIA:\n",
      "+--------------------+-------+\n",
      "| HYPOVOLEMIA(FALSE) | 0.782 |\n",
      "+--------------------+-------+\n",
      "| HYPOVOLEMIA(TRUE)  | 0.218 |\n",
      "+--------------------+-------+\n",
      "Conditional Probability Distribution for STROKEVOLUME:\n",
      "+----------------------+-----+-------------------+\n",
      "| HYPOVOLEMIA          | ... | HYPOVOLEMIA(TRUE) |\n",
      "+----------------------+-----+-------------------+\n",
      "| LVFAILURE            | ... | LVFAILURE(TRUE)   |\n",
      "+----------------------+-----+-------------------+\n",
      "| STROKEVOLUME(HIGH)   | ... | 0.0               |\n",
      "+----------------------+-----+-------------------+\n",
      "| STROKEVOLUME(LOW)    | ... | 1.0               |\n",
      "+----------------------+-----+-------------------+\n",
      "| STROKEVOLUME(NORMAL) | ... | 0.0               |\n",
      "+----------------------+-----+-------------------+\n",
      "Conditional Probability Distribution for PRESS:\n",
      "+---------------+-----+----------------------+\n",
      "| INTUBATION    | ... | INTUBATION(ONESIDED) |\n",
      "+---------------+-----+----------------------+\n",
      "| KINKEDTUBE    | ... | KINKEDTUBE(TRUE)     |\n",
      "+---------------+-----+----------------------+\n",
      "| VENTTUBE      | ... | VENTTUBE(ZERO)       |\n",
      "+---------------+-----+----------------------+\n",
      "| PRESS(HIGH)   | ... | 0.25                 |\n",
      "+---------------+-----+----------------------+\n",
      "| PRESS(LOW)    | ... | 0.25                 |\n",
      "+---------------+-----+----------------------+\n",
      "| PRESS(NORMAL) | ... | 0.25                 |\n",
      "+---------------+-----+----------------------+\n",
      "| PRESS(ZERO)   | ... | 0.25                 |\n",
      "+---------------+-----+----------------------+\n",
      "Conditional Probability Distribution for LVEDVOLUME:\n",
      "+--------------------+-----+---------------------+\n",
      "| HYPOVOLEMIA        | ... | HYPOVOLEMIA(TRUE)   |\n",
      "+--------------------+-----+---------------------+\n",
      "| LVFAILURE          | ... | LVFAILURE(TRUE)     |\n",
      "+--------------------+-----+---------------------+\n",
      "| LVEDVOLUME(HIGH)   | ... | 0.0                 |\n",
      "+--------------------+-----+---------------------+\n",
      "| LVEDVOLUME(LOW)    | ... | 0.8571428571428571  |\n",
      "+--------------------+-----+---------------------+\n",
      "| LVEDVOLUME(NORMAL) | ... | 0.14285714285714285 |\n",
      "+--------------------+-----+---------------------+\n",
      "Conditional Probability Distribution for MINVOLSET:\n",
      "+-------------------+-------+\n",
      "| MINVOLSET(HIGH)   | 0.045 |\n",
      "+-------------------+-------+\n",
      "| MINVOLSET(LOW)    | 0.044 |\n",
      "+-------------------+-------+\n",
      "| MINVOLSET(NORMAL) | 0.911 |\n",
      "+-------------------+-------+\n",
      "Conditional Probability Distribution for CO:\n",
      "+--------------+--------------------+-----+----------------------+\n",
      "| HR           | HR(HIGH)           | ... | HR(NORMAL)           |\n",
      "+--------------+--------------------+-----+----------------------+\n",
      "| STROKEVOLUME | STROKEVOLUME(HIGH) | ... | STROKEVOLUME(NORMAL) |\n",
      "+--------------+--------------------+-----+----------------------+\n",
      "| CO(HIGH)     | 0.96875            | ... | 0.007194244604316547 |\n",
      "+--------------+--------------------+-----+----------------------+\n",
      "| CO(LOW)      | 0.03125            | ... | 0.007194244604316547 |\n",
      "+--------------+--------------------+-----+----------------------+\n",
      "| CO(NORMAL)   | 0.0                | ... | 0.9856115107913669   |\n",
      "+--------------+--------------------+-----+----------------------+\n",
      "Conditional Probability Distribution for PULMEMBOLUS:\n",
      "+--------------------+-------+\n",
      "| PULMEMBOLUS(FALSE) | 0.983 |\n",
      "+--------------------+-------+\n",
      "| PULMEMBOLUS(TRUE)  | 0.017 |\n",
      "+--------------------+-------+\n",
      "Conditional Probability Distribution for VENTALV:\n",
      "+-----------------+-----+----------------------+\n",
      "| INTUBATION      | ... | INTUBATION(ONESIDED) |\n",
      "+-----------------+-----+----------------------+\n",
      "| VENTLUNG        | ... | VENTLUNG(ZERO)       |\n",
      "+-----------------+-----+----------------------+\n",
      "| VENTALV(HIGH)   | ... | 0.0                  |\n",
      "+-----------------+-----+----------------------+\n",
      "| VENTALV(LOW)    | ... | 0.0                  |\n",
      "+-----------------+-----+----------------------+\n",
      "| VENTALV(NORMAL) | ... | 1.0                  |\n",
      "+-----------------+-----+----------------------+\n",
      "| VENTALV(ZERO)   | ... | 0.0                  |\n",
      "+-----------------+-----+----------------------+\n",
      "Conditional Probability Distribution for ANAPHYLAXIS:\n",
      "+--------------------+-------+\n",
      "| ANAPHYLAXIS(FALSE) | 0.993 |\n",
      "+--------------------+-------+\n",
      "| ANAPHYLAXIS(TRUE)  | 0.007 |\n",
      "+--------------------+-------+\n",
      "Conditional Probability Distribution for HRBP:\n",
      "+--------------+-----+--------------------+\n",
      "| ERRLOWOUTPUT | ... | ERRLOWOUTPUT(TRUE) |\n",
      "+--------------+-----+--------------------+\n",
      "| HR           | ... | HR(NORMAL)         |\n",
      "+--------------+-----+--------------------+\n",
      "| HRBP(HIGH)   | ... | 0.125              |\n",
      "+--------------+-----+--------------------+\n",
      "| HRBP(LOW)    | ... | 0.5                |\n",
      "+--------------+-----+--------------------+\n",
      "| HRBP(NORMAL) | ... | 0.375              |\n",
      "+--------------+-----+--------------------+\n",
      "Conditional Probability Distribution for HRSAT:\n",
      "+---------------+-----+---------------------+\n",
      "| ERRCAUTER     | ... | ERRCAUTER(TRUE)     |\n",
      "+---------------+-----+---------------------+\n",
      "| HR            | ... | HR(NORMAL)          |\n",
      "+---------------+-----+---------------------+\n",
      "| HRSAT(HIGH)   | ... | 0.47619047619047616 |\n",
      "+---------------+-----+---------------------+\n",
      "| HRSAT(LOW)    | ... | 0.2857142857142857  |\n",
      "+---------------+-----+---------------------+\n",
      "| HRSAT(NORMAL) | ... | 0.23809523809523808 |\n",
      "+---------------+-----+---------------------+\n",
      "Conditional Probability Distribution for MINVOL:\n",
      "+----------------+-----+----------------------+\n",
      "| INTUBATION     | ... | INTUBATION(ONESIDED) |\n",
      "+----------------+-----+----------------------+\n",
      "| VENTLUNG       | ... | VENTLUNG(ZERO)       |\n",
      "+----------------+-----+----------------------+\n",
      "| MINVOL(HIGH)   | ... | 0.0                  |\n",
      "+----------------+-----+----------------------+\n",
      "| MINVOL(LOW)    | ... | 0.0                  |\n",
      "+----------------+-----+----------------------+\n",
      "| MINVOL(NORMAL) | ... | 0.9565217391304348   |\n",
      "+----------------+-----+----------------------+\n",
      "| MINVOL(ZERO)   | ... | 0.043478260869565216 |\n",
      "+----------------+-----+----------------------+\n",
      "Conditional Probability Distribution for ARTCO2:\n",
      "+----------------+-----+----------------------+\n",
      "| VENTALV        | ... | VENTALV(ZERO)        |\n",
      "+----------------+-----+----------------------+\n",
      "| ARTCO2(HIGH)   | ... | 0.9799426934097422   |\n",
      "+----------------+-----+----------------------+\n",
      "| ARTCO2(LOW)    | ... | 0.011461318051575931 |\n",
      "+----------------+-----+----------------------+\n",
      "| ARTCO2(NORMAL) | ... | 0.008595988538681949 |\n",
      "+----------------+-----+----------------------+\n",
      "Conditional Probability Distribution for VENTMACH:\n",
      "+------------------+-----+----------------------+\n",
      "| MINVOLSET        | ... | MINVOLSET(NORMAL)    |\n",
      "+------------------+-----+----------------------+\n",
      "| VENTMACH(HIGH)   | ... | 0.012074643249176729 |\n",
      "+------------------+-----+----------------------+\n",
      "| VENTMACH(LOW)    | ... | 0.014270032930845226 |\n",
      "+------------------+-----+----------------------+\n",
      "| VENTMACH(NORMAL) | ... | 0.9220636663007684   |\n",
      "+------------------+-----+----------------------+\n",
      "| VENTMACH(ZERO)   | ... | 0.05159165751920966  |\n",
      "+------------------+-----+----------------------+\n",
      "Conditional Probability Distribution for EXPCO2:\n",
      "+----------------+----------------+-----+---------------------+\n",
      "| ARTCO2         | ARTCO2(HIGH)   | ... | ARTCO2(NORMAL)      |\n",
      "+----------------+----------------+-----+---------------------+\n",
      "| VENTLUNG       | VENTLUNG(HIGH) | ... | VENTLUNG(ZERO)      |\n",
      "+----------------+----------------+-----+---------------------+\n",
      "| EXPCO2(HIGH)   | 1.0            | ... | 0.0                 |\n",
      "+----------------+----------------+-----+---------------------+\n",
      "| EXPCO2(LOW)    | 0.0            | ... | 0.9393939393939394  |\n",
      "+----------------+----------------+-----+---------------------+\n",
      "| EXPCO2(NORMAL) | 0.0            | ... | 0.0                 |\n",
      "+----------------+----------------+-----+---------------------+\n",
      "| EXPCO2(ZERO)   | 0.0            | ... | 0.06060606060606061 |\n",
      "+----------------+----------------+-----+---------------------+\n",
      "Conditional Probability Distribution for TPR:\n",
      "+-------------+---------------------+-------------------+\n",
      "| ANAPHYLAXIS | ANAPHYLAXIS(FALSE)  | ANAPHYLAXIS(TRUE) |\n",
      "+-------------+---------------------+-------------------+\n",
      "| TPR(HIGH)   | 0.29506545820745217 | 0.0               |\n",
      "+-------------+---------------------+-------------------+\n",
      "| TPR(LOW)    | 0.3081570996978852  | 1.0               |\n",
      "+-------------+---------------------+-------------------+\n",
      "| TPR(NORMAL) | 0.39677744209466265 | 0.0               |\n",
      "+-------------+---------------------+-------------------+\n",
      "Conditional Probability Distribution for INSUFFANESTH:\n",
      "+---------------------+-------+\n",
      "| INSUFFANESTH(FALSE) | 0.897 |\n",
      "+---------------------+-------+\n",
      "| INSUFFANESTH(TRUE)  | 0.103 |\n",
      "+---------------------+-------+\n",
      "Conditional Probability Distribution for VENTLUNG:\n",
      "+------------------+-----+----------------------+\n",
      "| INTUBATION       | ... | INTUBATION(ONESIDED) |\n",
      "+------------------+-----+----------------------+\n",
      "| KINKEDTUBE       | ... | KINKEDTUBE(TRUE)     |\n",
      "+------------------+-----+----------------------+\n",
      "| VENTTUBE         | ... | VENTTUBE(ZERO)       |\n",
      "+------------------+-----+----------------------+\n",
      "| VENTLUNG(HIGH)   | ... | 0.25                 |\n",
      "+------------------+-----+----------------------+\n",
      "| VENTLUNG(LOW)    | ... | 0.25                 |\n",
      "+------------------+-----+----------------------+\n",
      "| VENTLUNG(NORMAL) | ... | 0.25                 |\n",
      "+------------------+-----+----------------------+\n",
      "| VENTLUNG(ZERO)   | ... | 0.25                 |\n",
      "+------------------+-----+----------------------+\n",
      "Conditional Probability Distribution for ERRCAUTER:\n",
      "+------------------+------+\n",
      "| ERRCAUTER(FALSE) | 0.91 |\n",
      "+------------------+------+\n",
      "| ERRCAUTER(TRUE)  | 0.09 |\n",
      "+------------------+------+\n",
      "Conditional Probability Distribution for CATECHOL:\n",
      "+------------------+-----+--------------------+\n",
      "| ARTCO2           | ... | ARTCO2(NORMAL)     |\n",
      "+------------------+-----+--------------------+\n",
      "| INSUFFANESTH     | ... | INSUFFANESTH(TRUE) |\n",
      "+------------------+-----+--------------------+\n",
      "| SAO2             | ... | SAO2(NORMAL)       |\n",
      "+------------------+-----+--------------------+\n",
      "| TPR              | ... | TPR(NORMAL)        |\n",
      "+------------------+-----+--------------------+\n",
      "| CATECHOL(HIGH)   | ... | 0.5                |\n",
      "+------------------+-----+--------------------+\n",
      "| CATECHOL(NORMAL) | ... | 0.5                |\n",
      "+------------------+-----+--------------------+\n",
      "Conditional Probability Distribution for SHUNT:\n",
      "+---------------+-----+----------------------+\n",
      "| INTUBATION    | ... | INTUBATION(ONESIDED) |\n",
      "+---------------+-----+----------------------+\n",
      "| PULMEMBOLUS   | ... | PULMEMBOLUS(TRUE)    |\n",
      "+---------------+-----+----------------------+\n",
      "| SHUNT(HIGH)   | ... | 1.0                  |\n",
      "+---------------+-----+----------------------+\n",
      "| SHUNT(NORMAL) | ... | 0.0                  |\n",
      "+---------------+-----+----------------------+\n",
      "Conditional Probability Distribution for INTUBATION:\n",
      "+------------------------+-------+\n",
      "| INTUBATION(ESOPHAGEAL) | 0.029 |\n",
      "+------------------------+-------+\n",
      "| INTUBATION(NORMAL)     | 0.916 |\n",
      "+------------------------+-------+\n",
      "| INTUBATION(ONESIDED)   | 0.055 |\n",
      "+------------------------+-------+\n",
      "Conditional Probability Distribution for PAP:\n",
      "+-------------+----------------------+----------------------+\n",
      "| PULMEMBOLUS | PULMEMBOLUS(FALSE)   | PULMEMBOLUS(TRUE)    |\n",
      "+-------------+----------------------+----------------------+\n",
      "| PAP(HIGH)   | 0.054933875890132246 | 0.5882352941176471   |\n",
      "+-------------+----------------------+----------------------+\n",
      "| PAP(LOW)    | 0.05595116988809766  | 0.058823529411764705 |\n",
      "+-------------+----------------------+----------------------+\n",
      "| PAP(NORMAL) | 0.8891149542217701   | 0.35294117647058826  |\n",
      "+-------------+----------------------+----------------------+\n",
      "Conditional Probability Distribution for ERRLOWOUTPUT:\n",
      "+---------------------+------+\n",
      "| ERRLOWOUTPUT(FALSE) | 0.95 |\n",
      "+---------------------+------+\n",
      "| ERRLOWOUTPUT(TRUE)  | 0.05 |\n",
      "+---------------------+------+\n",
      "Conditional Probability Distribution for FIO2:\n",
      "+--------------+-------+\n",
      "| FIO2(LOW)    | 0.044 |\n",
      "+--------------+-------+\n",
      "| FIO2(NORMAL) | 0.956 |\n",
      "+--------------+-------+\n",
      "Conditional Probability Distribution for DISCONNECT:\n",
      "+-------------------+-------+\n",
      "| DISCONNECT(FALSE) | 0.908 |\n",
      "+-------------------+-------+\n",
      "| DISCONNECT(TRUE)  | 0.092 |\n",
      "+-------------------+-------+\n",
      "Conditional Probability Distribution for HR:\n",
      "+------------+----------------------+---------------------+\n",
      "| CATECHOL   | CATECHOL(HIGH)       | CATECHOL(NORMAL)    |\n",
      "+------------+----------------------+---------------------+\n",
      "| HR(HIGH)   | 0.9                  | 0.07272727272727272 |\n",
      "+------------+----------------------+---------------------+\n",
      "| HR(LOW)    | 0.006741573033707865 | 0.06363636363636363 |\n",
      "+------------+----------------------+---------------------+\n",
      "| HR(NORMAL) | 0.09325842696629214  | 0.8636363636363636  |\n",
      "+------------+----------------------+---------------------+\n",
      "Conditional Probability Distribution for VENTTUBE:\n",
      "+------------------+-----+------------------+\n",
      "| DISCONNECT       | ... | DISCONNECT(TRUE) |\n",
      "+------------------+-----+------------------+\n",
      "| VENTMACH         | ... | VENTMACH(ZERO)   |\n",
      "+------------------+-----+------------------+\n",
      "| VENTTUBE(HIGH)   | ... | 0.0              |\n",
      "+------------------+-----+------------------+\n",
      "| VENTTUBE(LOW)    | ... | 0.0              |\n",
      "+------------------+-----+------------------+\n",
      "| VENTTUBE(NORMAL) | ... | 0.0              |\n",
      "+------------------+-----+------------------+\n",
      "| VENTTUBE(ZERO)   | ... | 1.0              |\n",
      "+------------------+-----+------------------+\n",
      "Conditional Probability Distribution for SAO2:\n",
      "+--------------+-------------+-----+---------------+---------------+\n",
      "| PVSAT        | PVSAT(HIGH) | ... | PVSAT(NORMAL) | PVSAT(NORMAL) |\n",
      "+--------------+-------------+-----+---------------+---------------+\n",
      "| SHUNT        | SHUNT(HIGH) | ... | SHUNT(HIGH)   | SHUNT(NORMAL) |\n",
      "+--------------+-------------+-----+---------------+---------------+\n",
      "| SAO2(HIGH)   | 0.0         | ... | 0.0           | 0.0           |\n",
      "+--------------+-------------+-----+---------------+---------------+\n",
      "| SAO2(LOW)    | 0.75        | ... | 1.0           | 0.0           |\n",
      "+--------------+-------------+-----+---------------+---------------+\n",
      "| SAO2(NORMAL) | 0.25        | ... | 0.0           | 1.0           |\n",
      "+--------------+-------------+-----+---------------+---------------+\n",
      "Conditional Probability Distribution for KINKEDTUBE:\n",
      "+-------------------+-------+\n",
      "| KINKEDTUBE(FALSE) | 0.969 |\n",
      "+-------------------+-------+\n",
      "| KINKEDTUBE(TRUE)  | 0.031 |\n",
      "+-------------------+-------+\n",
      "Conditional Probability Distribution for HISTORY:\n",
      "+------------+--------------------+--------------------+\n",
      "| LVFAILURE  | LVFAILURE(FALSE)   | LVFAILURE(TRUE)    |\n",
      "+------------+--------------------+--------------------+\n",
      "| HISTORY(0) | 0.6558075667259996 | 0.3124773548892636 |\n",
      "+------------+--------------------+--------------------+\n",
      "| HISTORY(1) | 0.3441924332740004 | 0.6875226451107364 |\n",
      "+------------+--------------------+--------------------+\n",
      "Conditional Probability Distribution for CVP:\n",
      "+------------+--------------------+---------------------+--------------------+\n",
      "| LVEDVOLUME | LVEDVOLUME(HIGH)   | LVEDVOLUME(LOW)     | LVEDVOLUME(NORMAL) |\n",
      "+------------+--------------------+---------------------+--------------------+\n",
      "| CVP(0)     | 0.6915642578922493 | 0.6284864355478395  | 0.2577568899679712 |\n",
      "+------------+--------------------+---------------------+--------------------+\n",
      "| CVP(1)     | 0.3084357421077507 | 0.37151356445216044 | 0.7422431100320288 |\n",
      "+------------+--------------------+---------------------+--------------------+\n"
     ]
    }
   ],
   "execution_count": 12
  },
  {
   "cell_type": "code",
   "metadata": {
    "ExecuteTime": {
     "end_time": "2024-12-08T19:36:32.207747Z",
     "start_time": "2024-12-08T19:36:32.206363Z"
    }
   },
   "source": [],
   "outputs": [],
   "execution_count": null
  }
 ],
 "metadata": {
  "kernelspec": {
   "display_name": "Python 3 (ipykernel)",
   "language": "python",
   "name": "python3"
  },
  "language_info": {
   "codemirror_mode": {
    "name": "ipython",
    "version": 3
   },
   "file_extension": ".py",
   "mimetype": "text/x-python",
   "name": "python",
   "nbconvert_exporter": "python",
   "pygments_lexer": "ipython3",
   "version": "3.10.11"
  }
 },
 "nbformat": 4,
 "nbformat_minor": 4
}
